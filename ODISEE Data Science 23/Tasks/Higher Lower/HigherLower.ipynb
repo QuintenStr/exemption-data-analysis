{
 "cells": [
  {
   "cell_type": "markdown",
   "id": "f51c7a21",
   "metadata": {},
   "source": [
    "## Oefeningen Python - Numpy - Pandas\n",
    "\n",
    "## Gok het correcte getal\n",
    "\n",
    "Maak een klasse voor een spel waarbij je een willekeurig getal moet gokken.\n",
    "Deze klasse moet de volgende zaken doen:\n",
    "* Een willekeurig getal tussen 0 en 20 genereren\n",
    "* Een \"start\" functie hebben om het spel te starten\n",
    "* In deze functie moet er herhaaldelijk om input gevraagd worden aan de gebruiker.\n",
    "* De input moet vergeleken worden met het random getal. Als je input:\n",
    "    * kleiner is dan het willekeurig getal, print je \"Te laag\"\n",
    "    * groter is dan het willekeurig getal, print je \"Te hoog\"\n",
    "    * gelijk is aan het getal, eindig je en print je dat je bent gewonnen\n",
    "    * Gelijk is aan \"Exit\", eindig je en print je dat je verloren bent.\n",
    "* Om te eindigen print je nog de volgende statistieken:\n",
    "    * Hoeveel keer dat je gegokt hebt\n",
    "    * Hoeveel je er gemiddeld naast zat\n",
    "    \n",
    "Vergeet zeker niet om de code te voorzien om het spel te starten"
   ]
  },
  {
   "cell_type": "code",
   "execution_count": null,
   "id": "dfdc6bd8",
   "metadata": {},
   "outputs": [],
   "source": [
    "from random import randint, random\n",
    "\n",
    "class TestGame:\n",
    "        \n",
    "    randomNummer = 0\n",
    "    aantalKerenGegokt = 0\n",
    "    arrayErNaast = []\n",
    "\n",
    "    def start():\n",
    "        global randomNummer\n",
    "        randomNummer = randint(1,20)\n",
    "\n",
    "        global aantalKerenGegokt\n",
    "        aantalKerenGegokt = 0\n",
    "\n",
    "        global arrayErNaast\n",
    "        arrayErNaast = []\n",
    "\n",
    "        global printStatistiek\n",
    "\n",
    "        while 1:\n",
    "            invoer = input()\n",
    "            aantalKerenGegokt +=  1\n",
    "            verschilGokEnNummer = 0\n",
    "\n",
    "            if int(invoer) > int(randomNummer):\n",
    "                print(\"Te hoog!\")\n",
    "                verschilGokEnNummer = int(invoer) - int(randomNummer)\n",
    "                arrayErNaast.append(verschilGokEnNummer)\n",
    "\n",
    "            if int(invoer) < int(randomNummer):\n",
    "                print(\"Te laag!\")\n",
    "                verschilGokEnNummer = int(randomNummer) - int(invoer)\n",
    "                arrayErNaast.append(verschilGokEnNummer)\n",
    "\n",
    "            if int(invoer) == int(randomNummer):\n",
    "                print(\"Gewonnen! Het getal was \" + str(randomNummer)),\n",
    "                printStatistiek(),\n",
    "                break\n",
    "\n",
    "            if str(invoer) == \"Exit\":\n",
    "                print(\"Spel afgesloten!\"),\n",
    "                printStatistiek(),\n",
    "                break\n",
    "\n",
    "    def printStatistiek():\n",
    "        print(\"Aantal keer gegokt: \" + str(aantalKerenGegokt)),\n",
    "        gemiddeldeNaast = float(sum(arrayErNaast))/aantalKerenGegokt\n",
    "        print(\"Je zat er gemiddeld met \" + str(gemiddeldeNaast) + \" naast.\")\n",
    "\n",
    "TestGame.start()"
   ]
  },
  {
   "cell_type": "markdown",
   "id": "4ede9315",
   "metadata": {},
   "source": [
    "## Matrix bewerkingen\n",
    "\n",
    "Maak functie voor het aanmaken een matrix waar elk waarde het product is van zijn rij en kolom index (bvb op rij 4 en kolom 5 moet er 20 staan). Deze functie moet als argument het aantal rij en aantal kolommen hebben.\n",
    "\n",
    "Maak met behulp van deze functie een matrix \"a\" van 5 rijen en 7 kolommen aan."
   ]
  },
  {
   "cell_type": "code",
   "execution_count": 114,
   "id": "9d63a17f",
   "metadata": {},
   "outputs": [
    {
     "name": "stdout",
     "output_type": "stream",
     "text": [
      "[[ 1.  2.  3.  4.  5.  6.  7.]\n",
      " [ 2.  4.  6.  8. 10. 12. 14.]\n",
      " [ 3.  6.  9. 12. 15. 18. 21.]\n",
      " [ 4.  8. 12. 16. 20. 24. 28.]\n",
      " [ 5. 10. 15. 20. 25. 30. 35.]]\n"
     ]
    }
   ],
   "source": [
    "import numpy as np\n",
    "\n",
    "def matrixMaken(rijen, kolommen):\n",
    "    a = np.empty((rijen, kolommen))\n",
    "    for j in range(rijen):\n",
    "        for i in range(kolommen):\n",
    "            a[j,i] = (j+1)*(i+1)\n",
    "    print(a)\n",
    "\n",
    "matrixMaken(5,7)"
   ]
  },
  {
   "cell_type": "markdown",
   "id": "49095555",
   "metadata": {},
   "source": [
    "Maak een functie die met behulp van slicing de volgorde van de elementen in matrix \"a\" omdraait."
   ]
  },
  {
   "cell_type": "code",
   "execution_count": 124,
   "id": "7914e68b",
   "metadata": {},
   "outputs": [
    {
     "name": "stdout",
     "output_type": "stream",
     "text": [
      "[[ 1.  2.  3.  4.  5.  6.  7.]\n",
      " [ 2.  4.  6.  8. 10. 12. 14.]\n",
      " [ 3.  6.  9. 12. 15. 18. 21.]\n",
      " [ 4.  8. 12. 16. 20. 24. 28.]\n",
      " [ 5. 10. 15. 20. 25. 30. 35.]]\n",
      "[[35. 30. 25. 20. 15. 10.  5.]\n",
      " [28. 24. 20. 16. 12.  8.  4.]\n",
      " [21. 18. 15. 12.  9.  6.  3.]\n",
      " [14. 12. 10.  8.  6.  4.  2.]\n",
      " [ 7.  6.  5.  4.  3.  2.  1.]]\n"
     ]
    }
   ],
   "source": [
    "import numpy as np\n",
    "\n",
    "def matrixMakenEnInversen(rijen, kolommen):\n",
    "    a = np.empty((rijen, kolommen))\n",
    "    for j in range(rijen):\n",
    "        for i in range(kolommen):\n",
    "            a[j,i] = (j+1)*(i+1)\n",
    "    print(a)\n",
    "    b = a[::-1, ::-1]\n",
    "    print(b)\n",
    "\n",
    "\n",
    "matrixMakenEnInversen(5,7)\n",
    "\n"
   ]
  },
  {
   "cell_type": "markdown",
   "id": "1f49bd78",
   "metadata": {},
   "source": [
    "Bereken de mean, median en standard deviation van elke kolom in matrix  \"a\"."
   ]
  },
  {
   "cell_type": "code",
   "execution_count": 138,
   "id": "0ba11e4a",
   "metadata": {},
   "outputs": [
    {
     "name": "stdout",
     "output_type": "stream",
     "text": [
      "[[ 1.  2.  3.  4.  5.  6.  7.]\n",
      " [ 2.  4.  6.  8. 10. 12. 14.]\n",
      " [ 3.  6.  9. 12. 15. 18. 21.]\n",
      " [ 4.  8. 12. 16. 20. 24. 28.]\n",
      " [ 5. 10. 15. 20. 25. 30. 35.]]\n",
      "Gemiddelde: 12.0\n",
      "Mediaan: 10.0\n",
      "Standaardafwijking: 8.717797887081348\n"
     ]
    }
   ],
   "source": [
    "import numpy as np\n",
    "\n",
    "def matrixMaken(rijen, kolommen):\n",
    "    a = np.empty((rijen, kolommen))\n",
    "    for j in range(rijen):\n",
    "        for i in range(kolommen):\n",
    "            a[j,i] = (j+1)*(i+1)\n",
    "    print(a)\n",
    "    print(\"Gemiddelde: \" + str(np.mean(a)))\n",
    "    print(\"Mediaan: \" + str(np.median(a)))\n",
    "    print(\"Standaardafwijking: \" + str(np.std(a)))\n",
    "\n",
    "matrixMaken(5,7)\n",
    "\n"
   ]
  },
  {
   "cell_type": "markdown",
   "id": "d5324de0",
   "metadata": {},
   "source": [
    "Bereken hoeveel elementen in matrix \"a\" groter zijn dan 20"
   ]
  },
  {
   "cell_type": "code",
   "execution_count": 145,
   "id": "fbf7f3cd",
   "metadata": {},
   "outputs": [
    {
     "name": "stdout",
     "output_type": "stream",
     "text": [
      "[[ 1.  2.  3.  4.  5.  6.  7.]\n",
      " [ 2.  4.  6.  8. 10. 12. 14.]\n",
      " [ 3.  6.  9. 12. 15. 18. 21.]\n",
      " [ 4.  8. 12. 16. 20. 24. 28.]\n",
      " [ 5. 10. 15. 20. 25. 30. 35.]]\n",
      "Er zijn: 6 elementen groter dan 20.\n"
     ]
    }
   ],
   "source": [
    "import numpy as np\n",
    "\n",
    "def matrixMaken(rijen, kolommen):\n",
    "    a = np.empty((rijen, kolommen))\n",
    "    for j in range(rijen):\n",
    "        for i in range(kolommen):\n",
    "            a[j,i] = (j+1)*(i+1)\n",
    "    print(a)\n",
    "    print(f\"Er zijn: {(a[a>20]).size} elementen groter dan 20.\")\n",
    "    \n",
    "matrixMaken(5,7)"
   ]
  },
  {
   "cell_type": "markdown",
   "id": "210b0dad",
   "metadata": {},
   "source": [
    "## Pandas\n",
    "\n",
    "Maak een dataframe aan voor het bijhouden van de scores van studenten.\n",
    "Hiervoor moeten er minstens drie kolommen zijn, namelijk naam van een student, naam van een vak en de bijhorende score. Voorzie minstens drie studenten die voor elk drie vakken een score hebben. (Minstens 9 rijen dus). De scores mogen zelf gekozen zijn maar zorg dat er minstens 1 vak is voor elke student dat overgedaan moet worden."
   ]
  },
  {
   "cell_type": "code",
   "execution_count": null,
   "id": "aae7696d",
   "metadata": {},
   "outputs": [],
   "source": []
  },
  {
   "cell_type": "markdown",
   "id": "96c22e0f",
   "metadata": {},
   "source": [
    "Op basis van dit dataframe gaan we nu een aantal zaken berekenen. Schrijf in de cellen de code om de gevraagde zaken te berekenen (dus enkel de eindwaarde is niet voldoende)\n",
    "Bereken voor elk vak de gemiddelde waarde, variantie en standaard afwijking"
   ]
  },
  {
   "cell_type": "code",
   "execution_count": null,
   "id": "92ef1661",
   "metadata": {},
   "outputs": [],
   "source": []
  },
  {
   "cell_type": "markdown",
   "id": "4f8d5151",
   "metadata": {},
   "source": [
    "Voor hoeveel vakken is elke student geslaagd? Hoeveel studenten zijn er geslaagd (Gemiddelde van hun vakken groter dan of gelijk aan 10)?"
   ]
  },
  {
   "cell_type": "code",
   "execution_count": null,
   "id": "b3276f6c",
   "metadata": {},
   "outputs": [],
   "source": []
  },
  {
   "cell_type": "markdown",
   "id": "8fae464a",
   "metadata": {},
   "source": [
    "Voeg nu een kolom toe waarin het percentage van elke score berekend wordt. Wat is het vak met het hoogste percentage van elke student?"
   ]
  },
  {
   "cell_type": "code",
   "execution_count": null,
   "id": "348afaaf",
   "metadata": {},
   "outputs": [],
   "source": []
  },
  {
   "cell_type": "markdown",
   "id": "21ae54ae",
   "metadata": {},
   "source": [
    "Er is een herkansing geweest en de drie studenten hebben elk 1 vak moeten overdoen. Maark hiervoon opnieuw een dataframe aan voeg het toe aan het vorige dataframe. Bepaal hierna opnieuw voor hoeveel vakken elke student geslaagd is (om conflicten te vermijden tussen eerste en tweede kans moeten de duplicaten verwijderd worden)."
   ]
  },
  {
   "cell_type": "code",
   "execution_count": null,
   "id": "f3026736",
   "metadata": {},
   "outputs": [],
   "source": []
  }
 ],
 "metadata": {
  "kernelspec": {
   "display_name": "Python 3.9.12 ('base')",
   "language": "python",
   "name": "python3"
  },
  "language_info": {
   "codemirror_mode": {
    "name": "ipython",
    "version": 3
   },
   "file_extension": ".py",
   "mimetype": "text/x-python",
   "name": "python",
   "nbconvert_exporter": "python",
   "pygments_lexer": "ipython3",
   "version": "3.9.12"
  },
  "vscode": {
   "interpreter": {
    "hash": "46aca180171c0bdc4213e29020fe16a661083e698ccdba183d9d55e63090e62e"
   }
  }
 },
 "nbformat": 4,
 "nbformat_minor": 5
}
