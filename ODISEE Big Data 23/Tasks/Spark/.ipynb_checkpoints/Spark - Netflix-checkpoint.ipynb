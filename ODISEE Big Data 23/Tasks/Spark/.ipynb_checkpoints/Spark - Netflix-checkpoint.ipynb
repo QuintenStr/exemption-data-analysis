{
 "cells": [
  {
   "cell_type": "markdown",
   "id": "86c9742b",
   "metadata": {},
   "source": [
    "# Oefening Data Cleaning en Modelling met Spark\n",
    "\n",
    "**Deadline:** ...\n",
    "\n",
    "In deze oefening wordt een dataset gebruikt die een overzicht van de films en series die op een bepaald moment beschikbaar waren via Netflix.\n",
    "Deze dataset kan [hier](https://www.kaggle.com/shivamb/netflix-shows) gevonden worden.\n",
    "Het doel in deze opgave is om te bekijken of we op basis van de beschrijving het type (serie of film) van de film te voorspellen.\n",
    "\n",
    "Om te beginnen, download de dataset en upload hem naar je distributed file systeem onder het path: **Oefeningen/Spark**.\n",
    "Voorzie ook code die deze folder reset naar een lege folder om geen naam-conflicten te hebben."
   ]
  },
  {
   "cell_type": "code",
   "execution_count": 1,
   "id": "a53acf9d",
   "metadata": {},
   "outputs": [],
   "source": [
    "import opendatasets as od\n",
    "import pydoop.hdfs as hdfs\n",
    "import pandas as pd\n",
    "from pyspark import SparkContext, SparkConf\n",
    "from pyspark.sql import SparkSession\n",
    "from pyspark.sql.functions import regexp_replace, col, sum, when, to_date, concat, lit, count, expr, trim, split, explode, rand\n",
    "from pyspark.ml.evaluation import RegressionEvaluator\n",
    "from pyspark.ml.tuning import ParamGridBuilder, CrossValidator\n",
    "from pyspark.ml.classification import LogisticRegression\n",
    "from pyspark.ml.evaluation import BinaryClassificationEvaluator\n",
    "from pyspark.ml import Pipeline\n",
    "from pyspark.ml.feature import CountVectorizer\n",
    "from pyspark.ml.feature import StopWordsRemover\n",
    "from pyspark.ml.feature import RegexTokenizer\n",
    "from pyspark.sql.types import DoubleType\n",
    "from pyspark.mllib.evaluation import MulticlassMetrics\n",
    "from pyspark.ml import PipelineModel\n",
    "import matplotlib.pyplot as plt\n",
    "import numpy as np"
   ]
  },
  {
   "cell_type": "code",
   "execution_count": 2,
   "id": "d5af3c1e",
   "metadata": {},
   "outputs": [
    {
     "name": "stdout",
     "output_type": "stream",
     "text": [
      "Skipping, found downloaded files in \"./netflix-shows\" (use force=True to force download)\n"
     ]
    }
   ],
   "source": [
    "# download dataset\n",
    "od.download(\"https://www.kaggle.com/shivamb/netflix-shows\")"
   ]
  },
  {
   "cell_type": "code",
   "execution_count": 3,
   "id": "f7811584",
   "metadata": {},
   "outputs": [
    {
     "name": "stderr",
     "output_type": "stream",
     "text": [
      "2023-04-01 20:22:32,611 WARN util.NativeCodeLoader: Unable to load native-hadoop library for your platform... using builtin-java classes where applicable\n"
     ]
    },
    {
     "name": "stdout",
     "output_type": "stream",
     "text": [
      "/Oefeningen/Spark\n"
     ]
    }
   ],
   "source": [
    "# start from clean state\n",
    "localFS = hdfs.hdfs(host='')\n",
    "client = hdfs.hdfs(host='localhost', port=9000)\n",
    "\n",
    "# if directory does not exists - make directory\n",
    "if not client.exists('/Oefeningen/Spark'):\n",
    "    client.create_directory('/Oefeningen/Spark')\n",
    "client.set_working_directory('/Oefeningen/Spark')\n",
    "print(client.working_directory())\n",
    "\n",
    "# do some cleaning in case anything else than input.txt is present\n",
    "for f in client.list_directory(\".\"):\n",
    "    if not f[\"name\"].endswith(\"netflix_titles.csv\"):\n",
    "        client.delete(f[\"name\"], True) # True om aan te geven dat folders ook verwijderd moeten worden"
   ]
  },
  {
   "cell_type": "code",
   "execution_count": 4,
   "id": "75fcf4b6",
   "metadata": {},
   "outputs": [
    {
     "data": {
      "text/plain": [
       "0"
      ]
     },
     "execution_count": 4,
     "metadata": {},
     "output_type": "execute_result"
    }
   ],
   "source": [
    "# upload de dataset naar hadoop\n",
    "localFS.copy(\"./netflix-shows/netflix_titles.csv\", client, \"netflix_titles.csv\") # upload file to hdfs"
   ]
  },
  {
   "cell_type": "markdown",
   "id": "ab3060d2",
   "metadata": {},
   "source": [
    "# Inladen dataset\n",
    "\n",
    "Als eerste stap moeten we de dataset inlezen van het hdfs en er een DataFrame aanmaken.\n",
    "Doe dit hieronder en print de volgende gegevens uit van het DataFrame:\n",
    "* Het schema van het dataframe\n",
    "* Het aantal rijen aanwezig in de dataframe\n",
    "* De eerste 5 rijen\n",
    "* Hoeveel nan or null-waarden zijn er aanwezig per kolom?"
   ]
  },
  {
   "cell_type": "code",
   "execution_count": 5,
   "id": "16a2a313",
   "metadata": {},
   "outputs": [
    {
     "name": "stderr",
     "output_type": "stream",
     "text": [
      "Setting default log level to \"WARN\".\n",
      "To adjust logging level use sc.setLogLevel(newLevel). For SparkR, use setLogLevel(newLevel).\n"
     ]
    },
    {
     "name": "stdout",
     "output_type": "stream",
     "text": [
      "23/04/01 20:22:48 WARN NativeCodeLoader: Unable to load native-hadoop library for your platform... using builtin-java classes where applicable\n",
      "23/04/01 20:22:49 WARN MacAddressUtil: Failed to find a usable hardware address from the network interfaces; using random bytes: b0:97:c9:1d:8f:05:84:6b\n"
     ]
    }
   ],
   "source": [
    "spark = SparkSession.builder.master('local[1]') \\\n",
    "                            .config(\"spark.driver.memory\", \"16g\") \\\n",
    "                            .config('spark.executor.memory', '4g') \\\n",
    "                            .appName('SparkOefening') \\\n",
    "                            .getOrCreate()"
   ]
  },
  {
   "cell_type": "code",
   "execution_count": 6,
   "id": "cfaafd31",
   "metadata": {},
   "outputs": [
    {
     "name": "stdout",
     "output_type": "stream",
     "text": [
      "Schema van df\n",
      "root\n",
      " |-- show_id: string (nullable = true)\n",
      " |-- type: string (nullable = true)\n",
      " |-- title: string (nullable = true)\n",
      " |-- director: string (nullable = true)\n",
      " |-- cast: string (nullable = true)\n",
      " |-- country: string (nullable = true)\n",
      " |-- date_added: string (nullable = true)\n",
      " |-- release_year: string (nullable = true)\n",
      " |-- rating: string (nullable = true)\n",
      " |-- duration: string (nullable = true)\n",
      " |-- listed_in: string (nullable = true)\n",
      " |-- description: string (nullable = true)\n",
      "\n",
      "Aantal rijen in df\n",
      "8807\n",
      "Eerste 5 rijen in df\n",
      "+-------+-------+--------------------+---------------+--------------------+-------------+------------------+------------+------+---------+--------------------+--------------------+\n",
      "|show_id|   type|               title|       director|                cast|      country|        date_added|release_year|rating| duration|           listed_in|         description|\n",
      "+-------+-------+--------------------+---------------+--------------------+-------------+------------------+------------+------+---------+--------------------+--------------------+\n",
      "|     s1|  Movie|Dick Johnson Is Dead|Kirsten Johnson|                null|United States|September 25, 2021|        2020| PG-13|   90 min|       Documentaries|As her father nea...|\n",
      "|     s2|TV Show|       Blood & Water|           null|Ama Qamata, Khosi...| South Africa|September 24, 2021|        2021| TV-MA|2 Seasons|International TV ...|After crossing pa...|\n",
      "|     s3|TV Show|           Ganglands|Julien Leclercq|Sami Bouajila, Tr...|         null|September 24, 2021|        2021| TV-MA| 1 Season|Crime TV Shows, I...|To protect his fa...|\n",
      "|     s4|TV Show|Jailbirds New Orl...|           null|                null|         null|September 24, 2021|        2021| TV-MA| 1 Season|Docuseries, Reali...|Feuds, flirtation...|\n",
      "|     s5|TV Show|        Kota Factory|           null|Mayur More, Jiten...|        India|September 24, 2021|        2021| TV-MA|2 Seasons|International TV ...|In a city of coac...|\n",
      "+-------+-------+--------------------+---------------+--------------------+-------------+------------------+------------+------+---------+--------------------+--------------------+\n",
      "only showing top 5 rows\n",
      "\n",
      "+-------+----+-----+--------+----+-------+----------+------------+------+--------+---------+-----------+\n",
      "|show_id|type|title|director|cast|country|date_added|release_year|rating|duration|listed_in|description|\n",
      "+-------+----+-----+--------+----+-------+----------+------------+------+--------+---------+-----------+\n",
      "|      0|   0|    0|    2634| 825|    831|        10|           0|     4|       3|        0|          0|\n",
      "+-------+----+-----+--------+----+-------+----------+------------+------+--------+---------+-----------+\n",
      "\n"
     ]
    }
   ],
   "source": [
    "# Df inlezen\n",
    "df = spark.read.csv('/Oefeningen/Spark/netflix_titles.csv', header=True, sep=',', quote='\\\"', escape='\\\"')\n",
    "\n",
    "# Schema van df\n",
    "print(\"Schema van df\")\n",
    "df.printSchema()\n",
    "\n",
    "# Aantal rijen aanwezig in de df\n",
    "print(\"Aantal rijen in df\")\n",
    "print(df.count())\n",
    "\n",
    "# Eerste 5 rijen\n",
    "print(\"Eerste 5 rijen in df\")\n",
    "df.show(5)\n",
    "\n",
    "# Hoeveel nan or null per kolom\n",
    "null_counts = df.select(*(sum(col(c).isNull().cast(\"int\")).alias(c) for c in df.columns))\n",
    "null_counts.show()"
   ]
  },
  {
   "cell_type": "markdown",
   "id": "dd95985f",
   "metadata": {},
   "source": [
    "**Bekijk de datastructuur van het dataframe. Is het dataformaat van elke kolom zoals verwacht? Welke stappen moeten er ondernomen worden om de datastructuur te verbeteren van het dataframe?**"
   ]
  },
  {
   "cell_type": "markdown",
   "id": "e9bc7557",
   "metadata": {},
   "source": [
    "Neen, alles is als een string ingelezen. We moeten de kolommen aanpassen naar de correcte datatypes. De IDs kan je de s verwijderen en dan het nummer als id gebruiken. Release year word een integer want is alleen het jaar, en date added wordt een date"
   ]
  },
  {
   "cell_type": "markdown",
   "id": "3c74d35e",
   "metadata": {},
   "source": [
    "## Aanpassen datastructuur\n",
    "\n",
    "Zorg er in de eerste stap voor dat de datatypes van de kolommen correct zijn. (getallen als integers, datums als dates, ...).\n",
    "Vul daarna alle ontbrekende waarden in met een \"unknown\" voor tekstuele waarden en -1 voor integer waarden.\n",
    "Kies voor de datums die ontbrekenen de eerste januari van het jaar waarin de film/serie is uitgebracht.\n",
    "Als dit jaar ontbreekt, zorg ervoor dat de datum waarop de film is toegevoegd 1 januari 1990 is. Een tip hiervoor is om te werken met de .where() en .otherwise() functies\n",
    "\n",
    "Verifieer de aanpassingen door opnieuw het schema uit te printen en de null waarden te tellen."
   ]
  },
  {
   "cell_type": "code",
   "execution_count": 7,
   "id": "6699a0d3",
   "metadata": {},
   "outputs": [
    {
     "name": "stdout",
     "output_type": "stream",
     "text": [
      "Schema van df na aanpassingen\n",
      "root\n",
      " |-- show_id: integer (nullable = true)\n",
      " |-- type: string (nullable = true)\n",
      " |-- title: string (nullable = true)\n",
      " |-- director: string (nullable = false)\n",
      " |-- cast: string (nullable = false)\n",
      " |-- country: string (nullable = false)\n",
      " |-- date_added: date (nullable = true)\n",
      " |-- release_year: integer (nullable = true)\n",
      " |-- rating: string (nullable = false)\n",
      " |-- duration: string (nullable = false)\n",
      " |-- listed_in: string (nullable = true)\n",
      " |-- description: string (nullable = true)\n",
      "\n",
      "+-------+----+-----+--------+----+-------+----------+------------+------+--------+---------+-----------+\n",
      "|show_id|type|title|director|cast|country|date_added|release_year|rating|duration|listed_in|description|\n",
      "+-------+----+-----+--------+----+-------+----------+------------+------+--------+---------+-----------+\n",
      "|      0|   0|    0|       0|   0|      0|         0|           0|     0|       0|        0|          0|\n",
      "+-------+----+-----+--------+----+-------+----------+------------+------+--------+---------+-----------+\n",
      "\n",
      "+-------+-------+--------------------+---------------+--------------------+-------------+----------+------------+------+---------+--------------------+--------------------+\n",
      "|show_id|   type|               title|       director|                cast|      country|date_added|release_year|rating| duration|           listed_in|         description|\n",
      "+-------+-------+--------------------+---------------+--------------------+-------------+----------+------------+------+---------+--------------------+--------------------+\n",
      "|      1|  Movie|Dick Johnson Is Dead|Kirsten Johnson|             unknown|United States|2021-09-25|        2020| PG-13|   90 min|       Documentaries|As her father nea...|\n",
      "|      2|TV Show|       Blood & Water|        unknown|Ama Qamata, Khosi...| South Africa|2021-09-24|        2021| TV-MA|2 Seasons|International TV ...|After crossing pa...|\n",
      "|      3|TV Show|           Ganglands|Julien Leclercq|Sami Bouajila, Tr...|      unknown|2021-09-24|        2021| TV-MA| 1 Season|Crime TV Shows, I...|To protect his fa...|\n",
      "|      4|TV Show|Jailbirds New Orl...|        unknown|             unknown|      unknown|2021-09-24|        2021| TV-MA| 1 Season|Docuseries, Reali...|Feuds, flirtation...|\n",
      "|      5|TV Show|        Kota Factory|        unknown|Mayur More, Jiten...|        India|2021-09-24|        2021| TV-MA|2 Seasons|International TV ...|In a city of coac...|\n",
      "+-------+-------+--------------------+---------------+--------------------+-------------+----------+------------+------+---------+--------------------+--------------------+\n",
      "only showing top 5 rows\n",
      "\n"
     ]
    }
   ],
   "source": [
    "# aanpassen schema dataframe\n",
    "\n",
    "# string kolommen opvullen: director, cast, country, rating, duration\n",
    "df = df.fillna({\n",
    "  'director': 'unknown',\n",
    "  'cast': 'unknown',\n",
    "  'country': 'unknown',\n",
    "  'rating': 'unknown',\n",
    "  'duration': 'unknown'\n",
    "})\n",
    "\n",
    "# date_added\n",
    "df = df.withColumn(\"date_added\", when(df[\"date_added\"].isNull(), \n",
    "                             concat(lit(\"January 1, \"), df[\"release_year\"]))\n",
    "                 .otherwise(df[\"date_added\"]))\n",
    "\n",
    "# id kolom s verwijderen en naar integer type\n",
    "df = df.withColumn(\"show_id\", regexp_replace(col(\"show_id\"), \"^s\", \"\").cast(\"integer\"))\n",
    "\n",
    "# datum omvormen\n",
    "df = df.withColumn(\"date_added\", trim(df.date_added))\n",
    "df = df.withColumn(\"date_added\", to_date(df.date_added, \"MMMM d, yyyy\"))\n",
    "\n",
    "# year als number (integer)\n",
    "df = df.withColumn(\"release_year\", col(\"release_year\").cast(\"integer\"))\n",
    "\n",
    "print(\"Schema van df na aanpassingen\")\n",
    "df.printSchema()\n",
    "\n",
    "null_counts = df.select(*(sum(col(c).isNull().cast(\"int\")).alias(c) for c in df.columns))\n",
    "null_counts.show()\n",
    "df.show(5)\n",
    "\n",
    "df_ready_freddy = df"
   ]
  },
  {
   "cell_type": "markdown",
   "id": "ac88ce08",
   "metadata": {},
   "source": [
    "## Bestuderen dataset\n",
    "\n",
    "Nu dat de data opgekuist is, is het mogelijk om een aantal zaken te berekenen voor het dataframe.\n",
    "Beantwoord nu de volgende vragen:\n",
    "* Hoeveel films en series zijn er aanwezig in het dataframe. \n",
    "* Hoeveel unieke ratings zijn er gekend?\n",
    "* Bereken het aantal films gereleased in elk jaar (negeer de onbekenden)\n",
    "* Hoeveel series hebben meer dan 5 seizoenen? Hoeveel films duren langer dan twee uur? Dit moet niet in 1 commando uitgevoerd worden.\n",
    "* Welke film heeft de langste beschrijving? Indien er meerdere zijn met hetzelfde aantal, toon ze allemaal.\n",
    "* Welke serie heeft de meeste acteurs? Indien er meerdere zijn met hetzelfde aantal, toon ze allemaal.\n",
    "* Welk land heeft het meeste PG-13 films gemaakt? Tel enkel films die in hoogstens in 1 land opgenomen zijn. Indien er meerdere zijn met hetzelfde aantal, toon ze allemaal.\n",
    "* Welke regisseurs hebben evenveel films als series gemaakt. Indien er meerdere zijn met hetzelfde aantal, toon ze allemaal."
   ]
  },
  {
   "cell_type": "code",
   "execution_count": 8,
   "id": "faaa3c9c",
   "metadata": {},
   "outputs": [
    {
     "name": "stderr",
     "output_type": "stream",
     "text": [
      "/home/bigdata/anaconda3/lib/python3.8/site-packages/pyspark/sql/dataframe.py:148: UserWarning: DataFrame.sql_ctx is an internal property, and will be removed in future releases. Use DataFrame.sparkSession instead.\n",
      "  warnings.warn(\n"
     ]
    },
    {
     "name": "stdout",
     "output_type": "stream",
     "text": [
      "Aantal series: 2676\n",
      "Aantal filmen 6131\n"
     ]
    }
   ],
   "source": [
    "# Vraag 1\n",
    "df.createOrReplaceTempView(\"temp_table\")\n",
    "\n",
    "serie_count = df.sql_ctx.sql(\"SELECT COUNT(*) AS serie_count FROM temp_table WHERE type = 'TV Show'\").collect()[0][\"serie_count\"]\n",
    "film_count = df.sql_ctx.sql(\"SELECT COUNT(*) AS film_count FROM temp_table WHERE type = 'Movie'\").collect()[0][\"film_count\"]\n",
    "\n",
    "print(\"Aantal series:\", serie_count)\n",
    "print(\"Aantal filmen\", film_count)"
   ]
  },
  {
   "cell_type": "code",
   "execution_count": 9,
   "id": "6ac66794",
   "metadata": {},
   "outputs": [
    {
     "name": "stdout",
     "output_type": "stream",
     "text": [
      "Aantal unieke ratings: 18\n"
     ]
    }
   ],
   "source": [
    "# Vraag 2\n",
    "num_distinct_ratings = df.sql_ctx.sql(\"SELECT COUNT(DISTINCT rating) AS num_distinct_ratings FROM temp_table\").collect()[0][\"num_distinct_ratings\"]\n",
    "\n",
    "print(\"Aantal unieke ratings:\", num_distinct_ratings)"
   ]
  },
  {
   "cell_type": "code",
   "execution_count": 10,
   "id": "f53869fd",
   "metadata": {},
   "outputs": [
    {
     "name": "stdout",
     "output_type": "stream",
     "text": [
      "+------------+-----+\n",
      "|release_year|count|\n",
      "+------------+-----+\n",
      "|        1942|    2|\n",
      "|        1943|    3|\n",
      "|        1944|    3|\n",
      "|        1945|    3|\n",
      "|        1946|    1|\n",
      "|        1947|    1|\n",
      "|        1954|    2|\n",
      "|        1955|    3|\n",
      "|        1956|    2|\n",
      "|        1958|    3|\n",
      "|        1959|    1|\n",
      "|        1960|    4|\n",
      "|        1961|    1|\n",
      "|        1962|    3|\n",
      "|        1963|    1|\n",
      "|        1964|    2|\n",
      "|        1965|    2|\n",
      "|        1966|    1|\n",
      "|        1967|    4|\n",
      "|        1968|    3|\n",
      "|        1969|    2|\n",
      "|        1970|    2|\n",
      "|        1971|    5|\n",
      "|        1972|    4|\n",
      "|        1973|   10|\n",
      "|        1974|    6|\n",
      "|        1975|    7|\n",
      "|        1976|    9|\n",
      "|        1977|    6|\n",
      "|        1978|    7|\n",
      "|        1979|   10|\n",
      "|        1980|   11|\n",
      "|        1981|   12|\n",
      "|        1982|   17|\n",
      "|        1983|   11|\n",
      "|        1984|   12|\n",
      "|        1985|    9|\n",
      "|        1986|   11|\n",
      "|        1987|    8|\n",
      "|        1988|   16|\n",
      "|        1989|   15|\n",
      "|        1990|   19|\n",
      "|        1991|   16|\n",
      "|        1992|   20|\n",
      "|        1993|   24|\n",
      "|        1994|   20|\n",
      "|        1995|   23|\n",
      "|        1996|   21|\n",
      "|        1997|   34|\n",
      "|        1998|   32|\n",
      "|        1999|   32|\n",
      "|        2000|   33|\n",
      "|        2001|   40|\n",
      "|        2002|   44|\n",
      "|        2003|   51|\n",
      "|        2004|   55|\n",
      "|        2005|   67|\n",
      "|        2006|   82|\n",
      "|        2007|   74|\n",
      "|        2008|  113|\n",
      "|        2009|  118|\n",
      "|        2010|  154|\n",
      "|        2011|  145|\n",
      "|        2012|  173|\n",
      "|        2013|  225|\n",
      "|        2014|  264|\n",
      "|        2015|  398|\n",
      "|        2016|  658|\n",
      "|        2017|  767|\n",
      "|        2018|  767|\n",
      "|        2019|  633|\n",
      "|        2020|  517|\n",
      "|        2021|  277|\n",
      "+------------+-----+\n",
      "\n"
     ]
    }
   ],
   "source": [
    "# Vraag 3\n",
    "result_df = spark.sql(\"SELECT release_year, COUNT(*) AS count FROM temp_table WHERE type = 'Movie' GROUP BY release_year ORDER BY release_year\")\n",
    "result_df.show(150)"
   ]
  },
  {
   "cell_type": "code",
   "execution_count": 11,
   "id": "2d291630",
   "metadata": {},
   "outputs": [
    {
     "name": "stdout",
     "output_type": "stream",
     "text": [
      "Aantal series met meer als 5 seizoenen: 99\n",
      "Aantal films die langer duren dan 2 uur: 1142\n"
     ]
    }
   ],
   "source": [
    "# Vraag 4.1\n",
    "result_df = spark.sql(\"SELECT COUNT(*) AS count FROM (SELECT CAST(REGEXP_REPLACE(duration, ' Seasons', '') AS INT) AS duration_int FROM temp_table WHERE type = 'TV Show') subquery WHERE duration_int > 5\").collect()[0][\"count\"]\n",
    "\n",
    "print(\"Aantal series met meer als 5 seizoenen:\", result_df)\n",
    "\n",
    "# Vraag 4.2\n",
    "result_df2 = spark.sql(\"SELECT COUNT(*) AS count FROM (SELECT CAST(REGEXP_REPLACE(duration, ' min', '') AS INT) AS duration_int FROM temp_table WHERE type = 'Movie') subquery WHERE duration_int > 120\").collect()[0][\"count\"]\n",
    "print(\"Aantal films die langer duren dan 2 uur:\", result_df2)"
   ]
  },
  {
   "cell_type": "code",
   "execution_count": 12,
   "id": "ea4ab807",
   "metadata": {},
   "outputs": [
    {
     "name": "stdout",
     "output_type": "stream",
     "text": [
      "23/04/01 20:23:38 WARN WindowExec: No Partition Defined for Window operation! Moving all data to a single partition, this can cause serious performance degradation.\n",
      "23/04/01 20:23:38 WARN WindowExec: No Partition Defined for Window operation! Moving all data to a single partition, this can cause serious performance degradation.\n",
      "23/04/01 20:23:38 WARN WindowExec: No Partition Defined for Window operation! Moving all data to a single partition, this can cause serious performance degradation.\n",
      "23/04/01 20:23:38 WARN WindowExec: No Partition Defined for Window operation! Moving all data to a single partition, this can cause serious performance degradation.\n",
      "23/04/01 20:23:38 WARN WindowExec: No Partition Defined for Window operation! Moving all data to a single partition, this can cause serious performance degradation.\n",
      "+-------+-----+---------------+-------------------+--------------------+-------+----------+------------+------+--------+--------------------+--------------------+-------+\n",
      "|show_id| type|          title|           director|                cast|country|date_added|release_year|rating|duration|           listed_in|         description|max_len|\n",
      "+-------+-----+---------------+-------------------+--------------------+-------+----------+------------+------+--------+--------------------+--------------------+-------+\n",
      "|   4798|Movie|Namastey London|Vipul Amrutlal Shah|Akshay Kumar, Kat...|  India|2018-07-01|        2007| TV-14| 130 min|Comedies, Dramas,...|To her Indian par...|    248|\n",
      "|   4949|Movie|          Billu|       Priyadarshan|Irrfan Khan, Shah...|  India|2018-04-01|        2009| TV-PG| 132 min|Dramas, Internati...|An Indian village...|    248|\n",
      "+-------+-----+---------------+-------------------+--------------------+-------+----------+------------+------+--------+--------------------+--------------------+-------+\n",
      "\n"
     ]
    }
   ],
   "source": [
    "# Vraag 5\n",
    "# eerst max length opvragen, dan alle records waar length overeenkomt met max length\n",
    "result_df = spark.sql(\"SELECT * FROM (SELECT *, MAX(LENGTH(description)) OVER () AS max_len FROM temp_table WHERE type = 'Movie') subquery WHERE LENGTH(description) = max_len\")\n",
    "result_df.show()"
   ]
  },
  {
   "cell_type": "code",
   "execution_count": 13,
   "id": "d203484e",
   "metadata": {},
   "outputs": [
    {
     "name": "stdout",
     "output_type": "stream",
     "text": [
      "23/04/01 20:23:39 WARN WindowExec: No Partition Defined for Window operation! Moving all data to a single partition, this can cause serious performance degradation.\n",
      "23/04/01 20:23:39 WARN WindowExec: No Partition Defined for Window operation! Moving all data to a single partition, this can cause serious performance degradation.\n",
      "23/04/01 20:23:39 WARN WindowExec: No Partition Defined for Window operation! Moving all data to a single partition, this can cause serious performance degradation.\n",
      "23/04/01 20:23:39 WARN WindowExec: No Partition Defined for Window operation! Moving all data to a single partition, this can cause serious performance degradation.\n",
      "23/04/01 20:23:39 WARN WindowExec: No Partition Defined for Window operation! Moving all data to a single partition, this can cause serious performance degradation.\n",
      "+-------+-------+---------------+--------+--------------------+--------------+----------+------------+------+---------+--------------------+--------------------+-------+\n",
      "|show_id|   type|          title|director|                cast|       country|date_added|release_year|rating| duration|           listed_in|         description|max_len|\n",
      "+-------+-------+---------------+--------+--------------------+--------------+----------+------------+------+---------+--------------------+--------------------+-------+\n",
      "|   1855|TV Show|Social Distance| unknown|Danielle Brooks, ...| United States|2020-10-15|        2020| TV-MA| 1 Season|TV Comedies, TV D...|Filmed in isolati...|     50|\n",
      "|   3775|TV Show|   Black Mirror| unknown|Jesse Plemons, Cr...|United Kingdom|2019-06-05|        2019| TV-MA|5 Seasons|British TV Shows,...|This sci-fi antho...|     50|\n",
      "+-------+-------+---------------+--------+--------------------+--------------+----------+------------+------+---------+--------------------+--------------------+-------+\n",
      "\n"
     ]
    }
   ],
   "source": [
    "# Vraag 6\n",
    "result_df = spark.sql(\"SELECT * FROM (SELECT *, MAX(size(split(cast, ', '))) OVER () AS max_len FROM temp_table WHERE type = 'TV Show') subquery WHERE size(split(cast, ', ')) = max_len\")\n",
    "result_df.show()"
   ]
  },
  {
   "cell_type": "code",
   "execution_count": 14,
   "id": "f6a3949c",
   "metadata": {
    "scrolled": true
   },
   "outputs": [
    {
     "name": "stdout",
     "output_type": "stream",
     "text": [
      "+-------------+--------+\n",
      "|      country|count(1)|\n",
      "+-------------+--------+\n",
      "|United States|     289|\n",
      "+-------------+--------+\n",
      "\n"
     ]
    }
   ],
   "source": [
    "# Vraag 7\n",
    "\n",
    "df7_tussenstap = spark.sql(\"SELECT *, size(split(country, ',')) AS country_size FROM temp_table\")\n",
    "df7_tussenstap.createOrReplaceTempView(\"temp_table2\")\n",
    "df7 = spark.sql(\"SELECT country, count(*) FROM temp_table2 WHERE type = 'Movie' AND rating = 'PG-13' AND country_size <= 1 GROUP BY country HAVING COUNT(*) = (SELECT COUNT(*) FROM temp_table2 WHERE type = 'Movie' AND rating = 'PG-13' AND country_size <= 1 GROUP BY country ORDER BY COUNT(*) DESC LIMIT 1 );\")\n",
    "df7.show()\n",
    "# uniated states heeft 289 films met rating pg-13 gemaakt, als ze de enige waren als land die aan die film heeft gewerkt."
   ]
  },
  {
   "cell_type": "code",
   "execution_count": 15,
   "id": "4a29f4d4",
   "metadata": {},
   "outputs": [
    {
     "name": "stdout",
     "output_type": "stream",
     "text": [
      "+------------------+-----+-------+\n",
      "|          director|Movie|TV Show|\n",
      "+------------------+-----+-------+\n",
      "|     Patricia Font|    1|      1|\n",
      "|     Alban Teurlai|    1|      1|\n",
      "|        Tig Notaro|    1|      1|\n",
      "|    Justin Webster|    1|      1|\n",
      "|        Noam Murro|    1|      1|\n",
      "| Tsutomu Mizushima|    1|      1|\n",
      "|   Olivier Megaton|    1|      1|\n",
      "|     Masaaki Yuasa|    1|      1|\n",
      "|   Houda Benyamina|    1|      1|\n",
      "|       Tosin Coker|    1|      1|\n",
      "|     Steven Bognar|    1|      1|\n",
      "|    Bunmi Ajakaiye|    1|      1|\n",
      "|     Kim Seong-hun|    1|      1|\n",
      "|        John Dower|    1|      1|\n",
      "|     Mark Tonderai|    1|      1|\n",
      "|      Ronna Gradus|    1|      1|\n",
      "|       Oriol Paulo|    1|      1|\n",
      "|       Faris Godus|    1|      1|\n",
      "|        Andrew Tan|    1|      1|\n",
      "|     Estela Renner|    1|      1|\n",
      "|     Thomas Astruc|    1|      1|\n",
      "|    Tensai Okamura|    1|      1|\n",
      "|       Luis Alfaro|    1|      1|\n",
      "|         Sion Sono|    1|      1|\n",
      "|     Rashida Jones|    1|      1|\n",
      "|    Julia Reichert|    1|      1|\n",
      "|         Mateo Gil|    1|      1|\n",
      "|     Robert Kenner|    1|      1|\n",
      "|       Joel Gallen|    1|      1|\n",
      "|      Billy Corben|    1|      1|\n",
      "|      Ziad Doueiri|    1|      1|\n",
      "|    Jerry Seinfeld|    1|      1|\n",
      "|     Jani Lachauer|    1|      1|\n",
      "|        Weica Wang|    1|      1|\n",
      "|     Daniel Kontur|    1|      1|\n",
      "| Alessandro Angulo|    1|      1|\n",
      "|       Kyran Kelly|    1|      1|\n",
      "|        Dan Forrer|    1|      1|\n",
      "|       Stan Lathan|    2|      2|\n",
      "|       Gary Howsam|    1|      1|\n",
      "|            Sarjun|    1|      1|\n",
      "| Jay Chandrasekhar|    1|      1|\n",
      "|        Vasan Bala|    1|      1|\n",
      "|        Jill Bauer|    1|      1|\n",
      "|Thierry Demaizière|    1|      1|\n",
      "|   Soumendra Padhi|    1|      1|\n",
      "|       Malik Nejer|    1|      1|\n",
      "+------------------+-----+-------+\n",
      "\n"
     ]
    }
   ],
   "source": [
    "# Vraag 8\n",
    "# code houd rekening mee dat er soms aan 1 film of 1 serie meerdere directors zijn dus vandaar explode\n",
    "df8 = df.withColumn('director', explode(split(df.director, ', ')))\n",
    "\n",
    "df8 = df8.groupby('director').pivot('type', ['Movie', 'TV Show']).count().fillna(0)\n",
    "\n",
    "df8.createOrReplaceTempView(\"temp_table3\")\n",
    "df9 = spark.sql(\"SELECT * FROM temp_table3 WHERE `Movie` = `TV Show`\")\n",
    "df9.show(150)"
   ]
  },
  {
   "cell_type": "markdown",
   "id": "d47842b7",
   "metadata": {},
   "source": [
    "## Trainen ML-model\n",
    "\n",
    "In de volgende stap gaan we een ML-model trainen door een pipeline aan te maken waarin de beschrijving van een film of serie in het dataframe omgezet wordt in een featurevector en deze gebruikt wordt om het type te voorspellen (film of serie). Plaats alle benodigde stappen in een pipeline die minstens over de volgende stappen beschikt:\n",
    "* Zet het type om naar een label\n",
    "* Zet de beschrijving om naar tokens\n",
    "* Verwijder de stopwoorden in deze tokens\n",
    "* Tel hoeveel keer elk woord voorkomt (Term frequency is hier voldoend)\n",
    "* Train een ML-model (regressie of classificatie?).\n",
    "\n",
    "Train deze pipeline en zorg ervoor dat het uiteindelijke model opgeslagen wordt.\n",
    "Zorg voor hyperparameter tuning (met een beperkt aantal combinaties).\n",
    "Voor het trainen moet de beschikbare data ook verdeeld worden in een training en testdata om het uiteindelijke model te kunnen evalueren."
   ]
  },
  {
   "cell_type": "code",
   "execution_count": 16,
   "id": "655edbaf",
   "metadata": {},
   "outputs": [],
   "source": [
    "# Build pipeline\n",
    "# #type kolom moet nog omgevormd worden naar een integer\n",
    "df_ready_freddy = df_ready_freddy.withColumn(\"label\", when(df[\"type\"] == \"Movie\", 0).otherwise(1))\n",
    "\n",
    "(training_data, test_data) = df_ready_freddy \\\n",
    "    .select([\"description\", \"label\"]) \\\n",
    "    .withColumn(\"rand\", rand()) \\\n",
    "    .sort(\"rand\") \\\n",
    "    .select(\"description\", \"label\") \\\n",
    "    .randomSplit([0.7, 0.3], seed=6969)\n",
    "\n",
    "tokenizer = RegexTokenizer(inputCol=\"description\", outputCol=\"words\", pattern=\"\\\\W\")\n",
    "stop_words_remover = StopWordsRemover(inputCol=tokenizer.getOutputCol(), outputCol=\"filtered_words\")\n",
    "count_vectorizer = CountVectorizer(inputCol=stop_words_remover.getOutputCol(), outputCol=\"features\")\n",
    "lr = LogisticRegression(featuresCol=\"features\", labelCol=\"label\")\n",
    "\n",
    "pipeline = Pipeline(stages=[tokenizer, stop_words_remover, count_vectorizer, lr])"
   ]
  },
  {
   "cell_type": "code",
   "execution_count": 17,
   "id": "308252e1",
   "metadata": {},
   "outputs": [],
   "source": [
    "# Train pipeline\n",
    "param_grid = ParamGridBuilder() \\\n",
    "    .addGrid(lr.regParam, [0.01, 0.1, 1.0]) \\\n",
    "    .addGrid(lr.elasticNetParam, [0.0, 0.5, 1.0]) \\\n",
    "    .addGrid(lr.threshold, [0.3, 0.5, 0.7]) \\\n",
    "    .build()"
   ]
  },
  {
   "cell_type": "code",
   "execution_count": 18,
   "id": "3f14f459",
   "metadata": {},
   "outputs": [],
   "source": [
    "crossval = CrossValidator(estimator=pipeline,\n",
    "                          estimatorParamMaps=param_grid,\n",
    "                          evaluator=BinaryClassificationEvaluator(metricName=\"areaUnderROC\"),\n",
    "                          numFolds=3)"
   ]
  },
  {
   "cell_type": "code",
   "execution_count": 19,
   "id": "4373dcad",
   "metadata": {
    "scrolled": true
   },
   "outputs": [
    {
     "name": "stderr",
     "output_type": "stream",
     "text": [
      "                                                                                \r"
     ]
    },
    {
     "name": "stdout",
     "output_type": "stream",
     "text": [
      "23/04/01 20:24:36 WARN InstanceBuilder$NativeBLAS: Failed to load implementation from:dev.ludovic.netlib.blas.JNIBLAS\n",
      "23/04/01 20:24:36 WARN InstanceBuilder$NativeBLAS: Failed to load implementation from:dev.ludovic.netlib.blas.ForeignLinkerBLAS\n"
     ]
    },
    {
     "name": "stderr",
     "output_type": "stream",
     "text": [
      "                                                                                \r"
     ]
    },
    {
     "name": "stdout",
     "output_type": "stream",
     "text": [
      "23/04/01 20:24:38 WARN BLAS: Failed to load implementation from: com.github.fommil.netlib.NativeSystemBLAS\n",
      "23/04/01 20:24:38 WARN BLAS: Failed to load implementation from: com.github.fommil.netlib.NativeRefBLAS\n"
     ]
    },
    {
     "name": "stderr",
     "output_type": "stream",
     "text": [
      "                                                                                \r"
     ]
    }
   ],
   "source": [
    "cv_model = crossval.fit(training_data)"
   ]
  },
  {
   "cell_type": "code",
   "execution_count": 20,
   "id": "9bfab224",
   "metadata": {},
   "outputs": [
    {
     "name": "stdout",
     "output_type": "stream",
     "text": [
      "Beste model zijn parameters:\n",
      "regParam: 1.0\n",
      "elasticNetParam: 0.0\n",
      "threshold: 0.3\n"
     ]
    }
   ],
   "source": [
    "best_pipeline_model = cv_model.bestModel\n",
    "\n",
    "lr_stage = best_pipeline_model.stages[-1]\n",
    "print(\"Beste model zijn parameters:\")\n",
    "print(\"regParam:\", lr_stage.getOrDefault(\"regParam\"))\n",
    "print(\"elasticNetParam:\", lr_stage.getOrDefault(\"elasticNetParam\"))\n",
    "print(\"threshold:\", lr_stage.getOrDefault(\"threshold\"))"
   ]
  },
  {
   "cell_type": "code",
   "execution_count": 21,
   "id": "6fabe612",
   "metadata": {},
   "outputs": [
    {
     "name": "stderr",
     "output_type": "stream",
     "text": [
      "                                                                                \r"
     ]
    }
   ],
   "source": [
    "# Save model\n",
    "best_pipeline_model.save('/Oefeningen/Spark/bestmodel_lr')"
   ]
  },
  {
   "cell_type": "markdown",
   "id": "5350c706",
   "metadata": {},
   "source": [
    "## Evalueren ML-model\n",
    "\n",
    "Vertrek nu vanaf het opgeslagen model door het in te laden vanaf het hadoop filesysteem.\n",
    "Maak de voorspellingen van de training en testdata.\n",
    "Gebruik nu de MulticlassMetrics klasse om de volgende metrieken te berekenen voor zowel trainings als testdata:\n",
    "* Accuraatheid\n",
    "* F1-score\n",
    "* Confusion matrix\n",
    "* Weighted Recall score\n",
    "\n",
    "Let op dat de MulticlassMetrics niet het volledige dataframe verwacht maar enkel een reeks tuples met de voorspellingen en de echte labels."
   ]
  },
  {
   "cell_type": "code",
   "execution_count": 22,
   "id": "e112d320",
   "metadata": {},
   "outputs": [],
   "source": [
    "# Inlezen pipeline via disk\n",
    "loaded_pipeline_model = PipelineModel.load('/Oefeningen/Spark/bestmodel_lr')"
   ]
  },
  {
   "cell_type": "code",
   "execution_count": 23,
   "id": "841cf0d9",
   "metadata": {},
   "outputs": [
    {
     "name": "stderr",
     "output_type": "stream",
     "text": [
      "/home/bigdata/anaconda3/lib/python3.8/site-packages/pyspark/sql/context.py:157: FutureWarning: Deprecated in 3.0.0. Use SparkSession.builder.getOrCreate() instead.\n",
      "  warnings.warn(\n"
     ]
    }
   ],
   "source": [
    "# Maak voorspellingen\n",
    "predictions = loaded_pipeline_model.transform(test_data)\n",
    "predictions = predictions.withColumn(\"label\", col(\"label\").cast(\"double\"))\n",
    "\n",
    "predictions_and_labels = predictions.select(\"prediction\", \"label\").rdd\n",
    "predictions_and_labels = predictions_and_labels.map(lambda x: (x.prediction, x.label))\n",
    "\n",
    "metrics = MulticlassMetrics(predictions_and_labels)"
   ]
  },
  {
   "cell_type": "code",
   "execution_count": 27,
   "id": "31a9b3a3",
   "metadata": {},
   "outputs": [
    {
     "name": "stdout",
     "output_type": "stream",
     "text": [
      "Accuracy = 0.7141776937618147\n"
     ]
    }
   ],
   "source": [
    "# Accuracy\n",
    "accuracy = metrics.accuracy\n",
    "print(\"Accuracy = %s\" % accuracy)"
   ]
  },
  {
   "cell_type": "code",
   "execution_count": 28,
   "id": "075a47b1",
   "metadata": {},
   "outputs": [
    {
     "name": "stdout",
     "output_type": "stream",
     "text": [
      "Weighted F1-score = 0.717943994227516\n"
     ]
    }
   ],
   "source": [
    "# Weighted F1-score\n",
    "weighted_f1_score = metrics.weightedFMeasure(beta=1.0)\n",
    "print(\"Weighted F1-score = %s\" % weighted_f1_score)"
   ]
  },
  {
   "cell_type": "code",
   "execution_count": 34,
   "id": "9800288d",
   "metadata": {
    "scrolled": false
   },
   "outputs": [
    {
     "name": "stdout",
     "output_type": "stream",
     "text": [
      "Confusion Matrix:\n",
      "[[1374.  426.]\n",
      " [ 330.  515.]]\n"
     ]
    },
    {
     "data": {
      "image/png": "[encoded data removed]",
      "text/plain": [
       "<Figure size 432x288 with 2 Axes>"
      ]
     },
     "metadata": {
      "needs_background": "light"
     },
     "output_type": "display_data"
    }
   ],
   "source": [
    "# Confusion matrix (thx chatgpt :D)\n",
    "confusion_matrix = metrics.confusionMatrix().toArray()\n",
    "print(\"Confusion Matrix:\\n%s\" % confusion_matrix)\n",
    "\n",
    "classes = [str(i) for i in range(confusion_matrix.shape[0])]\n",
    "\n",
    "fig, ax = plt.subplots()\n",
    "im = ax.imshow(confusion_matrix, cmap='Blues')\n",
    "\n",
    "ax.set_xticks(np.arange(len(classes)))\n",
    "ax.set_yticks(np.arange(len(classes)))\n",
    "ax.set_xticklabels(classes)\n",
    "ax.set_yticklabels(classes)\n",
    "ax.set_xlabel('Predicted label')\n",
    "ax.set_ylabel('True label')\n",
    "ax.xaxis.set_tick_params(rotation=90)\n",
    "\n",
    "cbar = ax.figure.colorbar(im, ax=ax)\n",
    "\n",
    "thresh = confusion_matrix.max() / 2\n",
    "for i in range(confusion_matrix.shape[0]):\n",
    "    for j in range(confusion_matrix.shape[1]):\n",
    "        ax.text(j, i, format(confusion_matrix[i, j], '.0f'),\n",
    "                ha=\"center\", va=\"center\",\n",
    "                color=\"white\" if confusion_matrix[i, j] > thresh else \"black\")\n",
    "\n",
    "plt.show()"
   ]
  },
  {
   "cell_type": "code",
   "execution_count": 30,
   "id": "d03ff4e2",
   "metadata": {},
   "outputs": [
    {
     "name": "stdout",
     "output_type": "stream",
     "text": [
      "Weighted Recall Score = 0.7141776937618147\n"
     ]
    }
   ],
   "source": [
    "# Weighted Recall score\n",
    "weighted_recall_score = metrics.weightedRecall\n",
    "print(\"Weighted Recall Score = %s\" % weighted_recall_score)"
   ]
  }
 ],
 "metadata": {
  "kernelspec": {
   "display_name": "Python 3 (ipykernel)",
   "language": "python",
   "name": "python3"
  },
  "language_info": {
   "codemirror_mode": {
    "name": "ipython",
    "version": 3
   },
   "file_extension": ".py",
   "mimetype": "text/x-python",
   "name": "python",
   "nbconvert_exporter": "python",
   "pygments_lexer": "ipython3",
   "version": "3.8.8"
  }
 },
 "nbformat": 4,
 "nbformat_minor": 5
}
