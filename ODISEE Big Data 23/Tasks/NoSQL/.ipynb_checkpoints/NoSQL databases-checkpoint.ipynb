{
 "cells": [
  {
   "cell_type": "markdown",
   "id": "0988867d",
   "metadata": {},
   "source": [
    "# NoSQL databases\n",
    "\n",
    "**Deadline:** 24/05/2022 om 23u59\n",
    "\n",
    "In deze notebook staan een aantal oefeningen over verschillende NoSQL databases.\n",
    "\n",
    "## Wide-column database - Cassandra\n",
    "\n",
    "Het eerste deel van de oefeningen gaat over Wide-column NoSQL Databases.\n",
    "De structuur hiervan lijkt het sterkst op SQL databases.\n",
    "Een veelgebruikte implementatie hiervan is [Cassandra](https://cassandra.apache.org/_/index.html).\n",
    "De Cassandra database zou reeds geinstalleerd moeten zijn en kan gestart worden in een terminal door het volgende commando uit te voeren:\n",
    "\n",
    "    cassandra\n",
    "\n",
    "Controleer in de cell hieronder de status van cassandra, hoe kan je aan de output zien of cassandra goed opgestart is?"
   ]
  },
  {
   "cell_type": "code",
   "execution_count": 174,
   "id": "3eb578a9",
   "metadata": {},
   "outputs": [
    {
     "name": "stdout",
     "output_type": "stream",
     "text": [
      "nodetool: Failed to connect to '127.0.0.1:7199' - URISyntaxException: 'Malformed IPv6 address at index 7: rmi://[127.0.0.1]:7199'.\r\n"
     ]
    }
   ],
   "source": [
    "!nodetool status"
   ]
  },
  {
   "cell_type": "markdown",
   "id": "369a0f24",
   "metadata": {},
   "source": [
    "**Controleer de status van cassandra:**\n",
    "\n",
    "Normaal gezien zou dit kunnen met \"nodetool status\" maar dit werkt niet bij mij. Cassandra is wel gewoon correct opgestart vermits ik kan verbinden en queries uitvoeren via het python package dat we hierna moeten installeren. PS: Ik heb ook heel het 1e deel kunnen maken met Cassandra dus ik ga er vanuit dat het werkt :)"
   ]
  },
  {
   "cell_type": "markdown",
   "id": "cc38eec9",
   "metadata": {},
   "source": [
    "**Antwoord:**\n",
    "\n",
    "Behalve rechtstreekse queries te schrijven voor het Cassandra DBMS, is er ook een python package dat kan connecteren met een Cassandra DBMS. \n",
    "De API van deze package kan je [hier](https://docs.datastax.com/en/developer/python-driver/3.25/getting_started/) vinden.\n",
    "Importeer deze package en connecteer met de lokale cassandra applicatie in de cell hieronder"
   ]
  },
  {
   "cell_type": "code",
   "execution_count": 2,
   "id": "1c048fe5",
   "metadata": {},
   "outputs": [
    {
     "name": "stdout",
     "output_type": "stream",
     "text": [
      "Requirement already satisfied: cassandra-driver in /home/bigdata/anaconda3/lib/python3.8/site-packages (3.25.0)\r\n",
      "Requirement already satisfied: six>=1.9 in /home/bigdata/anaconda3/lib/python3.8/site-packages (from cassandra-driver) (1.15.0)\r\n",
      "Requirement already satisfied: geomet<0.3,>=0.1 in /home/bigdata/anaconda3/lib/python3.8/site-packages (from cassandra-driver) (0.2.1.post1)\r\n",
      "Requirement already satisfied: click in /home/bigdata/anaconda3/lib/python3.8/site-packages (from geomet<0.3,>=0.1->cassandra-driver) (7.1.2)\r\n"
     ]
    }
   ],
   "source": [
    "!pip install cassandra-driver"
   ]
  },
  {
   "cell_type": "code",
   "execution_count": 3,
   "id": "950cb6a8",
   "metadata": {},
   "outputs": [],
   "source": [
    "from cassandra.cluster import Cluster"
   ]
  },
  {
   "cell_type": "markdown",
   "id": "497e3b41",
   "metadata": {},
   "source": [
    "Met behulp van het Cassandra Database Management Systeem gaan we een database maken voor een Movie Streaming website. \n",
    "Maak in de onderstaande cell eerst deze keyspace aan en zorg ervoor dat de \"Simpel Strategy\" gekozen word en zet de replication factor op 1 (1 omdat we lokaal werken hier en niet op een cluster).\n",
    "Voorzie ook een query om de beschikbare keyspaces op te vragen om te verifieren dat het correct is toegevoegd.\n",
    "Zorg er daarna voor dat de keyspace ook eerst verwijderd wordt (enkel als ze reeds bestaat) en dat je op het einde deze keyspace als default selecteert."
   ]
  },
  {
   "cell_type": "code",
   "execution_count": 16,
   "id": "c325f6e0",
   "metadata": {
    "scrolled": true
   },
   "outputs": [
    {
     "name": "stdout",
     "output_type": "stream",
     "text": [
      "Beschikbare keyspaces:\n",
      "system_auth\n",
      "system_schema\n",
      "system_distributed\n",
      "system\n",
      "system_traces\n",
      "movie_streaming\n"
     ]
    }
   ],
   "source": [
    "# Verbinding maken met de Cassandra-cluster\n",
    "cluster = Cluster(['localhost'])\n",
    "session = cluster.connect()\n",
    "\n",
    "# Keyspace naam\n",
    "keyspace_name = \"movie_streaming\"\n",
    "\n",
    "# Controleren op beschikbare keyspaces\n",
    "list_keyspaces_query = \"SELECT keyspace_name FROM system_schema.keyspaces\"\n",
    "keyspaces = session.execute(list_keyspaces_query)\n",
    "\n",
    "# Keyspace verwijderen als deze al bestaat\n",
    "if keyspace_name in [row.keyspace_name for row in keyspaces]:\n",
    "    drop_keyspace_query = f\"DROP KEYSPACE {keyspace_name}\"\n",
    "    session.execute(drop_keyspace_query)\n",
    "\n",
    "# Keyspace aanmaken met SimpleStrategy en replication factor 1\n",
    "create_keyspace_query = f\"CREATE KEYSPACE {keyspace_name} WITH REPLICATION = {{ 'class' : 'SimpleStrategy', 'replication_factor' : 1 }}\"\n",
    "session.execute(create_keyspace_query)\n",
    "\n",
    "# Keyspace als standaard selecteren\n",
    "use_keyspace_query = f\"USE {keyspace_name}\"\n",
    "session.execute(use_keyspace_query)\n",
    "\n",
    "# Controleren op beschikbare keyspaces\n",
    "list_keyspaces_query = \"SELECT keyspace_name FROM system_schema.keyspaces\"\n",
    "keyspaces = session.execute(list_keyspaces_query)\n",
    "\n",
    "# Printen van beschikbare keyspaces\n",
    "print(\"Beschikbare keyspaces:\")\n",
    "for row in keyspaces:\n",
    "    print(row.keyspace_name)"
   ]
  },
  {
   "cell_type": "markdown",
   "id": "7b2cd00a",
   "metadata": {},
   "source": [
    "Voor deze website willen we 3 tabellen aanmaken, namelijk voor de users, de beschikbare films en om gegeven scores bij te houden.\n",
    "Al deze tabellen moeten gegroepeerd worden in een bepaalde keyspace. \n",
    "De naam hiervan mag je zelf kiezen.\n",
    "Zorg voor minstens de volgende kolommen in de tabellen:\n",
    "* Users\n",
    " * Id\n",
    " * Naam\n",
    " * Email\n",
    " * Land\n",
    " * Geboortedatum\n",
    "* Films\n",
    " * Id\n",
    " * Naam\n",
    " * Genre\n",
    " * Duur (in minuten)\n",
    " * Beschrijving\n",
    "* Ratings\n",
    " * UserID\n",
    " * MovieID\n",
    " * Score\n",
    " * Timestamp\n",
    " \n",
    "Bij Cassandra zijn er verschillende manieren om de tabellen te sorteren, namelijk partitions, primary keys en  clustering columns.\n",
    "Wat is het verschil tussen partitions en clustering columns? Om welke reden is het belangrijk om hiervoor een goede keuze te maken?\n",
    "\n",
    "**Antwoord:**\n",
    "Sorteren op partitie houdt in dat gegevens binnen partities worden georganiseerd op basis van een specifieke kolom of kolommen. Hierdoor worden gegevens met vergelijkbare waarden in de partitiekolom(s) samen opgeslagen, wat de queryprestaties kan verbeteren door de hoeveelheid gegevens die voor een specifieke query moet worden geopend te verminderen.\n",
    "\n",
    "Sorteren op clusteringkolommen daarentegen houdt in dat de gegevens binnen elke partitie fysiek worden geordend op basis van één of meer clusteringkolommen. Deze rangschikking kan de queryprestaties verder verbeteren door gegevenslokalisatie te optimaliseren en de hoeveelheid gegevens die voor een specifieke query vanaf de schijf moet worden gelezen te minimaliseren.\n",
    "\n",
    "Het is belangrijk om de juiste techniek te kiezen omdat dit direct van invloed is op de efficiëntie en prestaties van gegevensopvraagoperaties. Sorteren op partitie is effectief wanneer er een duidelijke partitiekolom is die kan worden gebruikt om gegevens te scheiden, terwijl sorteren op clusteringkolommen aanvullende voordelen biedt door gegevens binnen partities te organiseren. De keuze hangt af van de specifieke vereisten van de uitgevoerde queries en de aard van de dataset.\n",
    "\n",
    "Schrijf hieronder de nodige code om bovenstaande tabellen aan te maken, de correcte datatypes te kiezen en de keys in te stellen.\n",
    "Controleer dit door na het aanmaken van de tabellen ook de nodige code te schrijven om alle aanwezige tabellen uit te printen.\n",
    "\n",
    "Let op voor de volgende zaken bij het toekennen van primary keys:\n",
    "* Heel veel queries worden uitgevoerd op de gebruikers van een bepaald land\n",
    "* Ook zijn er veel queries op de Films tabel die filteren op genre"
   ]
  },
  {
   "cell_type": "code",
   "execution_count": 123,
   "id": "0e1fda54",
   "metadata": {},
   "outputs": [
    {
     "name": "stdout",
     "output_type": "stream",
     "text": [
      "Aanwezige tabellen:\n",
      "films\n",
      "ratings\n",
      "users\n"
     ]
    }
   ],
   "source": [
    "# Tabel Users aanmaken\n",
    "session.execute(\"DROP TABLE IF EXISTS Users\")\n",
    "\n",
    "session.execute(\"\"\"CREATE TABLE Users (\n",
    "    Id UUID,\n",
    "    Naam TEXT,\n",
    "    Email TEXT,\n",
    "    Land TEXT,\n",
    "    Geboortedatum DATE,\n",
    "    PRIMARY KEY (Id, Land)\n",
    ")\"\"\")\n",
    "\n",
    "# Tabel Films aanmaken\n",
    "session.execute(\"DROP TABLE IF EXISTS Films\")\n",
    "\n",
    "session.execute(\"\"\"CREATE TABLE Films (\n",
    "    Id UUID,\n",
    "    Naam TEXT,\n",
    "    Genre TEXT,\n",
    "    Duur INT,\n",
    "    Beschrijving TEXT,\n",
    "    PRIMARY KEY (Id, Duur)\n",
    ") WITH CLUSTERING ORDER BY (Duur DESC)\"\"\")\n",
    "\n",
    "\n",
    "# Tabel Ratings aanmaken\n",
    "session.execute(\"DROP TABLE IF EXISTS Ratings\")\n",
    "\n",
    "session.execute(\"\"\"CREATE TABLE Ratings (\n",
    "    MovieID UUID,\n",
    "    UserID UUID,\n",
    "    Score DECIMAL,\n",
    "    Timestamp TIMESTAMP,\n",
    "    PRIMARY KEY (MovieID, UserID)\n",
    ")\"\"\")\n",
    "\n",
    "# Controleren op aanwezige tabellen\n",
    "list_tables_query = \"SELECT table_name FROM system_schema.tables WHERE keyspace_name = 'movie_streaming'\"\n",
    "tables = session.execute(list_tables_query)\n",
    "\n",
    "# Printen van aanwezige tabellen\n",
    "print(\"Aanwezige tabellen:\")\n",
    "for row in tables:\n",
    "    print(row.table_name)"
   ]
  },
  {
   "cell_type": "markdown",
   "id": "e31bd527",
   "metadata": {},
   "source": [
    "Schrijf hieronder de nodige queries om minstens 3 users, 3 films en 5 scores toe te voegen.\n",
    "Vul hierbij nooit de geboortedatum van de users en de beschrijving van de films in.\n",
    "Zorg hierbij voor voldoende variatie in gebruikerslanden/genres en scores"
   ]
  },
  {
   "cell_type": "code",
   "execution_count": 124,
   "id": "3f305bce",
   "metadata": {},
   "outputs": [
    {
     "data": {
      "text/plain": [
       "<cassandra.cluster.ResultSet at 0x7f8d002913a0>"
      ]
     },
     "execution_count": 124,
     "metadata": {},
     "output_type": "execute_result"
    }
   ],
   "source": [
    "import uuid\n",
    "\n",
    "# Users\n",
    "uuid1 = uuid.uuid1()\n",
    "uuid2 = uuid.uuid1()\n",
    "uuid3 = uuid.uuid1()\n",
    "\n",
    "session.execute(\"\"\"\n",
    "    INSERT INTO Users (Id, Naam, Email, Land)\n",
    "    VALUES (%s, %s, %s, %s)\"\"\",\n",
    "    (uuid1, \"Quinten\", \"quinten@studentodisee.be\", \"België\"))\n",
    "\n",
    "session.execute(\"\"\"\n",
    "    INSERT INTO Users (Id, Naam, Email, Land)\n",
    "    VALUES (%s, %s, %s, %s)\"\"\",\n",
    "    (uuid2, \"Iejan\", \"iejan@ordina.com\", \"België\"))\n",
    "\n",
    "session.execute(\"\"\"\n",
    "    INSERT INTO Users (Id, Naam, Email, Land)\n",
    "    VALUES (%s, %s, %s, %s)\"\"\",\n",
    "    (uuid3, \"Hanz\", \"hanz@audi.com\", \"Duitsland\"))\n",
    "\n",
    "# Films\n",
    "     \n",
    "uuid4 = uuid.uuid1()\n",
    "uuid5 = uuid.uuid1()\n",
    "uuid6 = uuid.uuid1()\n",
    "\n",
    "session.execute(\"\"\"\n",
    "    INSERT INTO Films (Id, Naam, Genre, Duur)\n",
    "    VALUES (%s, %s, %s, %s)\"\"\",\n",
    "    (uuid4, \"Interstellar\", \"Sci-Fi\", 170))\n",
    "\n",
    "session.execute(\"\"\"\n",
    "    INSERT INTO Films (Id, Naam, Genre, Duur)\n",
    "    VALUES (%s, %s, %s, %s)\"\"\",\n",
    "    (uuid5, \"Inception\", \"Mind-bending\", 230))\n",
    "\n",
    "session.execute(\"\"\"\n",
    "    INSERT INTO Films (Id, Naam, Genre, Duur)\n",
    "    VALUES (%s, %s, %s, %s)\"\"\",\n",
    "    (uuid6, \"The Godfather\", \"Mafia\", 140))"
   ]
  },
  {
   "cell_type": "code",
   "execution_count": 125,
   "id": "fb5029a8",
   "metadata": {},
   "outputs": [
    {
     "data": {
      "text/plain": [
       "<cassandra.cluster.ResultSet at 0x7f8d003dfdf0>"
      ]
     },
     "execution_count": 125,
     "metadata": {},
     "output_type": "execute_result"
    }
   ],
   "source": [
    "# Scores\n",
    "\n",
    "from faker import Faker\n",
    "fake = Faker()\n",
    "\n",
    "session.execute(\"\"\"\n",
    "    INSERT INTO Ratings (MovieID, UserID, Score, Timestamp)\n",
    "    VALUES (%s, %s, %s, %s)\"\"\",\n",
    "    (uuid4, uuid1, 3.0, int(fake.date_time_between(start_date='-3y', end_date='now').timestamp())))\n",
    "\n",
    "session.execute(\"\"\"\n",
    "    INSERT INTO Ratings (MovieID, UserID, Score, Timestamp)\n",
    "    VALUES (%s, %s, %s, %s)\"\"\",\n",
    "    (uuid4, uuid2, 10.0, int(fake.date_time_between(start_date='-3y', end_date='now').timestamp())))\n",
    "\n",
    "session.execute(\"\"\"\n",
    "    INSERT INTO Ratings (MovieID, UserID, Score, Timestamp)\n",
    "    VALUES (%s, %s, %s, %s)\"\"\",\n",
    "    (uuid5, uuid2, 9.0, int(fake.date_time_between(start_date='-2y', end_date='now').timestamp())))\n",
    "\n",
    "session.execute(\"\"\"\n",
    "    INSERT INTO Ratings (MovieID, UserID, Score, Timestamp)\n",
    "    VALUES (%s, %s, %s, %s)\"\"\",\n",
    "    (uuid6, uuid2, 6.0, int(fake.date_time_between(start_date='-7y', end_date='now').timestamp())))\n",
    "\n",
    "session.execute(\"\"\"\n",
    "    INSERT INTO Ratings (MovieID, UserID, Score, Timestamp)\n",
    "    VALUES (%s, %s, %s, %s)\"\"\",\n",
    "    (uuid5, uuid3, 8.0, int(fake.date_time_between(start_date='-4y', end_date='now').timestamp())))\n",
    "\n",
    "session.execute(\"\"\"\n",
    "    INSERT INTO Ratings (MovieID, UserID, Score, Timestamp)\n",
    "    VALUES (%s, %s, %s, %s)\"\"\",\n",
    "    (uuid4, uuid3, 6.0, int(fake.date_time_between(start_date='-9y', end_date='now').timestamp())))"
   ]
  },
  {
   "cell_type": "markdown",
   "id": "32b034f3",
   "metadata": {},
   "source": [
    "Om te controleren of de data goed is toegevoegd, schrijf hieronder de nodige code om de data in de tabellen/column families uit te printen."
   ]
  },
  {
   "cell_type": "code",
   "execution_count": 126,
   "id": "0bd56934",
   "metadata": {},
   "outputs": [
    {
     "name": "stdout",
     "output_type": "stream",
     "text": [
      "Users\n",
      "Row(id=UUID('1b78c346-f7da-11ed-8003-b1118fa20c9b'), land='België', email='iejan@ordina.com', geboortedatum=None, naam='Iejan')\n",
      "Row(id=UUID('1b78bf2c-f7da-11ed-8003-b1118fa20c9b'), land='België', email='quinten@studentodisee.be', geboortedatum=None, naam='Quinten')\n",
      "Row(id=UUID('1b78c5f8-f7da-11ed-8003-b1118fa20c9b'), land='Duitsland', email='hanz@audi.com', geboortedatum=None, naam='Hanz')\n",
      "Films\n",
      "Row(id=UUID('1b7ae57c-f7da-11ed-8003-b1118fa20c9b'), duur=170, beschrijving=None, genre='Sci-Fi', naam='Interstellar')\n",
      "Row(id=UUID('1b7ae86a-f7da-11ed-8003-b1118fa20c9b'), duur=230, beschrijving=None, genre='Mind-bending', naam='Inception')\n",
      "Row(id=UUID('1b7ae9d2-f7da-11ed-8003-b1118fa20c9b'), duur=140, beschrijving=None, genre='Mafia', naam='The Godfather')\n",
      "Ratings\n",
      "Row(movieid=UUID('1b7ae57c-f7da-11ed-8003-b1118fa20c9b'), userid=UUID('1b78bf2c-f7da-11ed-8003-b1118fa20c9b'), score=Decimal('3.0'), timestamp=datetime.datetime(1970, 1, 19, 14, 35, 39, 28000))\n",
      "Row(movieid=UUID('1b7ae57c-f7da-11ed-8003-b1118fa20c9b'), userid=UUID('1b78c346-f7da-11ed-8003-b1118fa20c9b'), score=Decimal('10.0'), timestamp=datetime.datetime(1970, 1, 20, 6, 20, 23, 749000))\n",
      "Row(movieid=UUID('1b7ae57c-f7da-11ed-8003-b1118fa20c9b'), userid=UUID('1b78c5f8-f7da-11ed-8003-b1118fa20c9b'), score=Decimal('6.0'), timestamp=datetime.datetime(1970, 1, 19, 9, 34, 2, 568000))\n",
      "Row(movieid=UUID('1b7ae86a-f7da-11ed-8003-b1118fa20c9b'), userid=UUID('1b78c346-f7da-11ed-8003-b1118fa20c9b'), score=Decimal('9.0'), timestamp=datetime.datetime(1970, 1, 20, 4, 22, 53, 479000))\n",
      "Row(movieid=UUID('1b7ae86a-f7da-11ed-8003-b1118fa20c9b'), userid=UUID('1b78c5f8-f7da-11ed-8003-b1118fa20c9b'), score=Decimal('8.0'), timestamp=datetime.datetime(1970, 1, 20, 0, 26, 40, 751000))\n",
      "Row(movieid=UUID('1b7ae9d2-f7da-11ed-8003-b1118fa20c9b'), userid=UUID('1b78c346-f7da-11ed-8003-b1118fa20c9b'), score=Decimal('6.0'), timestamp=datetime.datetime(1970, 1, 18, 17, 14, 15, 331000))\n"
     ]
    }
   ],
   "source": [
    "print('Users')\n",
    "\n",
    "rows = session.execute('SELECT * FROM Users')\n",
    "for row in rows:\n",
    "    print(row)\n",
    "    \n",
    "    \n",
    "print('Films')\n",
    "\n",
    "rows = session.execute('SELECT * FROM Films')\n",
    "for row in rows:\n",
    "    print(row)\n",
    "    \n",
    "    \n",
    "print('Ratings')\n",
    "\n",
    "rows = session.execute('SELECT * FROM Ratings')\n",
    "for row in rows:\n",
    "    print(row)"
   ]
  },
  {
   "cell_type": "markdown",
   "id": "78b4844c",
   "metadata": {},
   "source": [
    "Nu dat er een aantal rijen testdata in de database aanwezig is, kunnen een aantal veelgebruikte queries geschreven worden.\n",
    "Gebruik hiervoor prepared statemens voor de volgende zaken op te vragen:\n",
    "* Selecteer alle gebruikers binnen een bepaald land (het land is een parameter van het prepared statement)\n",
    "* Bereken de gemiddelde score van de films (Het resultaat moet het film id en gemiddelde score bevatten)\n",
    "* Geef een overzicht van alle beschikbare films, gesorteerd volgens de duurtijd met de langste films eerst.\n",
    "* Kies een bepaalde film, bereken de beste score gegeven aan deze gebruiker door een gebruiker uit een bepaald land. **Kan dit gedaan worden in 1 query? Indien niet, waarom niet? Hoe heb je dit aangepakt?**\n",
    "\n",
    "**Antwoord:** Nee het kan niet in een query omdat er geen joins zijn. Ik heb eerst de film id opgehaald voor film naam, en dan een lijst van user ids waar land overeenkomt met het land dat we willen. Dan heb ik de maximale score genomen waar movieid overeenkomt en userid in de lijst is van userids uit het land dat we willen."
   ]
  },
  {
   "cell_type": "code",
   "execution_count": 147,
   "id": "975eddb0",
   "metadata": {},
   "outputs": [
    {
     "name": "stdout",
     "output_type": "stream",
     "text": [
      "Users met Land = België:\n",
      "Row(id=UUID('1b78c346-f7da-11ed-8003-b1118fa20c9b'), land='België', email='iejan@ordina.com', geboortedatum=None, naam='Iejan')\n",
      "Row(id=UUID('1b78bf2c-f7da-11ed-8003-b1118fa20c9b'), land='België', email='quinten@studentodisee.be', geboortedatum=None, naam='Quinten')\n",
      "\n",
      "Gemiddelde score per movie uuid:\n",
      "Row(movieid=UUID('1b7ae57c-f7da-11ed-8003-b1118fa20c9b'), average_rating=Decimal('6.3'))\n",
      "Row(movieid=UUID('1b7ae86a-f7da-11ed-8003-b1118fa20c9b'), average_rating=Decimal('8.5'))\n",
      "Row(movieid=UUID('1b7ae9d2-f7da-11ed-8003-b1118fa20c9b'), average_rating=Decimal('6.0'))\n",
      "\n",
      "Alle films gesorteert op langste films eerst:\n",
      "Row(id=UUID('1b7ae86a-f7da-11ed-8003-b1118fa20c9b'), duur=230, beschrijving=None, genre='Mind-bending', naam='Inception')\n",
      "Row(id=UUID('1b7ae57c-f7da-11ed-8003-b1118fa20c9b'), duur=170, beschrijving=None, genre='Sci-Fi', naam='Interstellar')\n",
      "Row(id=UUID('1b7ae9d2-f7da-11ed-8003-b1118fa20c9b'), duur=140, beschrijving=None, genre='Mafia', naam='The Godfather')\n",
      "\n",
      "Hoogste rating voor film: The Godfather uit gebruikers uit land: België is: 6.0\n"
     ]
    }
   ],
   "source": [
    "# code voor de queries\n",
    "from cassandra.query import PreparedStatement\n",
    "\n",
    "# 1\n",
    "query = \"SELECT * FROM Users WHERE Land = ? ALLOW FILTERING\"\n",
    "prepared_statement = session.prepare(query)\n",
    "\n",
    "country_parameter = 'België'\n",
    "rows = session.execute(prepared_statement, [country_parameter])\n",
    "\n",
    "print(f\"Users met Land = {country_parameter}:\")\n",
    "for row in rows:\n",
    "    print(row)\n",
    "    \n",
    "# 2 voor deze vraag moest ik score int naar score decimal veranderen en ipv 3 bv 3.0 ingeven anders werden\n",
    "# de gemiddeldes als int gegeven en dus altijd afgerond wat niet optimaal is\n",
    "print(\"\\nGemiddelde score per movie uuid:\")\n",
    "\n",
    "query = \"SELECT MovieID, AVG(Score) as average_rating FROM Ratings GROUP BY MovieID ALLOW FILTERING\"\n",
    "prepared_statement = session.prepare(query)\n",
    "\n",
    "rows = session.execute(prepared_statement)\n",
    "\n",
    "for row in rows:\n",
    "    print(row)\n",
    "    \n",
    "# 3\n",
    "print(\"\\nAlle films gesorteert op langste films eerst:\")\n",
    "query = \"SELECT * FROM Films\"\n",
    "result = session.execute(query)\n",
    "\n",
    "films = list(result)\n",
    "sorted_films = sorted(films, key=lambda film: film.duur, reverse=True)\n",
    "\n",
    "for film in sorted_films:\n",
    "    print(film)\n",
    "\n",
    "# 4\n",
    "country = \"België\"\n",
    "movie = \"The Godfather\"\n",
    "\n",
    "select_users_by_country = session.prepare(\"SELECT * FROM Users WHERE Land = ? ALLOW FILTERING\")\n",
    "select_highest_rating = session.prepare(\"SELECT MAX(Score) FROM Ratings WHERE MovieID = ? AND UserID IN ? ALLOW FILTERING\")\n",
    "select_movie_id = session.prepare(\"SELECT Id FROM Films WHERE Naam = ? ALLOW FILTERING\")\n",
    "\n",
    "users_result_set = session.execute(select_users_by_country, [country])\n",
    "\n",
    "listofuserids = list()\n",
    "for row in users_result_set:\n",
    "    listofuserids.append(row.id)\n",
    "\n",
    "movieid = 0\n",
    "movie_id_result_set = session.execute(select_movie_id, [movie])\n",
    "for row in movie_id_result_set:\n",
    "    movieid = row.id\n",
    "\n",
    "highest_rating_result_set = session.execute(select_highest_rating, [movieid, listofuserids])\n",
    "highest_rating = highest_rating_result_set.one().system_max_score\n",
    "\n",
    "if(highest_rating == None):\n",
    "    print(f\"\\nGeen ratings gevonden voor film: {movie} uit gebruikers uit land: {country}\")\n",
    "else:\n",
    "    print(f\"\\nHoogste rating voor film: {movie} uit gebruikers uit land: {country} is: {highest_rating}\")"
   ]
  },
  {
   "cell_type": "markdown",
   "id": "c8f84d9f",
   "metadata": {},
   "source": [
    "## Key - value database - Redis\n",
    "\n",
    "Een tweede belangrijk type NoSQL database is een key-value database.\n",
    "Hierbij wordt de data opgeslagen als key-value pairs wat dus sterk lijkt op het concept van dictionaries.\n",
    "Een database systeem van dit type dat in de praktijk vaak gebruikt wordt is Redis.\n",
    "Dit is reeds geinstalleerd op je virtuele machine.\n",
    "Naast het aanbieden van een shell om manuele queries uit te voeren is er ook een sterk gelijkaardige python package, namelijk [redis-py](https://github.com/redis/redis-py).\n",
    "Op een aantal uitzondering na zijn de python functies analoog met de standaard Redis functies die [hier](https://redis.io/commands) opgelijst zijn.\n",
    "\n",
    "De oefening om het werking met een key-value NoSQL database is dat we een voorbeeld gaan maken van een webshop.\n",
    "Kies zelf minstens drie producten die je wilt verkopen in je winkel.\n",
    "Deze producten hebben de volgende gegevens:\n",
    "* Naam\n",
    "* Type\n",
    "* Kleur\n",
    "* Gewicht\n",
    "* Prijs\n",
    "* Voorraad\n",
    "* Aantal verkocht\n",
    "\n",
    "Voeg nu deze producten toe aan een redis database. \n",
    "Let hierbij op voor de volgende zaken:\n",
    "* Beperk het aantal keer dat er commando's verstuurd worden om de communicatietijd te minimaliseren\n",
    "* Gebruik een tag in de key om de producten te groeperen en gebruik een willekeurig ID als id van de producten. "
   ]
  },
  {
   "cell_type": "code",
   "execution_count": 170,
   "id": "71a28ada",
   "metadata": {},
   "outputs": [
    {
     "data": {
      "text/plain": [
       "True"
      ]
     },
     "execution_count": 170,
     "metadata": {},
     "output_type": "execute_result"
    }
   ],
   "source": [
    "# maak een redis database aan en voeg een aantal producten toe\n",
    "import redis\n",
    "\n",
    "r = redis.Redis()\n",
    "r.mset({\"{1}Id\": str(uuid.uuid1()), \"{1}Naam\": \"Asus Rog 3070ti\", \"{1}Type\": \"GPU\", \"{1}Kleur\": \"Zwart/RGB verlichting\", \"{1}Gewicht\": \"735g\", \"{1}Prijs\": \"1750.00\", \"{1}Voorraad\": 75, \"{1}Aantal verkocht\": 6})\n",
    "r.mset({\"{2}Id\": str(uuid.uuid1()), \"{2}Naam\": \"Intel i9 12700k\", \"{2}Type\": \"CPU\", \"{2}Kleur\": \"Grijs\", \"{2}Gewicht\": \"15g\", \"{2}Prijs\": \"659.99\", \"{2}Voorraad\": 60, \"{2}Aantal verkocht\": 12})\n",
    "r.mset({\"{3}Id\": str(uuid.uuid1()), \"{3}Naam\": \"Corsair 32gb DDR4\", \"{3}Type\": \"RAM\", \"{3}Kleur\": \"Wit/RGB verlichting\", \"{3}Gewicht\": \"350g\", \"{3}Prijs\": \"75.50\", \"{3}Voorraad\": 40, \"{3}Aantal verkocht\": 60})"
   ]
  },
  {
   "cell_type": "markdown",
   "id": "bfa9e4a6",
   "metadata": {},
   "source": [
    "Schrijf nu een functie dat toelaat om een gegeven aantal van 1 type product te kopen.\n",
    "Deze functie voert de volgende zaken uit:\n",
    "* Controleer of er voldoende voorraad is\n",
    "* Indien ja, verlaag de voorraad en tel het aantal verkochte product op\n",
    "* Zorg ervoor dat er gecontroleerd wordt dat de voorraad niet gewijzigd is tussen de stappen (transacties/vermijden race-condities)\n",
    "* Return of de aankoop gelukt is of niet."
   ]
  },
  {
   "cell_type": "code",
   "execution_count": 171,
   "id": "bf7dc36d",
   "metadata": {},
   "outputs": [],
   "source": [
    "# schrijf functie om een aantal items van 1 product te kopen\n",
    "def ItemBestellen(Id):\n",
    "    Voorraad = int(r.get(f'{Id}Voorraad'))\n",
    "    AantalVerkocht = int(r.get(f'{Id}Aantal verkocht'))\n",
    "    \n",
    "    print(f\"Resterende voorraad voor item {Id}: {Voorraad}\")\n",
    "    \n",
    "    if(Voorraad > 0) :\n",
    "        r.set(f'{Id}Voorraad', Voorraad - 1)\n",
    "        r.set(f'{Id}Aantal verkocht', AantalVerkocht + 1)\n",
    "        print('Bestelling geplaatst (voorraad met 1 gezakt, verkocht met 1 verhoogd)')\n",
    "    else:\n",
    "        print('Bestelling mislukt')"
   ]
  },
  {
   "cell_type": "markdown",
   "id": "77b19851",
   "metadata": {},
   "source": [
    "Koop nu een aantal willekeurige producten en controleer of de voorraad en aantal verkochtte producten na het aankopen van de producten correct is.\n",
    "Plaats de code om dit uit te voeren hieronder:"
   ]
  },
  {
   "cell_type": "code",
   "execution_count": 172,
   "id": "562c2a99",
   "metadata": {},
   "outputs": [
    {
     "name": "stdout",
     "output_type": "stream",
     "text": [
      "Resterende voorraad voor item {1}: 75\n",
      "Bestelling geplaatst (voorraad met 1 gezakt, verkocht met 1 verhoogd)\n",
      "Resterende voorraad voor item {2}: 60\n",
      "Bestelling geplaatst (voorraad met 1 gezakt, verkocht met 1 verhoogd)\n",
      "Resterende voorraad voor item {3}: 40\n",
      "Bestelling geplaatst (voorraad met 1 gezakt, verkocht met 1 verhoogd)\n"
     ]
    }
   ],
   "source": [
    "# koop een aantal producten van verscheidene producten en controleer het aantal\n",
    "ItemBestellen(\"{1}\")\n",
    "ItemBestellen(\"{2}\")\n",
    "ItemBestellen(\"{3}\")"
   ]
  },
  {
   "cell_type": "markdown",
   "id": "35de2d38",
   "metadata": {},
   "source": [
    "Door een probleem met de leverancier is er 1 product niet meer leverbaar.\n",
    "Het is nu nodig om deze key te verwijderen uit de database.\n",
    "Doe dit nu maar zorg ervoor dat de key maar na 10 seconden verwijder wordt."
   ]
  },
  {
   "cell_type": "code",
   "execution_count": 173,
   "id": "c3e52d40",
   "metadata": {},
   "outputs": [],
   "source": [
    "# verwijder 1 product, zorg voor een delay van 10 seconden\n",
    "import time\n",
    "\n",
    "time.sleep(10)\n",
    "\n",
    "keys = r.keys(\"{3}*\")\n",
    "for key in keys:\n",
    "    r.delete(key)"
   ]
  },
  {
   "cell_type": "markdown",
   "id": "09095d57",
   "metadata": {},
   "source": [
    "## Document databases - MongoDb\n",
    "\n",
    "Een derde belangrijk type van NoSQL databases zijn gebaseerd op het concept van documenten.\n",
    "Dit type is een subset van key-value databases wat meer optimalisaties toelaten voor het queryen op values.\n",
    "MongoDB is een populaire implementatie van dit type databases.\n",
    "Een package om binnen python te werken met MongoDb is pymongo.\n",
    "Meer informatie kan je [hier](https://pymongo.readthedocs.io/en/stable/) vinden.\n",
    "Met behulp van onderstaand commando kan de mongodb gestart worden.\n",
    "\n",
    "    mongod\n",
    "\n",
    "Dit commando start de MongoDb Server. Zolang deze applicatie draait kan je met MongoDb connecteren via een shell (niet geinstalleerd) of een api zoals pymongo."
   ]
  },
  {
   "cell_type": "markdown",
   "id": "03e651ed",
   "metadata": {},
   "source": [
    "In deze repository staat ook een json file met een reeks documenten die ingeladen kunnen worden in een database.\n",
    "Open de json eerst in een teksteditor en bekijk de gegevens die erin staan.\n",
    "Laad nu de documenten in de cell hieronder in door de volgende stappen uit te voeren:\n",
    "* Connecteer met mongodb\n",
    "* Laad de json file in\n",
    "* Maak een database aan in mongodb met naam \"database\"\n",
    "* Maak een collectie aan met de naam restaurants\n",
    "* Laad de data in de json file in in de net aangemaakte collectie\n",
    "* Print het aantal ingeladen documenten uit (het aantal documenten in de collectie)"
   ]
  },
  {
   "cell_type": "code",
   "execution_count": null,
   "id": "f6527991",
   "metadata": {},
   "outputs": [],
   "source": []
  },
  {
   "cell_type": "markdown",
   "id": "f388fcc5",
   "metadata": {},
   "source": [
    "Op basis van deze dataset kunnen een hele reeks queries uitgevoerd worden.\n",
    "Schrijf hieronder de nodige queries om de volgende zaken op te zoeken:\n",
    "* Toon van de eerste 5 documenten in de collectie de naam, soort keuken (cuisine) en wijk (borough). Zorg er ook voor dat \n",
    "* Toon een lijst met enkel de namen, straat en huisnummer van de bakkerijen in de collectie. Zorg ervoor dat enkel het 14e tot 27e document getoond wordt. \n",
    "* Toon de namen van alle Chinese restauranten met een score tussen 50 en 80.\n",
    "* Toon de top 5 restauranten met een Amerikaanse keuken op basis van de gemiddelde score. Let erop dat de hoogste score bovenaan staat en zorg ervoor dat enkel de naam van het restaurant, zijn restaurant_id (en niet het _id veld) en gemiddelde score getoond wordt.\n",
    "* Geef een lijst met alle keukens in de dataset.\n",
    "* Tel het aantal restaurants per soort keuken. Sorteer dit in aflopende volgorde en toon enkel de naam van de keuken en het aantal.\n",
    "* Hoeveel restauranten hebben in hun naam de tekst \"chez\" staan (niet noodzakelijk vooraan en niet hoofdlettergevoelig?\n",
    "* Geef een overzicht van enkel de namen van alle restaurants die minstens 7 \"A\" grades hebben gehad.\n",
    "\n",
    "Zorg bij het opstellen van deze queries er ook voor dat de resultaten uitgeprint worden (indien het er maximaal 20 zijn).\n",
    "De dataset is in het Engels opgesteld.\n",
    "Indien een bepaalde vertaling niet duidelijk is kan je steeds de json in een tekst editor openen "
   ]
  },
  {
   "cell_type": "code",
   "execution_count": null,
   "id": "77df23e6",
   "metadata": {},
   "outputs": [],
   "source": [
    "# query 1"
   ]
  },
  {
   "cell_type": "code",
   "execution_count": null,
   "id": "d0b0284e",
   "metadata": {},
   "outputs": [],
   "source": [
    "# query 2"
   ]
  },
  {
   "cell_type": "code",
   "execution_count": null,
   "id": "70cdbd08",
   "metadata": {},
   "outputs": [],
   "source": [
    "# query 3"
   ]
  },
  {
   "cell_type": "code",
   "execution_count": null,
   "id": "b8622bce",
   "metadata": {},
   "outputs": [],
   "source": [
    "#query 4"
   ]
  },
  {
   "cell_type": "code",
   "execution_count": null,
   "id": "dbb71f03",
   "metadata": {},
   "outputs": [],
   "source": [
    "# query 5"
   ]
  },
  {
   "cell_type": "code",
   "execution_count": null,
   "id": "96f3a5cc",
   "metadata": {},
   "outputs": [],
   "source": [
    "#query 5"
   ]
  },
  {
   "cell_type": "code",
   "execution_count": null,
   "id": "32032224",
   "metadata": {},
   "outputs": [],
   "source": [
    "#query 6"
   ]
  },
  {
   "cell_type": "code",
   "execution_count": null,
   "id": "36eda866",
   "metadata": {},
   "outputs": [],
   "source": [
    "#query 7"
   ]
  },
  {
   "cell_type": "code",
   "execution_count": null,
   "id": "da67daf2",
   "metadata": {},
   "outputs": [],
   "source": []
  }
 ],
 "metadata": {
  "kernelspec": {
   "display_name": "Python 3 (ipykernel)",
   "language": "python",
   "name": "python3"
  },
  "language_info": {
   "codemirror_mode": {
    "name": "ipython",
    "version": 3
   },
   "file_extension": ".py",
   "mimetype": "text/x-python",
   "name": "python",
   "nbconvert_exporter": "python",
   "pygments_lexer": "ipython3",
   "version": "3.8.8"
  }
 },
 "nbformat": 4,
 "nbformat_minor": 5
}
