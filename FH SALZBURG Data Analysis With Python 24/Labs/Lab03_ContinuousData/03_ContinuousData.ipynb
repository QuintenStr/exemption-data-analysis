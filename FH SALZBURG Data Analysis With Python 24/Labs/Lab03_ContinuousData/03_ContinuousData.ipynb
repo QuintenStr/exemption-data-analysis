{
 "cells": [
  {
   "cell_type": "markdown",
   "metadata": {
    "deletable": false,
    "editable": false,
    "nbgrader": {
     "cell_type": "markdown",
     "checksum": "5564f53fd37cfd8f49b6ec56542d334c",
     "grade": false,
     "grade_id": "cell-7c7d4ef7101a06d6",
     "locked": true,
     "schema_version": 3,
     "solution": false,
     "task": false
    }
   },
   "source": [
    "# Lab 3: Continuous Data\n",
    "\n",
    "<img src=\"https://images.freeimages.com/images/large-previews/bc2/wine-1328360.jpg\" width=\"500\"/>\n",
    "\n",
    "Today, we are going to work with a popular wine data set containing measurements for different attributes of wines. This makes it a perfect example to learn on how to handle continuous data.\n",
    "\n",
    "\n",
    "## Before you start\n",
    "\n",
    "If you haven't already, make sure to add [seaborn](https://seaborn.pydata.org/installing.html) and [scikit-learn](https://scikit-learn.org/stable/install.html) to your Python interpreter as you are going to need it to complete this exercise."
   ]
  },
  {
   "cell_type": "code",
   "execution_count": 1,
   "metadata": {
    "deletable": false,
    "editable": false,
    "nbgrader": {
     "cell_type": "code",
     "checksum": "d201631378a802ddd846e30a3978d8d1",
     "grade": false,
     "grade_id": "cell-1c348001b0a2e535",
     "locked": true,
     "schema_version": 3,
     "solution": false,
     "task": false
    }
   },
   "outputs": [],
   "source": [
    "import pandas as pd\n",
    "import seaborn as sns\n",
    "import matplotlib.pyplot as plt"
   ]
  },
  {
   "cell_type": "markdown",
   "metadata": {
    "deletable": false,
    "editable": false,
    "nbgrader": {
     "cell_type": "markdown",
     "checksum": "20fcbc50af7d2c5079313651baafd4de",
     "grade": false,
     "grade_id": "cell-dea3231cfaa93545",
     "locked": true,
     "schema_version": 3,
     "solution": false,
     "task": false
    }
   },
   "source": [
    "## TASK 1: Exploration and Initial Analysis (25%)\n",
    "\n",
    "\n",
    "### 1. Loading the data set\n",
    "Read in the file ``winedata.csv`` using [pandas](https://pandas.pydata.org/docs/reference/index.html#api) to start with the exploratory data analysis into the features (alcohol content, color and acidity among others) of our dataset."
   ]
  },
  {
   "cell_type": "code",
   "execution_count": 2,
   "metadata": {
    "deletable": false,
    "editable": false,
    "nbgrader": {
     "cell_type": "code",
     "checksum": "d9c30622c08fe74cdf533e071e446456",
     "grade": false,
     "grade_id": "cell-a6705a3d2c2c887c",
     "locked": true,
     "schema_version": 3,
     "solution": false,
     "task": false
    }
   },
   "outputs": [],
   "source": [
    "df = pd.read_csv('winedata.csv')"
   ]
  },
  {
   "cell_type": "markdown",
   "metadata": {
    "deletable": false,
    "editable": false,
    "nbgrader": {
     "cell_type": "markdown",
     "checksum": "44c09a086a6f82b9ea202206cd69e665",
     "grade": false,
     "grade_id": "cell-a377009a6bfd6828",
     "locked": true,
     "schema_version": 3,
     "solution": false,
     "task": false
    }
   },
   "source": [
    "### 2. Data Exploration (3%)\n",
    "\n",
    "- Try to get an idea of what is stored in the .csv you just loaded into your notebook by printing and having a look at the data in ``df``.\n",
    "- Next have a look at some basic statistics of each feature by calling the ``describe()`` function.\n",
    "- Also, check for missing values (NaNs). You should remember one easy way from ``Lab02_Maps`` to do this.\n",
    "- Leave short comments about what you found out in this initial phase of data exploration."
   ]
  },
  {
   "cell_type": "code",
   "execution_count": 3,
   "metadata": {
    "deletable": false,
    "nbgrader": {
     "cell_type": "code",
     "checksum": "24ecc659483944487614ab7a16a0d57e",
     "grade": true,
     "grade_id": "cell-ef7f91a7e77ccf0c",
     "locked": false,
     "points": 1,
     "schema_version": 3,
     "solution": true,
     "task": false
    }
   },
   "outputs": [
    {
     "data": {
      "text/html": [
       "<div>\n",
       "<style scoped>\n",
       "    .dataframe tbody tr th:only-of-type {\n",
       "        vertical-align: middle;\n",
       "    }\n",
       "\n",
       "    .dataframe tbody tr th {\n",
       "        vertical-align: top;\n",
       "    }\n",
       "\n",
       "    .dataframe thead th {\n",
       "        text-align: right;\n",
       "    }\n",
       "</style>\n",
       "<table border=\"1\" class=\"dataframe\">\n",
       "  <thead>\n",
       "    <tr style=\"text-align: right;\">\n",
       "      <th></th>\n",
       "      <th>Alcohol</th>\n",
       "      <th>Malic_acid</th>\n",
       "      <th>Ash</th>\n",
       "      <th>Alcalinity_of_ash</th>\n",
       "      <th>Magnesium</th>\n",
       "      <th>Total_phenols</th>\n",
       "      <th>Flavanoids</th>\n",
       "      <th>Nonflavanoid_phenols</th>\n",
       "      <th>Proanthocyanins</th>\n",
       "      <th>Color_intensity</th>\n",
       "      <th>Hue</th>\n",
       "      <th>OD280315</th>\n",
       "      <th>Proline</th>\n",
       "    </tr>\n",
       "  </thead>\n",
       "  <tbody>\n",
       "    <tr>\n",
       "      <th>0</th>\n",
       "      <td>14.23</td>\n",
       "      <td>1.71</td>\n",
       "      <td>2.43</td>\n",
       "      <td>15.6</td>\n",
       "      <td>127</td>\n",
       "      <td>2.80</td>\n",
       "      <td>3.06</td>\n",
       "      <td>0.28</td>\n",
       "      <td>2.29</td>\n",
       "      <td>5.64</td>\n",
       "      <td>1.04</td>\n",
       "      <td>3.92</td>\n",
       "      <td>1065</td>\n",
       "    </tr>\n",
       "    <tr>\n",
       "      <th>1</th>\n",
       "      <td>13.20</td>\n",
       "      <td>1.78</td>\n",
       "      <td>2.14</td>\n",
       "      <td>11.2</td>\n",
       "      <td>100</td>\n",
       "      <td>2.65</td>\n",
       "      <td>2.76</td>\n",
       "      <td>0.26</td>\n",
       "      <td>1.28</td>\n",
       "      <td>4.38</td>\n",
       "      <td>1.05</td>\n",
       "      <td>3.40</td>\n",
       "      <td>1050</td>\n",
       "    </tr>\n",
       "    <tr>\n",
       "      <th>2</th>\n",
       "      <td>13.16</td>\n",
       "      <td>2.36</td>\n",
       "      <td>NaN</td>\n",
       "      <td>18.6</td>\n",
       "      <td>101</td>\n",
       "      <td>2.80</td>\n",
       "      <td>3.24</td>\n",
       "      <td>0.30</td>\n",
       "      <td>2.81</td>\n",
       "      <td>5.68</td>\n",
       "      <td>1.03</td>\n",
       "      <td>3.17</td>\n",
       "      <td>1185</td>\n",
       "    </tr>\n",
       "    <tr>\n",
       "      <th>3</th>\n",
       "      <td>14.37</td>\n",
       "      <td>1.95</td>\n",
       "      <td>NaN</td>\n",
       "      <td>16.8</td>\n",
       "      <td>113</td>\n",
       "      <td>3.85</td>\n",
       "      <td>3.49</td>\n",
       "      <td>0.24</td>\n",
       "      <td>2.18</td>\n",
       "      <td>7.80</td>\n",
       "      <td>0.86</td>\n",
       "      <td>3.45</td>\n",
       "      <td>1480</td>\n",
       "    </tr>\n",
       "    <tr>\n",
       "      <th>4</th>\n",
       "      <td>13.24</td>\n",
       "      <td>2.59</td>\n",
       "      <td>2.87</td>\n",
       "      <td>21.0</td>\n",
       "      <td>118</td>\n",
       "      <td>2.80</td>\n",
       "      <td>2.69</td>\n",
       "      <td>0.39</td>\n",
       "      <td>1.82</td>\n",
       "      <td>4.32</td>\n",
       "      <td>1.04</td>\n",
       "      <td>2.93</td>\n",
       "      <td>735</td>\n",
       "    </tr>\n",
       "  </tbody>\n",
       "</table>\n",
       "</div>"
      ],
      "text/plain": [
       "   Alcohol  Malic_acid   Ash  Alcalinity_of_ash  Magnesium  Total_phenols  \\\n",
       "0    14.23        1.71  2.43               15.6        127           2.80   \n",
       "1    13.20        1.78  2.14               11.2        100           2.65   \n",
       "2    13.16        2.36   NaN               18.6        101           2.80   \n",
       "3    14.37        1.95   NaN               16.8        113           3.85   \n",
       "4    13.24        2.59  2.87               21.0        118           2.80   \n",
       "\n",
       "   Flavanoids  Nonflavanoid_phenols  Proanthocyanins  Color_intensity   Hue  \\\n",
       "0        3.06                  0.28             2.29             5.64  1.04   \n",
       "1        2.76                  0.26             1.28             4.38  1.05   \n",
       "2        3.24                  0.30             2.81             5.68  1.03   \n",
       "3        3.49                  0.24             2.18             7.80  0.86   \n",
       "4        2.69                  0.39             1.82             4.32  1.04   \n",
       "\n",
       "   OD280315  Proline  \n",
       "0      3.92     1065  \n",
       "1      3.40     1050  \n",
       "2      3.17     1185  \n",
       "3      3.45     1480  \n",
       "4      2.93      735  "
      ]
     },
     "execution_count": 3,
     "metadata": {},
     "output_type": "execute_result"
    }
   ],
   "source": [
    "# YOUR CODE HERE\n",
    "df.head()"
   ]
  },
  {
   "cell_type": "code",
   "execution_count": 4,
   "metadata": {
    "deletable": false,
    "nbgrader": {
     "cell_type": "code",
     "checksum": "1a279c0ff998b5772527fe15cf8d6652",
     "grade": true,
     "grade_id": "cell-1671c796c579a70f",
     "locked": false,
     "points": 1,
     "schema_version": 3,
     "solution": true,
     "task": false
    }
   },
   "outputs": [
    {
     "data": {
      "text/html": [
       "<div>\n",
       "<style scoped>\n",
       "    .dataframe tbody tr th:only-of-type {\n",
       "        vertical-align: middle;\n",
       "    }\n",
       "\n",
       "    .dataframe tbody tr th {\n",
       "        vertical-align: top;\n",
       "    }\n",
       "\n",
       "    .dataframe thead th {\n",
       "        text-align: right;\n",
       "    }\n",
       "</style>\n",
       "<table border=\"1\" class=\"dataframe\">\n",
       "  <thead>\n",
       "    <tr style=\"text-align: right;\">\n",
       "      <th></th>\n",
       "      <th>Alcohol</th>\n",
       "      <th>Malic_acid</th>\n",
       "      <th>Ash</th>\n",
       "      <th>Alcalinity_of_ash</th>\n",
       "      <th>Magnesium</th>\n",
       "      <th>Total_phenols</th>\n",
       "      <th>Flavanoids</th>\n",
       "      <th>Nonflavanoid_phenols</th>\n",
       "      <th>Proanthocyanins</th>\n",
       "      <th>Color_intensity</th>\n",
       "      <th>Hue</th>\n",
       "      <th>OD280315</th>\n",
       "      <th>Proline</th>\n",
       "    </tr>\n",
       "  </thead>\n",
       "  <tbody>\n",
       "    <tr>\n",
       "      <th>count</th>\n",
       "      <td>178.000000</td>\n",
       "      <td>178.000000</td>\n",
       "      <td>173.000000</td>\n",
       "      <td>178.000000</td>\n",
       "      <td>178.000000</td>\n",
       "      <td>178.000000</td>\n",
       "      <td>178.000000</td>\n",
       "      <td>178.000000</td>\n",
       "      <td>178.000000</td>\n",
       "      <td>178.000000</td>\n",
       "      <td>178.000000</td>\n",
       "      <td>178.000000</td>\n",
       "      <td>178.000000</td>\n",
       "    </tr>\n",
       "    <tr>\n",
       "      <th>mean</th>\n",
       "      <td>13.000618</td>\n",
       "      <td>2.336348</td>\n",
       "      <td>2.362659</td>\n",
       "      <td>19.494944</td>\n",
       "      <td>99.741573</td>\n",
       "      <td>2.295112</td>\n",
       "      <td>2.029270</td>\n",
       "      <td>0.361854</td>\n",
       "      <td>1.590899</td>\n",
       "      <td>5.058090</td>\n",
       "      <td>0.957449</td>\n",
       "      <td>2.611685</td>\n",
       "      <td>746.893258</td>\n",
       "    </tr>\n",
       "    <tr>\n",
       "      <th>std</th>\n",
       "      <td>0.811827</td>\n",
       "      <td>1.117146</td>\n",
       "      <td>0.276332</td>\n",
       "      <td>3.339564</td>\n",
       "      <td>14.282484</td>\n",
       "      <td>0.625851</td>\n",
       "      <td>0.998859</td>\n",
       "      <td>0.124453</td>\n",
       "      <td>0.572359</td>\n",
       "      <td>2.318286</td>\n",
       "      <td>0.228572</td>\n",
       "      <td>0.709990</td>\n",
       "      <td>314.907474</td>\n",
       "    </tr>\n",
       "    <tr>\n",
       "      <th>min</th>\n",
       "      <td>11.030000</td>\n",
       "      <td>0.740000</td>\n",
       "      <td>1.360000</td>\n",
       "      <td>10.600000</td>\n",
       "      <td>70.000000</td>\n",
       "      <td>0.980000</td>\n",
       "      <td>0.340000</td>\n",
       "      <td>0.130000</td>\n",
       "      <td>0.410000</td>\n",
       "      <td>1.280000</td>\n",
       "      <td>0.480000</td>\n",
       "      <td>1.270000</td>\n",
       "      <td>278.000000</td>\n",
       "    </tr>\n",
       "    <tr>\n",
       "      <th>25%</th>\n",
       "      <td>12.362500</td>\n",
       "      <td>1.602500</td>\n",
       "      <td>2.210000</td>\n",
       "      <td>17.200000</td>\n",
       "      <td>88.000000</td>\n",
       "      <td>1.742500</td>\n",
       "      <td>1.205000</td>\n",
       "      <td>0.270000</td>\n",
       "      <td>1.250000</td>\n",
       "      <td>3.220000</td>\n",
       "      <td>0.782500</td>\n",
       "      <td>1.937500</td>\n",
       "      <td>500.500000</td>\n",
       "    </tr>\n",
       "    <tr>\n",
       "      <th>50%</th>\n",
       "      <td>13.050000</td>\n",
       "      <td>1.865000</td>\n",
       "      <td>2.360000</td>\n",
       "      <td>19.500000</td>\n",
       "      <td>98.000000</td>\n",
       "      <td>2.355000</td>\n",
       "      <td>2.135000</td>\n",
       "      <td>0.340000</td>\n",
       "      <td>1.555000</td>\n",
       "      <td>4.690000</td>\n",
       "      <td>0.965000</td>\n",
       "      <td>2.780000</td>\n",
       "      <td>673.500000</td>\n",
       "    </tr>\n",
       "    <tr>\n",
       "      <th>75%</th>\n",
       "      <td>13.677500</td>\n",
       "      <td>3.082500</td>\n",
       "      <td>2.550000</td>\n",
       "      <td>21.500000</td>\n",
       "      <td>107.000000</td>\n",
       "      <td>2.800000</td>\n",
       "      <td>2.875000</td>\n",
       "      <td>0.437500</td>\n",
       "      <td>1.950000</td>\n",
       "      <td>6.200000</td>\n",
       "      <td>1.120000</td>\n",
       "      <td>3.170000</td>\n",
       "      <td>985.000000</td>\n",
       "    </tr>\n",
       "    <tr>\n",
       "      <th>max</th>\n",
       "      <td>14.830000</td>\n",
       "      <td>5.800000</td>\n",
       "      <td>3.230000</td>\n",
       "      <td>30.000000</td>\n",
       "      <td>162.000000</td>\n",
       "      <td>3.880000</td>\n",
       "      <td>5.080000</td>\n",
       "      <td>0.660000</td>\n",
       "      <td>3.580000</td>\n",
       "      <td>13.000000</td>\n",
       "      <td>1.710000</td>\n",
       "      <td>4.000000</td>\n",
       "      <td>1680.000000</td>\n",
       "    </tr>\n",
       "  </tbody>\n",
       "</table>\n",
       "</div>"
      ],
      "text/plain": [
       "          Alcohol  Malic_acid         Ash  Alcalinity_of_ash   Magnesium  \\\n",
       "count  178.000000  178.000000  173.000000         178.000000  178.000000   \n",
       "mean    13.000618    2.336348    2.362659          19.494944   99.741573   \n",
       "std      0.811827    1.117146    0.276332           3.339564   14.282484   \n",
       "min     11.030000    0.740000    1.360000          10.600000   70.000000   \n",
       "25%     12.362500    1.602500    2.210000          17.200000   88.000000   \n",
       "50%     13.050000    1.865000    2.360000          19.500000   98.000000   \n",
       "75%     13.677500    3.082500    2.550000          21.500000  107.000000   \n",
       "max     14.830000    5.800000    3.230000          30.000000  162.000000   \n",
       "\n",
       "       Total_phenols  Flavanoids  Nonflavanoid_phenols  Proanthocyanins  \\\n",
       "count     178.000000  178.000000            178.000000       178.000000   \n",
       "mean        2.295112    2.029270              0.361854         1.590899   \n",
       "std         0.625851    0.998859              0.124453         0.572359   \n",
       "min         0.980000    0.340000              0.130000         0.410000   \n",
       "25%         1.742500    1.205000              0.270000         1.250000   \n",
       "50%         2.355000    2.135000              0.340000         1.555000   \n",
       "75%         2.800000    2.875000              0.437500         1.950000   \n",
       "max         3.880000    5.080000              0.660000         3.580000   \n",
       "\n",
       "       Color_intensity         Hue    OD280315      Proline  \n",
       "count       178.000000  178.000000  178.000000   178.000000  \n",
       "mean          5.058090    0.957449    2.611685   746.893258  \n",
       "std           2.318286    0.228572    0.709990   314.907474  \n",
       "min           1.280000    0.480000    1.270000   278.000000  \n",
       "25%           3.220000    0.782500    1.937500   500.500000  \n",
       "50%           4.690000    0.965000    2.780000   673.500000  \n",
       "75%           6.200000    1.120000    3.170000   985.000000  \n",
       "max          13.000000    1.710000    4.000000  1680.000000  "
      ]
     },
     "execution_count": 4,
     "metadata": {},
     "output_type": "execute_result"
    }
   ],
   "source": [
    "# YOUR CODE HERE\n",
    "df.describe()"
   ]
  },
  {
   "cell_type": "code",
   "execution_count": 5,
   "metadata": {
    "deletable": false,
    "nbgrader": {
     "cell_type": "code",
     "checksum": "83cae0e1d02ba8d0d8e941694fcd70f7",
     "grade": true,
     "grade_id": "cell-bd0b6b0e86845104",
     "locked": false,
     "points": 1,
     "schema_version": 3,
     "solution": true,
     "task": false
    }
   },
   "outputs": [
    {
     "name": "stdout",
     "output_type": "stream",
     "text": [
      "Alcohol                 0\n",
      "Malic_acid              0\n",
      "Ash                     5\n",
      "Alcalinity_of_ash       0\n",
      "Magnesium               0\n",
      "Total_phenols           0\n",
      "Flavanoids              0\n",
      "Nonflavanoid_phenols    0\n",
      "Proanthocyanins         0\n",
      "Color_intensity         0\n",
      "Hue                     0\n",
      "OD280315                0\n",
      "Proline                 0\n",
      "dtype: int64\n"
     ]
    },
    {
     "data": {
      "text/html": [
       "<div>\n",
       "<style scoped>\n",
       "    .dataframe tbody tr th:only-of-type {\n",
       "        vertical-align: middle;\n",
       "    }\n",
       "\n",
       "    .dataframe tbody tr th {\n",
       "        vertical-align: top;\n",
       "    }\n",
       "\n",
       "    .dataframe thead th {\n",
       "        text-align: right;\n",
       "    }\n",
       "</style>\n",
       "<table border=\"1\" class=\"dataframe\">\n",
       "  <thead>\n",
       "    <tr style=\"text-align: right;\">\n",
       "      <th></th>\n",
       "      <th>Alcohol</th>\n",
       "      <th>Malic_acid</th>\n",
       "      <th>Ash</th>\n",
       "      <th>Alcalinity_of_ash</th>\n",
       "      <th>Magnesium</th>\n",
       "      <th>Total_phenols</th>\n",
       "      <th>Flavanoids</th>\n",
       "      <th>Nonflavanoid_phenols</th>\n",
       "      <th>Proanthocyanins</th>\n",
       "      <th>Color_intensity</th>\n",
       "      <th>Hue</th>\n",
       "      <th>OD280315</th>\n",
       "      <th>Proline</th>\n",
       "    </tr>\n",
       "  </thead>\n",
       "  <tbody>\n",
       "    <tr>\n",
       "      <th>2</th>\n",
       "      <td>13.16</td>\n",
       "      <td>2.36</td>\n",
       "      <td>NaN</td>\n",
       "      <td>18.6</td>\n",
       "      <td>101</td>\n",
       "      <td>2.80</td>\n",
       "      <td>3.24</td>\n",
       "      <td>0.30</td>\n",
       "      <td>2.81</td>\n",
       "      <td>5.68</td>\n",
       "      <td>1.03</td>\n",
       "      <td>3.17</td>\n",
       "      <td>1185</td>\n",
       "    </tr>\n",
       "    <tr>\n",
       "      <th>3</th>\n",
       "      <td>14.37</td>\n",
       "      <td>1.95</td>\n",
       "      <td>NaN</td>\n",
       "      <td>16.8</td>\n",
       "      <td>113</td>\n",
       "      <td>3.85</td>\n",
       "      <td>3.49</td>\n",
       "      <td>0.24</td>\n",
       "      <td>2.18</td>\n",
       "      <td>7.80</td>\n",
       "      <td>0.86</td>\n",
       "      <td>3.45</td>\n",
       "      <td>1480</td>\n",
       "    </tr>\n",
       "    <tr>\n",
       "      <th>6</th>\n",
       "      <td>14.39</td>\n",
       "      <td>1.87</td>\n",
       "      <td>NaN</td>\n",
       "      <td>14.6</td>\n",
       "      <td>96</td>\n",
       "      <td>2.50</td>\n",
       "      <td>2.52</td>\n",
       "      <td>0.30</td>\n",
       "      <td>1.98</td>\n",
       "      <td>5.25</td>\n",
       "      <td>1.02</td>\n",
       "      <td>3.58</td>\n",
       "      <td>1290</td>\n",
       "    </tr>\n",
       "    <tr>\n",
       "      <th>7</th>\n",
       "      <td>14.06</td>\n",
       "      <td>2.15</td>\n",
       "      <td>NaN</td>\n",
       "      <td>17.6</td>\n",
       "      <td>121</td>\n",
       "      <td>2.60</td>\n",
       "      <td>2.51</td>\n",
       "      <td>0.31</td>\n",
       "      <td>1.25</td>\n",
       "      <td>5.05</td>\n",
       "      <td>1.06</td>\n",
       "      <td>3.58</td>\n",
       "      <td>1295</td>\n",
       "    </tr>\n",
       "    <tr>\n",
       "      <th>9</th>\n",
       "      <td>13.86</td>\n",
       "      <td>1.35</td>\n",
       "      <td>NaN</td>\n",
       "      <td>16.0</td>\n",
       "      <td>98</td>\n",
       "      <td>2.98</td>\n",
       "      <td>3.15</td>\n",
       "      <td>0.22</td>\n",
       "      <td>1.85</td>\n",
       "      <td>7.22</td>\n",
       "      <td>1.01</td>\n",
       "      <td>3.55</td>\n",
       "      <td>1045</td>\n",
       "    </tr>\n",
       "  </tbody>\n",
       "</table>\n",
       "</div>"
      ],
      "text/plain": [
       "   Alcohol  Malic_acid  Ash  Alcalinity_of_ash  Magnesium  Total_phenols  \\\n",
       "2    13.16        2.36  NaN               18.6        101           2.80   \n",
       "3    14.37        1.95  NaN               16.8        113           3.85   \n",
       "6    14.39        1.87  NaN               14.6         96           2.50   \n",
       "7    14.06        2.15  NaN               17.6        121           2.60   \n",
       "9    13.86        1.35  NaN               16.0         98           2.98   \n",
       "\n",
       "   Flavanoids  Nonflavanoid_phenols  Proanthocyanins  Color_intensity   Hue  \\\n",
       "2        3.24                  0.30             2.81             5.68  1.03   \n",
       "3        3.49                  0.24             2.18             7.80  0.86   \n",
       "6        2.52                  0.30             1.98             5.25  1.02   \n",
       "7        2.51                  0.31             1.25             5.05  1.06   \n",
       "9        3.15                  0.22             1.85             7.22  1.01   \n",
       "\n",
       "   OD280315  Proline  \n",
       "2      3.17     1185  \n",
       "3      3.45     1480  \n",
       "6      3.58     1290  \n",
       "7      3.58     1295  \n",
       "9      3.55     1045  "
      ]
     },
     "execution_count": 5,
     "metadata": {},
     "output_type": "execute_result"
    }
   ],
   "source": [
    "# YOUR CODE HERE\n",
    "print(df.isna().sum())\n",
    "df[df.isna().any(axis=1)]"
   ]
  },
  {
   "cell_type": "markdown",
   "metadata": {
    "deletable": false,
    "editable": false,
    "nbgrader": {
     "cell_type": "markdown",
     "checksum": "e3306cd22a58a2321fe1285054a6d8a1",
     "grade": false,
     "grade_id": "cell-d6c69f82c4d69478",
     "locked": true,
     "schema_version": 3,
     "solution": false,
     "task": false
    }
   },
   "source": [
    "### 2. Check for missing values (7%)\n",
    "\n",
    "- After you checked for NaNs, find a way to retrieve the column names of the dataset containing NaNs dynamically using pure python or pandas.\n",
    "- Store these column names as a list-like object in variable ``columns_containing_nans``.\n",
    "- Next, dynamically calculate and then save the number of NaNs you found to ``number_of_nans``."
   ]
  },
  {
   "cell_type": "code",
   "execution_count": 6,
   "metadata": {
    "deletable": false,
    "nbgrader": {
     "cell_type": "code",
     "checksum": "81c52b4ef98886a9e6c8ce671946a8f9",
     "grade": false,
     "grade_id": "cell-7005e0da5401e675",
     "locked": false,
     "schema_version": 3,
     "solution": true,
     "task": false
    }
   },
   "outputs": [
    {
     "name": "stdout",
     "output_type": "stream",
     "text": [
      "Columns containing nans:\n",
      "['Ash']\n",
      "Amount of nans:\n",
      "5\n",
      "Rows indexes with nan values, i need these to drop them from the vineyard.csv later on\n",
      "[2, 3, 6, 7, 9]\n"
     ]
    }
   ],
   "source": [
    "# YOUR CODE HERE\n",
    "\n",
    "dfx = df.isna().any()\n",
    "columns_containing_nans = dfx[dfx].index.tolist()\n",
    "\n",
    "print(\"Columns containing nans:\")\n",
    "print(columns_containing_nans)\n",
    "\n",
    "number_of_nans = df[columns_containing_nans].isna().sum().sum()\n",
    "print(\"Amount of nans:\")\n",
    "print(number_of_nans)\n",
    "\n",
    "# fix for later excercise\n",
    "print('Rows indexes with nan values, i need these to drop them from the vineyard.csv later on')\n",
    "nan_indexes = [index for index, row in df.iterrows() if row.isna().any()]\n",
    "print(nan_indexes)"
   ]
  },
  {
   "cell_type": "code",
   "execution_count": 7,
   "metadata": {
    "deletable": false,
    "editable": false,
    "nbgrader": {
     "cell_type": "code",
     "checksum": "ddf69c927899ad8da88633f4321716df",
     "grade": true,
     "grade_id": "cell-b2fcfc428aa52a34",
     "locked": true,
     "points": 7,
     "schema_version": 3,
     "solution": false,
     "task": false
    }
   },
   "outputs": [],
   "source": [
    "# Ignore this cell - it is needed for automated grading."
   ]
  },
  {
   "cell_type": "markdown",
   "metadata": {
    "deletable": false,
    "editable": false,
    "nbgrader": {
     "cell_type": "markdown",
     "checksum": "3a311a8121086f0ef8aaed0f1404e914",
     "grade": false,
     "grade_id": "cell-f5410215872aa07e",
     "locked": true,
     "schema_version": 3,
     "solution": false,
     "task": false
    }
   },
   "source": [
    "### 3. Data Preprocessing (7%)\n",
    "- Clean the dataset using one of the methods you know about. See Lecture 5 if you need to refresh your memory.\n",
    "- Be careful to do this operation **inplace** (keep `df` as the variable name for your data)."
   ]
  },
  {
   "cell_type": "code",
   "execution_count": 8,
   "metadata": {
    "deletable": false,
    "nbgrader": {
     "cell_type": "code",
     "checksum": "469f61c28851dcf15b87e4c16834a706",
     "grade": false,
     "grade_id": "cell-1bb1f93ee920ba98",
     "locked": false,
     "schema_version": 3,
     "solution": true,
     "task": false
    }
   },
   "outputs": [
    {
     "name": "stdout",
     "output_type": "stream",
     "text": [
      "178\n",
      "173\n"
     ]
    }
   ],
   "source": [
    "# YOUR CODE HERE\n",
    "print(len(df))\n",
    "# outputs 178 rows, dropping 5 of them (all the rows with nan values) wont make a big difference\n",
    "\n",
    "df.dropna(inplace=True)\n",
    "print(len(df))"
   ]
  },
  {
   "cell_type": "code",
   "execution_count": 9,
   "metadata": {
    "deletable": false,
    "editable": false,
    "nbgrader": {
     "cell_type": "code",
     "checksum": "e538e9109905264a57f27849efeb5024",
     "grade": true,
     "grade_id": "cell-92108d6809679f91",
     "locked": true,
     "points": 7,
     "schema_version": 3,
     "solution": false,
     "task": false
    }
   },
   "outputs": [],
   "source": [
    "# Ignore this cell - it is needed for automated grading."
   ]
  },
  {
   "cell_type": "markdown",
   "metadata": {
    "deletable": false,
    "editable": false,
    "nbgrader": {
     "cell_type": "markdown",
     "checksum": "dfb10ecf15f453791cb1ccb7ed90060f",
     "grade": false,
     "grade_id": "cell-7e78eeee6f7f6e6b",
     "locked": true,
     "schema_version": 3,
     "solution": false,
     "task": false
    }
   },
   "source": [
    "### 3. Data Preprocessing (cont.) (3%)\n",
    "Elaborate on your choice of preprocessing method used in cleaning the data set (max. three sentences)"
   ]
  },
  {
   "cell_type": "markdown",
   "metadata": {
    "deletable": false,
    "nbgrader": {
     "cell_type": "markdown",
     "checksum": "c4bc0d219deadc8b3e165a24e6984099",
     "grade": true,
     "grade_id": "cell-84ee9d3797f6f9fe",
     "locked": false,
     "points": 3,
     "schema_version": 3,
     "solution": true,
     "task": false
    }
   },
   "source": [
    "I checked the total amount of rows. It's 178. We have 5 rows containing NaN values. It would be foolish to drop the column, we would lose too much information for all the other 173 rows. We could replace the values but that would introduce probbaly false data to the set so to keep it real & legit, I decided to just drop the rows. Dropping 5 rows out of 178 doesn't make a really big impact as it is only 2.8% of the whole dataset."
   ]
  },
  {
   "cell_type": "markdown",
   "metadata": {
    "deletable": false,
    "editable": false,
    "nbgrader": {
     "cell_type": "markdown",
     "checksum": "65eefa66227c33c2a9e51578989eb971",
     "grade": false,
     "grade_id": "cell-8dee44fb42c63496",
     "locked": true,
     "schema_version": 3,
     "solution": false,
     "task": false
    }
   },
   "source": [
    "### 4. Data Visualization (5%)\n",
    "\n",
    "- Use seaborn to draw a boxplot of each feature in a single plot.\n",
    "- Make sure that your plot contains all necessary information (e.g. title, axis labels, ...), increase the figure's size and/or resolution to acceptable levels and ensure that all textual information provided is readable."
   ]
  },
  {
   "cell_type": "code",
   "execution_count": 10,
   "metadata": {
    "deletable": false,
    "nbgrader": {
     "cell_type": "code",
     "checksum": "13ffc1079e0248460a114d14ebd00435",
     "grade": true,
     "grade_id": "cell-0dcd462cbacd278b",
     "locked": false,
     "points": 5,
     "schema_version": 3,
     "solution": true,
     "task": false
    }
   },
   "outputs": [
    {
     "data": {
      "image/png": "[encoded data removed]",
      "text/plain": [
       "<Figure size 1200x600 with 1 Axes>"
      ]
     },
     "metadata": {},
     "output_type": "display_data"
    }
   ],
   "source": [
    "# YOUR CODE HERE\n",
    "\n",
    "plt.figure(figsize=(12, 6))\n",
    "\n",
    "sns.boxplot(data=df)\n",
    "\n",
    "plt.title('Boxplot of Features')\n",
    "plt.xlabel('Features')\n",
    "plt.ylabel('Values')\n",
    "\n",
    "plt.xticks(rotation=45)\n",
    "\n",
    "plt.show()"
   ]
  },
  {
   "cell_type": "markdown",
   "metadata": {
    "deletable": false,
    "editable": false,
    "nbgrader": {
     "cell_type": "markdown",
     "checksum": "b78c631e9440ffbda86d22e0b5a8f762",
     "grade": false,
     "grade_id": "cell-c85eb7ba984080f3",
     "locked": true,
     "schema_version": 3,
     "solution": false,
     "task": false
    }
   },
   "source": [
    "## TASK 2: Applying Normalization (25%)\n",
    "\n",
    "### 1. Scaling (20%)\n",
    "\n",
    "- Since our features exhibit data in all kinds of value ranges and units, we may want to find a way to normalize the information found within ``winedata.csv``.\n",
    "- One possible technique used to normalize data is to transform each feature in such a way that its mean is 0 with standard deviation 1. Luckily, [scikit-learn's](https://scikit-learn.org/stable/auto_examples/index.html) [``StandardScaler()``](https://scikit-learn.org/stable/modules/generated/sklearn.preprocessing.StandardScaler.html) provides an easy way to achieve this.\n",
    "- This way, you'll also get to know some concepts commonly used in machine learning pipelines such as ``fitting`` and ``transforming`` data.\n",
    "- Normalize the data using ``StandardScaler()``, then store the normalized data in DataFrame `df_s`."
   ]
  },
  {
   "cell_type": "code",
   "execution_count": 11,
   "metadata": {
    "deletable": false,
    "nbgrader": {
     "cell_type": "code",
     "checksum": "7503825340b93841b42a0e6b1c8386db",
     "grade": false,
     "grade_id": "cell-2f0706d6c2de680a",
     "locked": false,
     "schema_version": 3,
     "solution": true,
     "task": false
    }
   },
   "outputs": [],
   "source": [
    "# YOUR CODE HERE\n",
    "from sklearn.preprocessing import StandardScaler\n",
    "\n",
    "scaler = StandardScaler()\n",
    "df_s = pd.DataFrame(scaler.fit_transform(df), columns=df.columns)"
   ]
  },
  {
   "cell_type": "code",
   "execution_count": 12,
   "metadata": {
    "deletable": false,
    "editable": false,
    "nbgrader": {
     "cell_type": "code",
     "checksum": "0b5c95f673906300b625660094f00ea4",
     "grade": true,
     "grade_id": "cell-cef52b3e81a0e004",
     "locked": true,
     "points": 20,
     "schema_version": 3,
     "solution": false,
     "task": false
    }
   },
   "outputs": [],
   "source": [
    "# Ignore this cell - it is needed for automated grading."
   ]
  },
  {
   "cell_type": "markdown",
   "metadata": {
    "deletable": false,
    "editable": false,
    "nbgrader": {
     "cell_type": "markdown",
     "checksum": "998378cd34d806b6015c390fdd5c2074",
     "grade": false,
     "grade_id": "cell-ea06eaf9cb82d92c",
     "locked": true,
     "schema_version": 3,
     "solution": false,
     "task": false
    }
   },
   "source": [
    "### 2. Data Visualization (5%)\n",
    "\n",
    "- Redraw a boxplot using ``df_s`` to visualize the effect scaling has on the features in ``winedata.csv``.\n",
    "- Make sure that your plot is readable and contains all necessary information (e.g. title, axis labels, ...).\n",
    "- Include a short comment describing what you see. Focus on the comparison of the two boxplots in TASK 1 and TASK 2."
   ]
  },
  {
   "cell_type": "code",
   "execution_count": 13,
   "metadata": {
    "deletable": false,
    "nbgrader": {
     "cell_type": "code",
     "checksum": "fb392bd5ddb773cc118faac870ee0541",
     "grade": true,
     "grade_id": "cell-09da5d8d1bc8a847",
     "locked": false,
     "points": 5,
     "schema_version": 3,
     "solution": true,
     "task": false
    }
   },
   "outputs": [
    {
     "data": {
      "image/png": "[encoded data removed]",
      "text/plain": [
       "<Figure size 1200x600 with 1 Axes>"
      ]
     },
     "metadata": {},
     "output_type": "display_data"
    }
   ],
   "source": [
    "# YOUR CODE HERE\n",
    "plt.figure(figsize=(12, 6))\n",
    "\n",
    "sns.boxplot(data=df_s)\n",
    "\n",
    "plt.title('Boxplot of Features after StandardScaler')\n",
    "plt.xlabel('Features')\n",
    "plt.ylabel('Standard Scaled Values')\n",
    "\n",
    "plt.xticks(rotation=45)\n",
    "\n",
    "plt.show()\n",
    "\n",
    "# On the first graph we can not see any usefull information on the graph.\n",
    "# The scale of the different values are so different, almost all of the boxplots seem like they're 1px big.\n",
    "# I tried to drop the Proline column and re render the graph. After that we still had the same issue with Magnesium.\n",
    "# I dropped both columns for the graph and only then we could see some usefull boxplot graphs.\n",
    "# To fix this issue we used a StandardScaler on the dataframe and therefore we can now see the distribution of the values better\n",
    "\n",
    "# Standard Scaler explaination : https://scikit-learn.org/stable/modules/generated/sklearn.preprocessing.StandardScaler.html\n",
    "# Standardize features by removing the mean and scaling to unit variance.\n",
    "# The standard score of a sample x is calculated as:\n",
    "# z = (x - u) / s\n",
    "# where u is the mean of the training samples or zero if with_mean=False, and s is the standard deviation\n",
    "# of the training samples or one if with_std=False."
   ]
  },
  {
   "cell_type": "markdown",
   "metadata": {
    "deletable": false,
    "editable": false,
    "nbgrader": {
     "cell_type": "markdown",
     "checksum": "4c04131f1e0d68d3cba3ddc51216d5d3",
     "grade": false,
     "grade_id": "cell-b482b4823291e77c",
     "locked": true,
     "schema_version": 3,
     "solution": false,
     "task": false
    }
   },
   "source": [
    "## TASK 3: Dimensionality Reduction (35%)\n",
    "\n",
    "Trying to figure out similarities between the data points (=wines) in our data set is a challenging task. As it stands, we have thirteen features describing each wine. In the best case scenario, we need a way to reduce the dimensionality of the dataset to two dimensions to be able to visualize relationships between wines in a way humans can comprehend.\n",
    "\n",
    "There are many different ways to do this. You may, for example, simply select two features from the thirteen by hand to achieve this. This approach has some limitations though, as you lose all the information present in the other eleven columns.\n",
    "\n",
    "Other techniques are [``PCA``](https://scikit-learn.org/stable/modules/generated/sklearn.decomposition.PCA.html) and [``TSNE``](https://scikit-learn.org/stable/modules/generated/sklearn.manifold.TSNE.html), both well known and state of the art methods to implement dimensionality reduction. Consult ``scikit-learn``'s docs or your lecturer if you want to know more about how these techniques work.\n",
    "\n",
    "### 1. Apply either PCA or TSNE to ``df_s`` (25%)\n",
    "\n",
    "- Similarly to the way you used ``StandardScaler``, instantiate an object of your preferred method for dimensionality reduction. - This time, you need to parametrize this object, so make sure to set the number of target dimensions to $2$.\n",
    "- Then, ``fit`` and ``transform`` the scaled data in ``df_s`` into a two dimensional space. Store your 2-D Data in DataFrame `df_d`."
   ]
  },
  {
   "cell_type": "code",
   "execution_count": 14,
   "metadata": {
    "deletable": false,
    "nbgrader": {
     "cell_type": "code",
     "checksum": "bd4d844ea71561738aaee3365e83d212",
     "grade": false,
     "grade_id": "cell-5da425383a59d166",
     "locked": false,
     "schema_version": 3,
     "solution": true,
     "task": false
    }
   },
   "outputs": [],
   "source": [
    "# YOUR CODE HERE\n",
    "from sklearn.decomposition import PCA\n",
    "pca = PCA(n_components=2)\n",
    "df_d = pd.DataFrame(pca.fit_transform(df_s), columns=['Dimension 1', 'Dimension 2'])"
   ]
  },
  {
   "cell_type": "code",
   "execution_count": 15,
   "metadata": {
    "deletable": false,
    "editable": false,
    "nbgrader": {
     "cell_type": "code",
     "checksum": "c222bcd378af47444a76c05d73964127",
     "grade": true,
     "grade_id": "cell-5eb960f19b029e28",
     "locked": true,
     "points": 25,
     "schema_version": 3,
     "solution": false,
     "task": false
    }
   },
   "outputs": [],
   "source": [
    "# Ignore this cell - it is needed for automated grading."
   ]
  },
  {
   "cell_type": "markdown",
   "metadata": {
    "deletable": false,
    "editable": false,
    "nbgrader": {
     "cell_type": "markdown",
     "checksum": "ead8f376be19361d4d6d3be58a801236",
     "grade": false,
     "grade_id": "cell-323cb2209ffed755",
     "locked": true,
     "schema_version": 3,
     "solution": false,
     "task": false
    }
   },
   "source": [
    "### 2. Data Visualization (10%)\n",
    "- Draw a scatterplot plotting the first against the second dimension in ``df_d``.\n",
    "- Make sure that your plot is readable and contains all necessary information (e.g. title, axis labels, ...)."
   ]
  },
  {
   "cell_type": "code",
   "execution_count": 16,
   "metadata": {
    "deletable": false,
    "nbgrader": {
     "cell_type": "code",
     "checksum": "206d151ccce114d3a1c8b645eb1bef78",
     "grade": true,
     "grade_id": "cell-71b88fa87f03008b",
     "locked": false,
     "points": 10,
     "schema_version": 3,
     "solution": true,
     "task": false
    }
   },
   "outputs": [
    {
     "data": {
      "image/png": "[encoded data removed]",
      "text/plain": [
       "<Figure size 1200x800 with 1 Axes>"
      ]
     },
     "metadata": {},
     "output_type": "display_data"
    }
   ],
   "source": [
    "# YOUR CODE HERE\n",
    "plt.figure(figsize=(12, 8))\n",
    "plt.grid(True)\n",
    "plt.scatter(df_d['Dimension 1'], df_d['Dimension 2'])\n",
    "plt.xlabel('Dimension 1')\n",
    "plt.ylabel('Dimension 2')\n",
    "plt.title('Scatterplot of Dimension 1 vs. Dimension 2')\n",
    "plt.show()"
   ]
  },
  {
   "cell_type": "markdown",
   "metadata": {
    "deletable": false,
    "editable": false,
    "nbgrader": {
     "cell_type": "markdown",
     "checksum": "93f309990c4eb6d036b6f34efe753613",
     "grade": false,
     "grade_id": "cell-94484a918f2f7b2a",
     "locked": true,
     "schema_version": 3,
     "solution": false,
     "task": false
    }
   },
   "source": [
    "## TASK 4: Add some color! (15%)\n",
    "- Load ``winelabels.csv`` containing indicators for the vineyard that produced the wines.\n",
    "- These labels are stored as integers ranging from 0 to 2.\n",
    "- Use this information to enhance your scatterplot by assigning a color to each point by it's label.\n",
    "- Add a legend to your plot, indicating which color corresponds to which vineyard.\n",
    "- Make sure that your plot is readable and contains all necessary information (e.g. title, axis labels, ...).\n",
    "\n",
    "\n",
    "- Lastly, comment on what you see when comparing the two scatterplots you created in TASK 3 and TASK 4.\n",
    "- Are you able to make an assumption about the similarity of wines when compared to those of the same vineyard and those of other producers?"
   ]
  },
  {
   "cell_type": "code",
   "execution_count": 17,
   "metadata": {
    "deletable": false,
    "nbgrader": {
     "cell_type": "code",
     "checksum": "55b529da53e67a03d990b62c07479894",
     "grade": true,
     "grade_id": "cell-b75a01cc38f568e0",
     "locked": false,
     "points": 15,
     "schema_version": 3,
     "solution": true,
     "task": false
    }
   },
   "outputs": [
    {
     "name": "stderr",
     "output_type": "stream",
     "text": [
      "C:\\Users\\quint\\AppData\\Local\\Temp\\ipykernel_13276\\2738568197.py:16: UserWarning: Boolean Series key will be reindexed to match DataFrame index.\n",
      "  subset = df_d[winelabels['Vineyard'] == label]\n"
     ]
    },
    {
     "data": {
      "image/png": "[encoded data removed]",
      "text/plain": [
       "<Figure size 1200x800 with 1 Axes>"
      ]
     },
     "metadata": {},
     "output_type": "display_data"
    }
   ],
   "source": [
    "# YOUR CODE HERE\n",
    "\n",
    "winelabels = pd.read_csv('winelabels.csv', header=None, names=['Vineyard'])\n",
    "\n",
    "# oepsie, because I dropped the nan values before I am now kinda in trouble.\n",
    "# I will need to drop the same cells from the winelabels.\n",
    "\n",
    "winelabels = winelabels.drop(nan_indexes)\n",
    "winelabels = winelabels.reset_index(drop=True)\n",
    "\n",
    "plt.figure(figsize=(12, 8))\n",
    "\n",
    "colors = {0: 'red', 1: 'green', 2: 'blue'}\n",
    "\n",
    "for label in winelabels['Vineyard'].unique():\n",
    "    subset = df_d[winelabels['Vineyard'] == label]\n",
    "    plt.scatter(subset['Dimension 1'], subset['Dimension 2'], label=f'Vineyard {label}', color=colors[label])\n",
    "\n",
    "plt.xlabel('Dimension 1')\n",
    "plt.ylabel('Dimension 2')\n",
    "plt.title('Scatterplot of Dimension 1 vs. Dimension 2 with Vineyard Labels')\n",
    "plt.legend()\n",
    "plt.grid(True)\n",
    "plt.show()"
   ]
  }
 ],
 "metadata": {
  "kernelspec": {
   "display_name": "Python 3 (ipykernel)",
   "language": "python",
   "name": "python3"
  },
  "language_info": {
   "codemirror_mode": {
    "name": "ipython",
    "version": 3
   },
   "file_extension": ".py",
   "mimetype": "text/x-python",
   "name": "python",
   "nbconvert_exporter": "python",
   "pygments_lexer": "ipython3",
   "version": "3.9.13"
  }
 },
 "nbformat": 4,
 "nbformat_minor": 4
}
