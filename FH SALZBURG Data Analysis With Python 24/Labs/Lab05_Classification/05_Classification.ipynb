{
 "cells": [
  {
   "cell_type": "markdown",
   "metadata": {
    "deletable": false,
    "editable": false,
    "nbgrader": {
     "cell_type": "markdown",
     "checksum": "928665d4a74ff2e6fa5371b4cad7742a",
     "grade": false,
     "grade_id": "cell-80d35d21f625a4e2",
     "locked": true,
     "schema_version": 3,
     "solution": false,
     "task": false
    },
    "slideshow": {
     "slide_type": "slide"
    }
   },
   "source": [
    "# Lab 5: Image Classification\n",
    "\n",
    "| ![MNIST data](https://upload.wikimedia.org/wikipedia/commons/thumb/2/27/MnistExamples.png/220px-MnistExamples.png) |\n",
    "|:--:|\n",
    "| <b>[MNIST Dataset: Handwritten Digits](https://archive.ics.uci.edu/ml/datasets/Optical+Recognition+of+Handwritten+Digits)</b>|\n",
    "\n",
    "## Applying Machine Learning to Images using scikit-learn\n",
    "\n",
    "This lab session focuses on the application of supervised learning to images using [scikit-learn](https://scikit-learn.org/stable/auto_examples/index.html) (also called sklearn). More specifically, you are going to design an optical recognition system that recognizes hand written digits trained on the popular [MNIST dataset](https://archive.ics.uci.edu/ml/datasets/Optical+Recognition+of+Handwritten+Digits) and puts out a numeric value based on the image it is fed.\n",
    "\n",
    "Performing preprocessing, splitting the data into a train-, and test-set, training a model, making predictions on the test-set and finally evaluating the model's performance are the steps you are going to perform during our session."
   ]
  },
  {
   "cell_type": "code",
   "execution_count": 1,
   "metadata": {
    "deletable": false,
    "editable": false,
    "nbgrader": {
     "cell_type": "code",
     "checksum": "a28585b441265bf2f82703675c05d44a",
     "grade": false,
     "grade_id": "cell-b5282dff7d71f981",
     "locked": true,
     "schema_version": 3,
     "solution": false,
     "task": false
    }
   },
   "outputs": [
    {
     "name": "stdout",
     "output_type": "stream",
     "text": [
      "Collecting sklearn\n",
      "  Using cached sklearn-0.0.post11.tar.gz (3.6 kB)\n",
      "  Preparing metadata (setup.py): started\n",
      "  Preparing metadata (setup.py): finished with status 'error'\n",
      "Note: you may need to restart the kernel to use updated packages.\n"
     ]
    },
    {
     "name": "stderr",
     "output_type": "stream",
     "text": [
      "  error: subprocess-exited-with-error\n",
      "  \n",
      "  python setup.py egg_info did not run successfully.\n",
      "  exit code: 1\n",
      "  \n",
      "  [18 lines of output]\n",
      "  The 'sklearn' PyPI package is deprecated, use 'scikit-learn'\n",
      "  rather than 'sklearn' for pip commands.\n",
      "  \n",
      "  Here is how to fix this error in the main use cases:\n",
      "  - use 'pip install scikit-learn' rather than 'pip install sklearn'\n",
      "  - replace 'sklearn' by 'scikit-learn' in your pip requirements files\n",
      "    (requirements.txt, setup.py, setup.cfg, Pipfile, etc ...)\n",
      "  - if the 'sklearn' package is used by one of your dependencies,\n",
      "    it would be great if you take some time to track which package uses\n",
      "    'sklearn' instead of 'scikit-learn' and report it to their issue tracker\n",
      "  - as a last resort, set the environment variable\n",
      "    SKLEARN_ALLOW_DEPRECATED_SKLEARN_PACKAGE_INSTALL=True to avoid this error\n",
      "  \n",
      "  More information is available at\n",
      "  https://github.com/scikit-learn/sklearn-pypi-package\n",
      "  \n",
      "  If the previous advice does not cover your use case, feel free to report it at\n",
      "  https://github.com/scikit-learn/sklearn-pypi-package/issues/new\n",
      "  [end of output]\n",
      "  \n",
      "  note: This error originates from a subprocess, and is likely not a problem with pip.\n",
      "error: metadata-generation-failed\n",
      "\n",
      "Encountered error while generating package metadata.\n",
      "\n",
      "See above for output.\n",
      "\n",
      "note: This is an issue with the package mentioned above, not pip.\n",
      "hint: See above for details.\n"
     ]
    }
   ],
   "source": [
    "%pip install sklearn matplotlib seaborn"
   ]
  },
  {
   "cell_type": "markdown",
   "metadata": {
    "deletable": false,
    "editable": false,
    "nbgrader": {
     "cell_type": "markdown",
     "checksum": "e4123d32ab42d9b9e9a74bf5181c31b3",
     "grade": false,
     "grade_id": "cell-b8b633bf4f57f8f0",
     "locked": true,
     "schema_version": 3,
     "solution": false,
     "task": false
    },
    "slideshow": {
     "slide_type": "slide"
    }
   },
   "source": [
    "## TASK 1: Making Yourself Familiar with the Data (15%)\n",
    "\n",
    "The MNIST handwritten digits dataset can be loaded directly from scikit-learn.\n",
    "The code below loads the digits dataset for you and prints its description\n",
    "\n",
    "### 1. Loading the dataset"
   ]
  },
  {
   "cell_type": "code",
   "execution_count": 2,
   "metadata": {
    "slideshow": {
     "slide_type": "fragment"
    }
   },
   "outputs": [
    {
     "name": "stdout",
     "output_type": "stream",
     "text": [
      ".. _digits_dataset:\n",
      "\n",
      "Optical recognition of handwritten digits dataset\n",
      "--------------------------------------------------\n",
      "\n",
      "**Data Set Characteristics:**\n",
      "\n",
      "    :Number of Instances: 1797\n",
      "    :Number of Attributes: 64\n",
      "    :Attribute Information: 8x8 image of integer pixels in the range 0..16.\n",
      "    :Missing Attribute Values: None\n",
      "    :Creator: E. Alpaydin (alpaydin '@' boun.edu.tr)\n",
      "    :Date: July; 1998\n",
      "\n",
      "This is a copy of the test set of the UCI ML hand-written digits datasets\n",
      "https://archive.ics.uci.edu/ml/datasets/Optical+Recognition+of+Handwritten+Digits\n",
      "\n",
      "The data set contains images of hand-written digits: 10 classes where\n",
      "each class refers to a digit.\n",
      "\n",
      "Preprocessing programs made available by NIST were used to extract\n",
      "normalized bitmaps of handwritten digits from a preprinted form. From a\n",
      "total of 43 people, 30 contributed to the training set and different 13\n",
      "to the test set. 32x32 bitmaps are divided into nonoverlapping blocks of\n",
      "4x4 and the number of on pixels are counted in each block. This generates\n",
      "an input matrix of 8x8 where each element is an integer in the range\n",
      "0..16. This reduces dimensionality and gives invariance to small\n",
      "distortions.\n",
      "\n",
      "For info on NIST preprocessing routines, see M. D. Garris, J. L. Blue, G.\n",
      "T. Candela, D. L. Dimmick, J. Geist, P. J. Grother, S. A. Janet, and C.\n",
      "L. Wilson, NIST Form-Based Handprint Recognition System, NISTIR 5469,\n",
      "1994.\n",
      "\n",
      ".. topic:: References\n",
      "\n",
      "  - C. Kaynak (1995) Methods of Combining Multiple Classifiers and Their\n",
      "    Applications to Handwritten Digit Recognition, MSc Thesis, Institute of\n",
      "    Graduate Studies in Science and Engineering, Bogazici University.\n",
      "  - E. Alpaydin, C. Kaynak (1998) Cascading Classifiers, Kybernetika.\n",
      "  - Ken Tang and Ponnuthurai N. Suganthan and Xi Yao and A. Kai Qin.\n",
      "    Linear dimensionalityreduction using relevance weighted LDA. School of\n",
      "    Electrical and Electronic Engineering Nanyang Technological University.\n",
      "    2005.\n",
      "  - Claudio Gentile. A New Approximate Maximal Margin Classification\n",
      "    Algorithm. NIPS. 2000.\n",
      "\n"
     ]
    }
   ],
   "source": [
    "from sklearn import datasets\n",
    "digits = datasets.load_digits()\n",
    "print(digits['DESCR'])"
   ]
  },
  {
   "cell_type": "markdown",
   "metadata": {
    "deletable": false,
    "editable": false,
    "nbgrader": {
     "cell_type": "markdown",
     "checksum": "e3dc9ed01cd9dd4e78dc3529e8e8d644",
     "grade": false,
     "grade_id": "cell-6f34b4ddf1c07b83",
     "locked": true,
     "schema_version": 3,
     "solution": false,
     "task": false
    }
   },
   "source": [
    "### 2. Inspect the data (5%)\n",
    "- What object type is `digits`? Store its `type` into variable `mnist_type`.\n",
    "- You will find out that `digits` is container-like (more specifically dict-like). Find out how to access its keys that are used to store data within the container and store this list of keys in variable `mnist_keys`."
   ]
  },
  {
   "cell_type": "code",
   "execution_count": 4,
   "metadata": {
    "deletable": false,
    "nbgrader": {
     "cell_type": "code",
     "checksum": "963ed4bab9392a2d0e2621ad23c6aadb",
     "grade": false,
     "grade_id": "cell-6d76444aa3818227",
     "locked": false,
     "schema_version": 3,
     "solution": true,
     "task": false
    }
   },
   "outputs": [
    {
     "name": "stdout",
     "output_type": "stream",
     "text": [
      "<class 'sklearn.utils.Bunch'>\n",
      "['data', 'target', 'frame', 'feature_names', 'target_names', 'images', 'DESCR']\n"
     ]
    }
   ],
   "source": [
    "# YOUR CODE HERE\n",
    "mnist_type = type(digits)\n",
    "print(mnist_type)\n",
    "mnist_keys = list(digits.keys())\n",
    "print(mnist_keys)"
   ]
  },
  {
   "cell_type": "code",
   "execution_count": null,
   "metadata": {
    "deletable": false,
    "editable": false,
    "nbgrader": {
     "cell_type": "code",
     "checksum": "2f8c4e19dec22aa9a719929ee70d2462",
     "grade": true,
     "grade_id": "cell-06eed1b220f62af3",
     "locked": true,
     "points": 5,
     "schema_version": 3,
     "solution": false,
     "task": false
    }
   },
   "outputs": [],
   "source": [
    "# Ignore this cell - it is needed for automated grading."
   ]
  },
  {
   "cell_type": "markdown",
   "metadata": {
    "deletable": false,
    "editable": false,
    "nbgrader": {
     "cell_type": "markdown",
     "checksum": "246566df6000e89cd351e8da24a41956",
     "grade": false,
     "grade_id": "cell-9f64bbdb80e6ee9f",
     "locked": true,
     "schema_version": 3,
     "solution": false,
     "task": false
    },
    "slideshow": {
     "slide_type": "subslide"
    }
   },
   "source": [
    "### 3. Plot an image and its label from the dataset (10%)\n",
    "\n",
    "Now that you know how to access `images` and `target` in `digits`, access a single image and then plot this image using matplotlib's [`imshow()`](https://matplotlib.org/stable/api/_as_gen/matplotlib.pyplot.imshow.html).\n",
    "Then, set the image `target` (may also be called label in related literature, denotes the true numeric value of handwritten digit in image in this case) as the plot title by accessing the `target` corresponding to the image you chose."
   ]
  },
  {
   "cell_type": "code",
   "execution_count": 8,
   "metadata": {
    "deletable": false,
    "nbgrader": {
     "cell_type": "code",
     "checksum": "e063aa9ddd7a7a34a281e6ee21f151a6",
     "grade": true,
     "grade_id": "cell-b090761cd3341034",
     "locked": false,
     "points": 10,
     "schema_version": 3,
     "solution": true,
     "task": false
    },
    "slideshow": {
     "slide_type": "fragment"
    }
   },
   "outputs": [
    {
     "data": {
      "image/png": "[encoded data removed]",
      "text/plain": [
       "<Figure size 400x400 with 1 Axes>"
      ]
     },
     "metadata": {},
     "output_type": "display_data"
    }
   ],
   "source": [
    "import matplotlib.pyplot as plt\n",
    "img_nr = 6\n",
    "\n",
    "image = digits.images[img_nr]\n",
    "target = digits.target[img_nr]\n",
    "\n",
    "plt.figure(figsize=(4, 4))\n",
    "plt.imshow(image, cmap=plt.cm.gray_r, interpolation='nearest')\n",
    "plt.title(f\"True Label: {target}\")\n",
    "plt.show()"
   ]
  },
  {
   "cell_type": "markdown",
   "metadata": {
    "deletable": false,
    "editable": false,
    "nbgrader": {
     "cell_type": "markdown",
     "checksum": "da78fd0b1404a1d924d36b5688fc0555",
     "grade": false,
     "grade_id": "cell-49ff109538ca77db",
     "locked": true,
     "schema_version": 3,
     "solution": false,
     "task": false
    }
   },
   "source": [
    "## TASK 2: Preprocessing (5%)\n",
    "\n",
    "As this dataset is wildly popular in the optical recognition domain and highly preprocessed already, preprocessing can be kept simple.\n",
    "\n",
    "The only thing you need to know is, that the simple classifier you are about to apply to the image data is not able to process two-dimensional data. This is why you need to [reshape](https://numpy.org/doc/stable/reference/generated/numpy.reshape.html) the images contained in `digits.images` to be one-dimensional.\n",
    "\n",
    "Store this 1D representation of `digits.images` in the variable `data`."
   ]
  },
  {
   "cell_type": "code",
   "execution_count": 11,
   "metadata": {
    "deletable": false,
    "nbgrader": {
     "cell_type": "code",
     "checksum": "4ae8e9ff90b590792742cd38ebd814a7",
     "grade": false,
     "grade_id": "cell-21ff99c0826d13b9",
     "locked": false,
     "schema_version": 3,
     "solution": true,
     "task": false
    }
   },
   "outputs": [],
   "source": [
    "# YOUR CODE HERE\n",
    "data = digits.images.reshape(len(digits.images), -1)"
   ]
  },
  {
   "cell_type": "code",
   "execution_count": null,
   "metadata": {
    "deletable": false,
    "editable": false,
    "nbgrader": {
     "cell_type": "code",
     "checksum": "5693030faae1196c9d2f22b9ecfb7464",
     "grade": true,
     "grade_id": "cell-8ae02517cb4472d8",
     "locked": true,
     "points": 5,
     "schema_version": 3,
     "solution": false,
     "task": false
    }
   },
   "outputs": [],
   "source": [
    "# Ignore this cell - it is needed for automated grading."
   ]
  },
  {
   "cell_type": "markdown",
   "metadata": {
    "deletable": false,
    "editable": false,
    "nbgrader": {
     "cell_type": "markdown",
     "checksum": "f938772579541ab7af1a97b16e3126fc",
     "grade": false,
     "grade_id": "cell-8d84c8cc13f3c9a5",
     "locked": true,
     "schema_version": 3,
     "solution": false,
     "task": false
    }
   },
   "source": [
    "## TASK 3: Splitting the Data into a Train-, and Test-Set (10%)\n",
    "\n",
    "To correctly apply supervised learning, you need to make sure that the `data` and labels your model is trained on is strictly kept separate from the data your model's performance is tested on.\n",
    "\n",
    "Conveniently, sklearn provides the handy function [`train_test_split()`](https://scikit-learn.org/stable/modules/generated/sklearn.model_selection.train_test_split.html) to do this for you.\n",
    "\n",
    "Apply the split while making sure that the data and corresponding targets are correctly matched (hint: this can be done by passing `data` and `digits.target` to `train_test_split()`). Store the train-, and test-set containing 1D-representation of the images to `X_train` and `X_test`, store the corresponding labels to `y_train` and `y_test`."
   ]
  },
  {
   "cell_type": "code",
   "execution_count": 14,
   "metadata": {
    "deletable": false,
    "nbgrader": {
     "cell_type": "code",
     "checksum": "c2963a4f42ee1cb94e55a82af5e903df",
     "grade": false,
     "grade_id": "cell-eaccca3abcb3bb6f",
     "locked": false,
     "schema_version": 3,
     "solution": true,
     "task": false
    }
   },
   "outputs": [],
   "source": [
    "# YOUR CODE HERE\n",
    "from sklearn.model_selection import train_test_split\n",
    "X_train, X_test, y_train, y_test = train_test_split(data, digits.target, test_size=0.2, random_state=12345)"
   ]
  },
  {
   "cell_type": "code",
   "execution_count": null,
   "metadata": {
    "deletable": false,
    "editable": false,
    "nbgrader": {
     "cell_type": "code",
     "checksum": "ad15f92b68e59d554006ac3e95aee67e",
     "grade": true,
     "grade_id": "cell-32129f8c633c8f78",
     "locked": true,
     "points": 10,
     "schema_version": 3,
     "solution": false,
     "task": false
    }
   },
   "outputs": [],
   "source": [
    "# Ignore this cell - it is needed for automated grading."
   ]
  },
  {
   "cell_type": "markdown",
   "metadata": {
    "deletable": false,
    "editable": false,
    "nbgrader": {
     "cell_type": "markdown",
     "checksum": "16d855bef74915556fc4b1c3ae2ec97d",
     "grade": false,
     "grade_id": "cell-d3db4f38f2cec484",
     "locked": true,
     "schema_version": 3,
     "solution": false,
     "task": false
    },
    "slideshow": {
     "slide_type": "subslide"
    }
   },
   "source": [
    "## TASK 4: Training a Support Vector Machine (20%)\n",
    "\n",
    "Next, you are going to set up the machine learning model that is used in your optical recognition system. More specifically, focus on the [LinearSVC](https://scikit-learn.org/stable/modules/generated/sklearn.svm.LinearSVC.html) classifier provided by sklearn.\n",
    "\n",
    "If you want to learn more about SVMs and their functionality, you may start with this article on [towardsdatascience.com](https://towardsdatascience.com/https-medium-com-pupalerushikesh-svm-f4b42800e989#)."
   ]
  },
  {
   "cell_type": "code",
   "execution_count": 15,
   "metadata": {
    "deletable": false,
    "editable": false,
    "nbgrader": {
     "cell_type": "code",
     "checksum": "5a8ad36b6b837819ca323d52964b08b1",
     "grade": false,
     "grade_id": "cell-c274726f1bbbaafb",
     "locked": true,
     "schema_version": 3,
     "solution": false,
     "task": false
    },
    "slideshow": {
     "slide_type": "fragment"
    }
   },
   "outputs": [],
   "source": [
    "from sklearn.svm import LinearSVC\n",
    "from sklearn.metrics import accuracy_score, ConfusionMatrixDisplay"
   ]
  },
  {
   "cell_type": "markdown",
   "metadata": {
    "deletable": false,
    "editable": false,
    "nbgrader": {
     "cell_type": "markdown",
     "checksum": "f028b065329933cbf5971905d2e43acb",
     "grade": false,
     "grade_id": "cell-2a57a8ca35e19c04",
     "locked": true,
     "schema_version": 3,
     "solution": false,
     "task": false
    }
   },
   "source": [
    "### 1. Instantiate the LinearSVC (10%)\n",
    "\n",
    "Store an instance of `LinearSVC` in variable `svm`.\n",
    "You do not need to set specific parameters to certain values, keeping all settings default is fine."
   ]
  },
  {
   "cell_type": "code",
   "execution_count": 16,
   "metadata": {
    "deletable": false,
    "nbgrader": {
     "cell_type": "code",
     "checksum": "b7c03f63b8afcd8940184902a49eb2aa",
     "grade": false,
     "grade_id": "cell-a951fd51032ceeff",
     "locked": false,
     "schema_version": 3,
     "solution": true,
     "task": false
    }
   },
   "outputs": [],
   "source": [
    "# YOUR CODE HERE\n",
    "svm = LinearSVC()"
   ]
  },
  {
   "cell_type": "code",
   "execution_count": null,
   "metadata": {
    "deletable": false,
    "editable": false,
    "nbgrader": {
     "cell_type": "code",
     "checksum": "1913de9e6aa27a4507b6d55b32b2cf16",
     "grade": true,
     "grade_id": "cell-c4042a484f4d1a56",
     "locked": true,
     "points": 10,
     "schema_version": 3,
     "solution": false,
     "task": false
    }
   },
   "outputs": [],
   "source": [
    "# Ignore this cell - it is needed for automated grading."
   ]
  },
  {
   "cell_type": "markdown",
   "metadata": {
    "deletable": false,
    "editable": false,
    "nbgrader": {
     "cell_type": "markdown",
     "checksum": "d5cab9faaeeda3825e6d22e8ffcca7dc",
     "grade": false,
     "grade_id": "cell-0ed5428a4764ea90",
     "locked": true,
     "schema_version": 3,
     "solution": false,
     "task": false
    }
   },
   "source": [
    "### 2. Start the training using the train-set (10%)\n",
    "\n",
    "This process is typically called _fitting_ and is therefore usually started by calling the `fit()` method of a classifier.\n",
    "Consult the docs of `LinearSVC` to learn how to do this correctly.\n",
    "\n",
    "You may get some warnings here because we did not concern ourselves with tuning the `LinearSVC`'s parameters. Ignore these warnings for now."
   ]
  },
  {
   "cell_type": "code",
   "execution_count": 17,
   "metadata": {
    "deletable": false,
    "nbgrader": {
     "cell_type": "code",
     "checksum": "9dcebfd2e019a989a788afb0315f8c65",
     "grade": false,
     "grade_id": "cell-c1733f30fd21e17f",
     "locked": false,
     "schema_version": 3,
     "solution": true,
     "task": false
    }
   },
   "outputs": [
    {
     "name": "stderr",
     "output_type": "stream",
     "text": [
      "C:\\Users\\quint\\anaconda3\\lib\\site-packages\\sklearn\\svm\\_base.py:1206: ConvergenceWarning: Liblinear failed to converge, increase the number of iterations.\n",
      "  warnings.warn(\n"
     ]
    },
    {
     "data": {
      "text/plain": [
       "LinearSVC()"
      ]
     },
     "execution_count": 17,
     "metadata": {},
     "output_type": "execute_result"
    }
   ],
   "source": [
    "# YOUR CODE HERE\n",
    "svm.fit(X_train, y_train)"
   ]
  },
  {
   "cell_type": "code",
   "execution_count": null,
   "metadata": {
    "deletable": false,
    "editable": false,
    "nbgrader": {
     "cell_type": "code",
     "checksum": "2bb5134a373c134d3ee2bfdb9d28372b",
     "grade": true,
     "grade_id": "cell-73d8fd21d8cf1bf9",
     "locked": true,
     "points": 10,
     "schema_version": 3,
     "solution": false,
     "task": false
    }
   },
   "outputs": [],
   "source": [
    "# Ignore this cell - it is needed for automated grading."
   ]
  },
  {
   "cell_type": "markdown",
   "metadata": {
    "deletable": false,
    "editable": false,
    "nbgrader": {
     "cell_type": "markdown",
     "checksum": "3d3ee2a7662cf88ef1aca15ae3e1bc30",
     "grade": false,
     "grade_id": "cell-1be00c1045596622",
     "locked": true,
     "schema_version": 3,
     "solution": false,
     "task": false
    }
   },
   "source": [
    "## TASK 5: Evaluating the `LinearSVC`'s Performance (30%)\n",
    "\n",
    "After training, we want to see how well our model is able to perform its task (in our case: recognizing handwritten digits from image data) on new data. This is where the test dataset comes into play!\n",
    "\n",
    "### 1. Perform prediction on the test-set (10%)\n",
    "\n",
    "We ask our model to predict a label for each image in the test dataset `X_test`.\n",
    "This can be done by passing `X_test` to the `svm`'s `predict()` method.\n",
    "Store the return value of `predict()` in the variable `y_pred`."
   ]
  },
  {
   "cell_type": "code",
   "execution_count": 18,
   "metadata": {
    "deletable": false,
    "nbgrader": {
     "cell_type": "code",
     "checksum": "56f5861583d563b4a183679c7d0adbf6",
     "grade": false,
     "grade_id": "cell-5a17e39020cf60ad",
     "locked": false,
     "schema_version": 3,
     "solution": true,
     "task": false
    }
   },
   "outputs": [],
   "source": [
    "# YOUR CODE HERE\n",
    "y_pred = svm.predict(X_test)"
   ]
  },
  {
   "cell_type": "code",
   "execution_count": null,
   "metadata": {
    "deletable": false,
    "editable": false,
    "nbgrader": {
     "cell_type": "code",
     "checksum": "891ba22e81829c80d1f8dc8712cc8e78",
     "grade": true,
     "grade_id": "cell-efcc810424b8beb3",
     "locked": true,
     "points": 10,
     "schema_version": 3,
     "solution": false,
     "task": false
    }
   },
   "outputs": [],
   "source": [
    "# Ignore this cell - it is needed for automated grading."
   ]
  },
  {
   "cell_type": "markdown",
   "metadata": {
    "deletable": false,
    "editable": false,
    "nbgrader": {
     "cell_type": "markdown",
     "checksum": "0cdd51b888fc76072ea66207b3615bd1",
     "grade": false,
     "grade_id": "cell-57d0544639a387f4",
     "locked": true,
     "schema_version": 3,
     "solution": false,
     "task": false
    }
   },
   "source": [
    "### 2. Evaluate the Performance using Typical Performance Measures (10%)\n",
    "\n",
    "Want to know how many of the handwritten digits were identified correctly?\n",
    "To get the answer, calculate and print out the accuracy of our result using the function `accuracy_score()`. Store the result in `svc_accuracy`.\n",
    "\n",
    "Hint: `accuracy_score` is already imported for you from sklearn at the start of TASK 4.\n"
   ]
  },
  {
   "cell_type": "code",
   "execution_count": 21,
   "metadata": {
    "deletable": false,
    "nbgrader": {
     "cell_type": "code",
     "checksum": "ba21f8ba012e33406c052aed94f153ac",
     "grade": false,
     "grade_id": "cell-4e022994d617d3c9",
     "locked": false,
     "schema_version": 3,
     "solution": true,
     "task": false
    }
   },
   "outputs": [
    {
     "name": "stdout",
     "output_type": "stream",
     "text": [
      "Accuracy: 0.9444444444444444\n"
     ]
    }
   ],
   "source": [
    "from sklearn.metrics import accuracy_score\n",
    "\n",
    "svc_accuracy = accuracy_score(y_test, y_pred)\n",
    "print(\"Accuracy:\", svc_accuracy)"
   ]
  },
  {
   "cell_type": "code",
   "execution_count": 22,
   "metadata": {
    "deletable": false,
    "editable": false,
    "nbgrader": {
     "cell_type": "code",
     "checksum": "ac4782969a6c4e66987fbc62a1bb8d22",
     "grade": true,
     "grade_id": "cell-3c0cc4b38c935054",
     "locked": true,
     "points": 10,
     "schema_version": 3,
     "solution": false,
     "task": false
    }
   },
   "outputs": [],
   "source": [
    "assert svc_accuracy > 0.9"
   ]
  },
  {
   "cell_type": "markdown",
   "metadata": {
    "deletable": false,
    "editable": false,
    "nbgrader": {
     "cell_type": "markdown",
     "checksum": "2c62ea607a0ae345495e0ed6b6e2d4df",
     "grade": false,
     "grade_id": "cell-ee8062491b78a8ab",
     "locked": true,
     "schema_version": 3,
     "solution": false,
     "task": false
    }
   },
   "source": [
    "### 3. Plot the confusion matrix (10%)\n",
    "\n",
    "Another way to evaluate your classifier's performance is the plotting of a confusion matrix.\n",
    "Sklearn provides the method [`ConfusionMatrixDisplay.from_predictions()`](https://scikit-learn.org/stable/modules/generated/sklearn.metrics.ConfusionMatrixDisplay.html#sklearn.metrics.ConfusionMatrixDisplay.from_predictions) to perform this task.\n",
    "\n",
    "Make sure to pass the labels for the test set as well as the corresponding predictions to the method `ConfusionMatrixDisplay.from_predictions()`.\n",
    "Don't forget to set a title for your plot!"
   ]
  },
  {
   "cell_type": "code",
   "execution_count": 26,
   "metadata": {
    "deletable": false,
    "nbgrader": {
     "cell_type": "code",
     "checksum": "e25d661ddaf76db3b10c6488712e0dd0",
     "grade": true,
     "grade_id": "cell-e850bd932592b859",
     "locked": false,
     "points": 10,
     "schema_version": 3,
     "solution": true,
     "task": false
    }
   },
   "outputs": [
    {
     "data": {
      "text/plain": [
       "Text(0.5, 0.98, 'Confusion Matrix')"
      ]
     },
     "execution_count": 26,
     "metadata": {},
     "output_type": "execute_result"
    },
    {
     "data": {
      "image/png": "[encoded data removed]",
      "text/plain": [
       "<Figure size 640x480 with 2 Axes>"
      ]
     },
     "metadata": {},
     "output_type": "display_data"
    }
   ],
   "source": [
    "# YOUR CODE HERE\n",
    "from sklearn.metrics import ConfusionMatrixDisplay\n",
    "import matplotlib.pyplot as plt\n",
    "\n",
    "cm_display = ConfusionMatrixDisplay.from_estimator(svm, X_test, y_test)\n",
    "\n",
    "cm_display.figure_.suptitle(\"Confusion Matrix\")"
   ]
  },
  {
   "cell_type": "markdown",
   "metadata": {
    "deletable": false,
    "editable": false,
    "nbgrader": {
     "cell_type": "markdown",
     "checksum": "b95b1859065152e32cda1f36729396e8",
     "grade": false,
     "grade_id": "cell-bbba0858be4b5b8f",
     "locked": true,
     "schema_version": 3,
     "solution": false,
     "task": false
    }
   },
   "source": [
    "## TASK 6: Recall and Summarize (20%)\n",
    "\n",
    "You reached the end of our short guided tutorial into the world of supervised learning.\n",
    "In your own words, give an overview of the tasks you completed up to now in the cell below and include:\n",
    "\n",
    "- a description of the task you were asked to perform\n",
    "- the idea behind the classifier (`LinearSVC`) you used (no details about the functionality are needed)\n",
    "- an interpretation of the results of your evaluation"
   ]
  },
  {
   "cell_type": "markdown",
   "metadata": {
    "deletable": false,
    "nbgrader": {
     "cell_type": "markdown",
     "checksum": "ffed83fc3e4d2064d3f139f22bbfef5a",
     "grade": true,
     "grade_id": "cell-b1785d8ebaf10770",
     "locked": false,
     "points": 20,
     "schema_version": 3,
     "solution": true,
     "task": false
    }
   },
   "source": [
    "Description:\n",
    "We loaded in small images with hand written numbers. We then did the usual ML pipeline on it like train test split, fit and predict. We used LinearSVC for this.\n",
    "\n",
    "LinearSVC:\n",
    "LinearSVC stands for Linear Support Vector Classifier. It is a ML algorithm that helps classify data into different categories by finding the best straight line (or hyperplane) that separates the data points into those categories.\n",
    "\n",
    "Results are really good. 94% accuracy (if it were a more complex model I'd almost say its overfitting :P). Even on the confusion matrix we can see that theres almost a diagonal line. This is what we want. The predictions almost didnt make any mistakes."
   ]
  }
 ],
 "metadata": {
  "kernelspec": {
   "display_name": "Python 3 (ipykernel)",
   "language": "python",
   "name": "python3"
  },
  "language_info": {
   "codemirror_mode": {
    "name": "ipython",
    "version": 3
   },
   "file_extension": ".py",
   "mimetype": "text/x-python",
   "name": "python",
   "nbconvert_exporter": "python",
   "pygments_lexer": "ipython3",
   "version": "3.9.13"
  }
 },
 "nbformat": 4,
 "nbformat_minor": 4
}
