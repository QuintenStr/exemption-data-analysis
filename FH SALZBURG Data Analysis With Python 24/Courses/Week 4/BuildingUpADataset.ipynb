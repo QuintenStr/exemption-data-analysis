{
 "cells": [
  {
   "cell_type": "markdown",
   "metadata": {
    "tags": []
   },
   "source": [
    "# Crawling and building up a dataset"
   ]
  },
  {
   "cell_type": "code",
   "execution_count": null,
   "metadata": {},
   "outputs": [],
   "source": [
    "!pip install lxml html5lib"
   ]
  },
  {
   "cell_type": "markdown",
   "metadata": {},
   "source": [
    "First things first: our best friend, Pandas!  😀\n",
    "\n",
    "For this example, we are using [this webpage](https://www.fdic.gov/bank/individual/failed/banklist.html)."
   ]
  },
  {
   "cell_type": "code",
   "execution_count": null,
   "metadata": {},
   "outputs": [],
   "source": [
    "import pandas as pd\n",
    "url = 'https://www.laola1.at/de/daten/tabelle/fussball/oesterreichische-bundesliga/'\n",
    "dfs = pd.read_html(url)[0]\n",
    "dfs.head()"
   ]
  },
  {
   "cell_type": "markdown",
   "metadata": {
    "tags": []
   },
   "source": [
    "For further information on HTML parsing using Pandas, please have a look at [the Pandas IO user guide](https://pandas.pydata.org/pandas-docs/stable/user_guide/io.html#io-read-html)."
   ]
  },
  {
   "cell_type": "markdown",
   "metadata": {
    "tags": []
   },
   "source": [
    "## Most-used libraries for scrapping HTML\n",
    "- Scrapy\n",
    "- BeautifulSoup (BS)\n",
    "- (Selenium)\n",
    "\n",
    "\n",
    "## Procedure\n",
    "$$ \\text{URL} \\rightarrow \\text{HTTP-Request} \\rightarrow \\text{HTML} \\rightarrow \\text{Scrapy / BS} $$\n",
    "\n",
    "\n",
    "## Our data for today\n",
    "Let's work on [Quotes to Scrape](http://quotes.toscrape.com/)!"
   ]
  },
  {
   "cell_type": "markdown",
   "metadata": {
    "tags": []
   },
   "source": [
    "## Attention\n",
    "![Attention](https://images.unsplash.com/photo-1579019874729-ffca9e9fe11c?ixid=MXwxMjA3fDB8MHxwaG90by1wYWdlfHx8fGVufDB8fHw%3D&ixlib=rb-1.2.1&auto=format&fit=crop&w=1350&q=80)\n",
    "\n",
    "Not every website hosted likes to be scrapped! Be careful! A [robots.txt](https://developers.google.com/search/docs/crawling-indexing/robots/intro) file indicates wether it is permitted or not.\n",
    "\n",
    "[http://toscrape.com](http://toscrape.com) is intentionally built up to be scrapped."
   ]
  },
  {
   "cell_type": "code",
   "execution_count": null,
   "metadata": {},
   "outputs": [],
   "source": [
    "import requests\n",
    "import csv\n",
    "from bs4 import BeautifulSoup\n",
    "\n",
    "url = \"http://quotes.toscrape.com/\"\n",
    "response = requests.get(url)\n",
    "\n",
    "html = BeautifulSoup(response.text, 'html.parser')"
   ]
  },
  {
   "cell_type": "code",
   "execution_count": null,
   "metadata": {},
   "outputs": [],
   "source": [
    "html"
   ]
  },
  {
   "cell_type": "code",
   "execution_count": null,
   "metadata": {},
   "outputs": [],
   "source": [
    "quotes_html = html.find_all('span', class_=\"text\")\n",
    "authors_html = html.find_all('small', class_=\"author\")\n",
    "quotes_html"
   ]
  },
  {
   "cell_type": "code",
   "execution_count": null,
   "metadata": {},
   "outputs": [],
   "source": [
    "quotes = [quote.text for quote in quotes_html]\n",
    "authors = [author.text for author in authors_html]\n",
    "\n",
    "for t in zip(quotes, authors):\n",
    "    print(t)"
   ]
  },
  {
   "cell_type": "markdown",
   "metadata": {},
   "source": [
    "## Scraping in practice\n",
    "The following talk is recommended if you want to learn about scrapping https://www.youtube.com/watch?v=0rb9CfOvojk\n",
    "(Sorry, this talk is in german, but the automatic translation is ok)"
   ]
  },
  {
   "cell_type": "markdown",
   "metadata": {
    "tags": []
   },
   "source": [
    "# Wrap-Up Exercise: Build up a small dataset\n",
    "Go to your favorite news site and store the link of 2-3 articles in a list. Iterate over that list and crawl for each article the title, subtitle, author, date, and the first paragraph (or the whole) of the text. Store everything in a DataFrame and store it in your disc.\n",
    "\n",
    "What do you think can be done with this data? (https://www.youtube.com/watch?v=-YpwsdRKt8Q)"
   ]
  },
  {
   "cell_type": "code",
   "execution_count": null,
   "metadata": {
    "deletable": false,
    "nbgrader": {
     "cell_type": "code",
     "checksum": "61de5f3926b430a283660f30ad2dcb4e",
     "grade": true,
     "grade_id": "cell-95f00e871a8f4d03",
     "locked": false,
     "points": 0,
     "schema_version": 3,
     "solution": true,
     "task": false
    }
   },
   "outputs": [],
   "source": [
    "# YOUR CODE HERE\n",
    "raise NotImplementedError()"
   ]
  }
 ],
 "metadata": {
  "kernelspec": {
   "display_name": "Python 3 (ipykernel)",
   "language": "python",
   "name": "python3"
  },
  "language_info": {
   "codemirror_mode": {
    "name": "ipython",
    "version": 3
   },
   "file_extension": ".py",
   "mimetype": "text/x-python",
   "name": "python",
   "nbconvert_exporter": "python",
   "pygments_lexer": "ipython3",
   "version": "3.10.12"
  }
 },
 "nbformat": 4,
 "nbformat_minor": 4
}
