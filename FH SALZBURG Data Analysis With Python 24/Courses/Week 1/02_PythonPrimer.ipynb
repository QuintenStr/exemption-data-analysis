{
 "cells": [
  {
   "cell_type": "markdown",
   "metadata": {
    "deletable": false,
    "editable": false,
    "nbgrader": {
     "cell_type": "markdown",
     "checksum": "1ffbdb88d9e4e83e2f22bcfc3bd577f0",
     "grade": false,
     "grade_id": "cell-6172da717a9e547b",
     "locked": true,
     "schema_version": 3,
     "solution": false,
     "task": false
    },
    "slideshow": {
     "slide_type": "slide"
    }
   },
   "source": [
    "# Python Primer\n",
    "\n",
    "## Table of Contents\n",
    "\n",
    "1. [Basic Operations](#intro)\n",
    "- [Variables and Types](#vars)\n",
    "- [Lists](#lists)\n",
    "- [Basic Operators](#operators)\n",
    "- [String Operators and Formatting](#strings)\n",
    "- [Conditions](#conditions)\n",
    "- [Loops](#loops)\n",
    "\n",
    "2. [Functions Classes and Data Structures](#fcds)\n",
    "- [Functions](#pyfunctions)\n",
    "- [Classes](#pyclasses)\n",
    "- [Dictionaries](#pydicts)\n",
    "- [Sets](#pysets)\n",
    "- [List Comprehensions](#listcomprehension)\n",
    "\n",
    "3. [Exception Handling](#exceptions)\n",
    "\n",
    "4. [Exercises](#exercises)"
   ]
  },
  {
   "cell_type": "markdown",
   "metadata": {
    "deletable": false,
    "editable": false,
    "nbgrader": {
     "cell_type": "markdown",
     "checksum": "67b2f8c1a1efe5e4a5b66c79df448be1",
     "grade": false,
     "grade_id": "cell-2dc510f4fa0b4ace",
     "locked": true,
     "schema_version": 3,
     "solution": false,
     "task": false
    },
    "slideshow": {
     "slide_type": "slide"
    }
   },
   "source": [
    "<a name=\"intro\"></a>\n",
    "# Python Intro and Basic Operations"
   ]
  },
  {
   "cell_type": "markdown",
   "metadata": {
    "deletable": false,
    "editable": false,
    "nbgrader": {
     "cell_type": "markdown",
     "checksum": "9abdfca05b7bce53ad8409656e9c1930",
     "grade": false,
     "grade_id": "cell-2f6b5510fd931949",
     "locked": true,
     "schema_version": 3,
     "solution": false,
     "task": false
    },
    "slideshow": {
     "slide_type": "subslide"
    }
   },
   "source": [
    "## Hello, World!\n",
    "The Hello, World! starter code is a single line only.\n",
    "\n",
    "The print directive is built-in and does not require any library imports. It already includes a newline at the end of the string."
   ]
  },
  {
   "cell_type": "code",
   "execution_count": null,
   "metadata": {
    "slideshow": {
     "slide_type": "fragment"
    }
   },
   "outputs": [],
   "source": [
    "print(\"Hello, world!\")"
   ]
  },
  {
   "cell_type": "markdown",
   "metadata": {
    "deletable": false,
    "editable": false,
    "nbgrader": {
     "cell_type": "markdown",
     "checksum": "9d0e0266a9aa141634590740670cdd33",
     "grade": false,
     "grade_id": "cell-a983adaa84fdf396",
     "locked": true,
     "schema_version": 3,
     "solution": false,
     "task": false
    },
    "slideshow": {
     "slide_type": "subslide"
    }
   },
   "source": [
    "## Basic Syntax\n",
    "Python syntax is clear and easy-to-read. However, it has a strict style using indentation instead of brackets.  ``#`` is used to mark single-lined comments.\n",
    "\n",
    "__Source:__ https://docs.python.org/3.11/reference/lexical_analysis.html#line-structure"
   ]
  },
  {
   "cell_type": "code",
   "execution_count": null,
   "metadata": {
    "slideshow": {
     "slide_type": "fragment"
    },
    "tags": []
   },
   "outputs": [],
   "source": [
    "# no semicolon at the end of a statement\n",
    "x = 1\n",
    "# colon at the end of conditions and loops\n",
    "if x == 1:\n",
    "    # indentation to denote different levels of scope\n",
    "    print('x is one.')  # this comment ends a line"
   ]
  },
  {
   "cell_type": "markdown",
   "metadata": {
    "deletable": false,
    "editable": false,
    "nbgrader": {
     "cell_type": "markdown",
     "checksum": "eaa5fd873f8772f4ad827ccacedd7a10",
     "grade": false,
     "grade_id": "cell-283a7a9ff34469f2",
     "locked": true,
     "schema_version": 3,
     "solution": false,
     "task": false
    },
    "slideshow": {
     "slide_type": "subslide"
    },
    "tags": []
   },
   "source": [
    "## Line Joining\n",
    "There are two ways of joining lines in Python: implicit and explicit."
   ]
  },
  {
   "cell_type": "markdown",
   "metadata": {
    "deletable": false,
    "editable": false,
    "nbgrader": {
     "cell_type": "markdown",
     "checksum": "e25b87b8f10e212dcd3c839880e1e2f1",
     "grade": false,
     "grade_id": "cell-54a81223f679693a",
     "locked": true,
     "schema_version": 3,
     "solution": false,
     "task": false
    },
    "slideshow": {
     "slide_type": "fragment"
    },
    "tags": []
   },
   "source": [
    "### Explicit line joining\n",
    "Two or more physical lines may be joined into logical lines using backslash characters (\\), as follows: when a physical line ends in a backslash that is not part of a string literal or comment, it is joined with the following forming a single logical line, deleting the backslash and the following end-of-line character. For example:"
   ]
  },
  {
   "cell_type": "code",
   "execution_count": null,
   "metadata": {
    "slideshow": {
     "slide_type": "fragment"
    }
   },
   "outputs": [],
   "source": [
    "if 1900 < 2010 < 2100 and \\\n",
    "   1 <= 12 <= 31:   # Looks like a valid date\n",
    "    print(\"This is an explicit line join!\")"
   ]
  },
  {
   "cell_type": "markdown",
   "metadata": {
    "deletable": false,
    "editable": false,
    "nbgrader": {
     "cell_type": "markdown",
     "checksum": "1d7351d5865384a01f2e35e7b07ddc56",
     "grade": false,
     "grade_id": "cell-df4fb89606552f7a",
     "locked": true,
     "schema_version": 3,
     "solution": false,
     "task": false
    },
    "slideshow": {
     "slide_type": "fragment"
    },
    "tags": []
   },
   "source": [
    "#### Implicit line joining\n",
    "\n",
    "Expressions in parentheses, square brackets or curly braces can be split over more than one physical line without using backslashes. For example:"
   ]
  },
  {
   "cell_type": "code",
   "execution_count": null,
   "metadata": {
    "slideshow": {
     "slide_type": "fragment"
    }
   },
   "outputs": [],
   "source": [
    "month_names = ['Januari', 'Februari', 'Maart',      # These are the\n",
    "               'April',   'Mei',      'Juni',       # Dutch names\n",
    "               'Juli',    'Augustus', 'September',  # for the months\n",
    "               'Oktober', 'November', 'December']   # of the year\n",
    "\n",
    "print(month_names)"
   ]
  },
  {
   "cell_type": "markdown",
   "metadata": {
    "deletable": false,
    "editable": false,
    "nbgrader": {
     "cell_type": "markdown",
     "checksum": "461806a96a2f05b02c9f80f31e7eb0da",
     "grade": false,
     "grade_id": "cell-7349e0703465ae77",
     "locked": true,
     "schema_version": 3,
     "solution": false,
     "task": false
    },
    "slideshow": {
     "slide_type": "fragment"
    },
    "tags": []
   },
   "source": [
    "Implicitly continued lines can carry comments. The indentation of the continuation lines is not important. Blank continuation lines are allowed. There is no NEWLINE token between implicit continuation lines. Implicitly continued lines can also occur within triple-quoted strings (see below); in that case they cannot carry comments."
   ]
  },
  {
   "cell_type": "markdown",
   "metadata": {
    "deletable": false,
    "editable": false,
    "nbgrader": {
     "cell_type": "markdown",
     "checksum": "54ee1168eafff56ec3ffa332fa23fc34",
     "grade": false,
     "grade_id": "cell-49ba84023d421e2b",
     "locked": true,
     "schema_version": 3,
     "solution": false,
     "task": false
    },
    "slideshow": {
     "slide_type": "slide"
    }
   },
   "source": [
    "<a name=\"vars\"></a>\n",
    "## Variables and Types\n",
    "Python is dynamically typed. In contrast to statically typed languages, variables (and their types) do not need to be declared before using them.\n",
    "\n",
    "As Python is object-oriented, every variable is an object."
   ]
  },
  {
   "cell_type": "markdown",
   "metadata": {
    "deletable": false,
    "editable": false,
    "nbgrader": {
     "cell_type": "markdown",
     "checksum": "6c3ff2825c1273fb07312bdc927896dd",
     "grade": false,
     "grade_id": "cell-bc2118bf7ff2c29b",
     "locked": true,
     "schema_version": 3,
     "solution": false,
     "task": false
    },
    "slideshow": {
     "slide_type": "subslide"
    }
   },
   "source": [
    "### Numbers\n",
    "Python natively supports two types of numbers - integers and floating point numbers. The default is integer:"
   ]
  },
  {
   "cell_type": "code",
   "execution_count": null,
   "metadata": {
    "slideshow": {
     "slide_type": "fragment"
    }
   },
   "outputs": [],
   "source": [
    "int_number = 7\n",
    "print(int_number)"
   ]
  },
  {
   "cell_type": "markdown",
   "metadata": {
    "deletable": false,
    "editable": false,
    "nbgrader": {
     "cell_type": "markdown",
     "checksum": "05b170b4fe0bf27f33b1847f5afce1af",
     "grade": false,
     "grade_id": "cell-85e064ea2c871296",
     "locked": true,
     "schema_version": 3,
     "solution": false,
     "task": false
    },
    "slideshow": {
     "slide_type": "subslide"
    }
   },
   "source": [
    "One of the following two notations can be used to define a floating point number:"
   ]
  },
  {
   "cell_type": "code",
   "execution_count": null,
   "metadata": {
    "slideshow": {
     "slide_type": "fragment"
    }
   },
   "outputs": [],
   "source": [
    "float_number = 7.0\n",
    "print(float_number)\n",
    "\n",
    "float_number = float(7)\n",
    "print(float_number)"
   ]
  },
  {
   "cell_type": "markdown",
   "metadata": {
    "deletable": false,
    "editable": false,
    "nbgrader": {
     "cell_type": "markdown",
     "checksum": "6e225c7a3ee789e15767f1a5c5d3bebf",
     "grade": false,
     "grade_id": "cell-b91000d2fc518da8",
     "locked": true,
     "schema_version": 3,
     "solution": false,
     "task": false
    },
    "slideshow": {
     "slide_type": "subslide"
    }
   },
   "source": [
    "### Strings\n",
    "Strings are defined using either a single quote or double quotes:"
   ]
  },
  {
   "cell_type": "code",
   "execution_count": null,
   "metadata": {
    "slideshow": {
     "slide_type": "fragment"
    }
   },
   "outputs": [],
   "source": [
    "hello_string = 'hello'\n",
    "print(hello_string)\n",
    "\n",
    "hello_string = \"hello\"\n",
    "print(hello_string)\n",
    "\n",
    "assert 'hello' == \"hello\""
   ]
  },
  {
   "cell_type": "markdown",
   "metadata": {
    "deletable": false,
    "editable": false,
    "nbgrader": {
     "cell_type": "markdown",
     "checksum": "cc52421b1e88767e403e107301379dda",
     "grade": false,
     "grade_id": "cell-f1ad4217694990f4",
     "locked": true,
     "schema_version": 3,
     "solution": false,
     "task": false
    },
    "slideshow": {
     "slide_type": "subslide"
    }
   },
   "source": [
    "The difference between the two is that using double quotes makes it easy to include apostrophes. (These would terminate the string if using single quotes.)"
   ]
  },
  {
   "cell_type": "code",
   "execution_count": null,
   "metadata": {
    "slideshow": {
     "slide_type": "fragment"
    }
   },
   "outputs": [],
   "source": [
    "apostrophe_sent = \"Don't worry about apostrophes.\"\n",
    "print(apostrophe_sent)"
   ]
  },
  {
   "cell_type": "markdown",
   "metadata": {
    "deletable": false,
    "editable": false,
    "nbgrader": {
     "cell_type": "markdown",
     "checksum": "de2c0cebab9795fb542133ade1c68eaf",
     "grade": false,
     "grade_id": "cell-fa660dab8e31fc8c",
     "locked": true,
     "schema_version": 3,
     "solution": false,
     "task": false
    },
    "slideshow": {
     "slide_type": "fragment"
    },
    "tags": []
   },
   "source": [
    "A backslash can be added at the end of a line to ignore the newline:"
   ]
  },
  {
   "cell_type": "code",
   "execution_count": null,
   "metadata": {
    "slideshow": {
     "slide_type": "fragment"
    }
   },
   "outputs": [],
   "source": [
    "'This string will not include \\\n",
    "backslashes or newline characters.'"
   ]
  },
  {
   "cell_type": "markdown",
   "metadata": {
    "deletable": false,
    "editable": false,
    "nbgrader": {
     "cell_type": "markdown",
     "checksum": "815f5aa37b27c913ea3a10de0ea62384",
     "grade": false,
     "grade_id": "cell-c32aad48174ee52a",
     "locked": true,
     "schema_version": 3,
     "solution": false,
     "task": false
    },
    "slideshow": {
     "slide_type": "subslide"
    }
   },
   "source": [
    "Simple operators can be executed on numbers and strings:"
   ]
  },
  {
   "cell_type": "code",
   "execution_count": null,
   "metadata": {
    "slideshow": {
     "slide_type": "fragment"
    }
   },
   "outputs": [],
   "source": [
    "one = 1\n",
    "two = 2\n",
    "three = one + two\n",
    "print(three)\n",
    "\n",
    "hello = \"hello\"\n",
    "world = \"world\"\n",
    "helloworld = hello + \" \" + world\n",
    "print(helloworld)"
   ]
  },
  {
   "cell_type": "markdown",
   "metadata": {
    "deletable": false,
    "editable": false,
    "nbgrader": {
     "cell_type": "markdown",
     "checksum": "1c6c6952453d569283eb2c6a0c377409",
     "grade": false,
     "grade_id": "cell-c0824a169e87a946",
     "locked": true,
     "schema_version": 3,
     "solution": false,
     "task": false
    },
    "slideshow": {
     "slide_type": "subslide"
    }
   },
   "source": [
    "Mixing operators between numbers and strings is not supported (``TypeError``):"
   ]
  },
  {
   "cell_type": "code",
   "execution_count": null,
   "metadata": {
    "slideshow": {
     "slide_type": "fragment"
    }
   },
   "outputs": [],
   "source": [
    "# This will throw an exception (=error)\n",
    "one = 1\n",
    "two = 2\n",
    "hello = \"hello\"\n",
    "print(one + two + hello)"
   ]
  },
  {
   "cell_type": "markdown",
   "metadata": {
    "deletable": false,
    "editable": false,
    "nbgrader": {
     "cell_type": "markdown",
     "checksum": "03f08120063f1ae14d2def386865b5ab",
     "grade": false,
     "grade_id": "cell-04cc74cd677874e8",
     "locked": true,
     "schema_version": 3,
     "solution": false,
     "task": false
    },
    "slideshow": {
     "slide_type": "slide"
    }
   },
   "source": [
    "## Python Naming Conventions\n",
    "> - Avoid names that are too general or too wordy. Strike a good balance between the two\n",
    "> - Don't be jackass and name things \"O\", \"l\" or \"I\"\n",
    "\n",
    "*from: [Naming Conventions](https://visualgit.readthedocs.io/en/latest/pages/naming_convention.html)*"
   ]
  },
  {
   "cell_type": "markdown",
   "metadata": {
    "deletable": false,
    "editable": false,
    "nbgrader": {
     "cell_type": "markdown",
     "checksum": "929038008816b308112f6456bb1ec55a",
     "grade": false,
     "grade_id": "cell-cacd727674eda247",
     "locked": true,
     "schema_version": 3,
     "solution": false,
     "task": false
    },
    "slideshow": {
     "slide_type": "subslide"
    }
   },
   "source": [
    "## Python Naming Conventions\n",
    "> - Bad: \n",
    ">   - data_structure, my_list, info_map\n",
    ">   - dictionary_data_representing_word_definitions\n",
    "> - Good: \n",
    ">   - user_profile, menu_options \n",
    ">   - word_definitions\n",
    "\n",
    "*from: [Naming Conventions](https://visualgit.readthedocs.io/en/latest/pages/naming_convention.html)*"
   ]
  },
  {
   "cell_type": "markdown",
   "metadata": {
    "deletable": false,
    "editable": false,
    "nbgrader": {
     "cell_type": "markdown",
     "checksum": "e5362f4fb755ba58375c517ffa79b058",
     "grade": false,
     "grade_id": "cell-f478f58cd8a1c278",
     "locked": true,
     "schema_version": 3,
     "solution": false,
     "task": false
    },
    "slideshow": {
     "slide_type": "subslide"
    }
   },
   "source": [
    "## Python Naming Conventions\n",
    "> - Variable names should be all lower case\n",
    "> - Words in a variable name should be seperated by an underscore\n",
    "\n",
    "*from: [Naming Conventions](https://visualgit.readthedocs.io/en/latest/pages/naming_convention.html)*"
   ]
  },
  {
   "cell_type": "markdown",
   "metadata": {
    "deletable": false,
    "editable": false,
    "nbgrader": {
     "cell_type": "markdown",
     "checksum": "06a09c0c25696a052be0a25fd77aeed6",
     "grade": false,
     "grade_id": "cell-505f0aca685609b7",
     "locked": true,
     "schema_version": 3,
     "solution": false,
     "task": false
    },
    "slideshow": {
     "slide_type": "subslide"
    },
    "tags": []
   },
   "source": [
    "## Keywords\n",
    "The following identifiers are used as reserved words, or keywords of the language, and cannot be used as ordinary identifiers. They must be spelled exactly as written here:\n",
    "\n",
    "- False\n",
    "- None\n",
    "- True\n",
    "- and\n",
    "- as\n",
    "- assert\n",
    "- async\n",
    "- await\n",
    "- break\n",
    "- class\n",
    "- continue\n",
    "- def\n",
    "- del\n",
    "- elif\n",
    "- else\n",
    "- ecept\n",
    "- finally\n",
    "- for \n",
    "- from\n",
    "- global\n",
    "- if\n",
    "- import\n",
    "- in\n",
    "- is\n",
    "- lambda\n",
    "- nonlocal\n",
    "- not\n",
    "- or\n",
    "- pass\n",
    "- raise\n",
    "- return\n",
    "- try\n",
    "- while\n",
    "- with\n",
    "- yield\n",
    "\n",
    "__Source:__ https://docs.python.org/3.11/reference/lexical_analysis.html#keywords"
   ]
  },
  {
   "cell_type": "markdown",
   "metadata": {
    "deletable": false,
    "editable": false,
    "nbgrader": {
     "cell_type": "markdown",
     "checksum": "c6f226d1e1c21d8d0e2927a4c5bcf452",
     "grade": false,
     "grade_id": "cell-cd7517cdbfacc54c",
     "locked": true,
     "schema_version": 3,
     "solution": false,
     "task": false
    },
    "slideshow": {
     "slide_type": "slide"
    }
   },
   "source": [
    "<a name=\"lists\"></a>\n",
    "## Lists\n",
    "\n",
    "\n",
    "[![Python List](https://devs.lol/uploads/2021/11/meme-dev-humor-lists-in-python-112.jpg)](https://devs.lol/uploads/2021/11/meme-dev-humor-lists-in-python-112.jpg)\n",
    "\n",
    "Lists are a very essential data type in Python. Think of lists as arrays. They can contain any type of variable and as many variables as needed. Lists can also be iterated over in a straightforward manner:"
   ]
  },
  {
   "cell_type": "code",
   "execution_count": null,
   "metadata": {
    "slideshow": {
     "slide_type": "subslide"
    }
   },
   "outputs": [],
   "source": [
    "number_list = []  # creates an empty list\n",
    "number_list.append(1)  # add elements at the end of the list\n",
    "number_list.append(2)\n",
    "number_list.append(3)\n",
    "print(number_list)\n",
    "print(number_list[0])  # accessing a single list element by its index\n",
    "print(number_list[2])\n",
    "\n",
    "print(\"Looping over the list:\")\n",
    "for number in number_list:\n",
    "    print(number)"
   ]
  },
  {
   "cell_type": "markdown",
   "metadata": {
    "deletable": false,
    "editable": false,
    "nbgrader": {
     "cell_type": "markdown",
     "checksum": "86bca1ba7d6406aaf8acd1c4ed3c5b76",
     "grade": false,
     "grade_id": "cell-9886c8e4609e54b6",
     "locked": true,
     "schema_version": 3,
     "solution": false,
     "task": false
    },
    "slideshow": {
     "slide_type": "subslide"
    }
   },
   "source": [
    "Accessing an index that doesn't exist generates an exception (``IndexError``):"
   ]
  },
  {
   "cell_type": "code",
   "execution_count": null,
   "metadata": {
    "slideshow": {
     "slide_type": "fragment"
    }
   },
   "outputs": [],
   "source": [
    "number_list = [1, 2, 3]\n",
    "print(number_list[9])"
   ]
  },
  {
   "cell_type": "markdown",
   "metadata": {
    "deletable": false,
    "editable": false,
    "nbgrader": {
     "cell_type": "markdown",
     "checksum": "63fdebad2955d5ba05e4321e2ac82bd8",
     "grade": false,
     "grade_id": "cell-897e9dfc5f720dd3",
     "locked": true,
     "schema_version": 3,
     "solution": false,
     "task": false
    },
    "slideshow": {
     "slide_type": "subslide"
    }
   },
   "source": [
    "### Negative Indexing\n",
    "With negative indexing it is possible to count the list elements starting with -1 from the list's tail.\n",
    "\n",
    "![Negative Indexing](https://developers.google.com/edu/python/images/hello.png)"
   ]
  },
  {
   "cell_type": "code",
   "execution_count": null,
   "metadata": {
    "slideshow": {
     "slide_type": "subslide"
    }
   },
   "outputs": [],
   "source": [
    "colors = ['red', 'green', 'blue', 'yellow', 'white', 'black']\n",
    "print('Last element:')\n",
    "print(colors[-1])\n",
    "print('Penultimate element:')\n",
    "print(colors[-2])"
   ]
  },
  {
   "cell_type": "markdown",
   "metadata": {
    "deletable": false,
    "editable": false,
    "nbgrader": {
     "cell_type": "markdown",
     "checksum": "28c3842704d455667b43287b57b06e83",
     "grade": false,
     "grade_id": "cell-73ee847a103a3bba",
     "locked": true,
     "schema_version": 3,
     "solution": false,
     "task": false
    },
    "slideshow": {
     "slide_type": "subslide"
    }
   },
   "source": [
    "### List Slicing\n",
    "Slicing a list is used when you want only want to retrieve a part of the list. The basic slicing syntax is ``start:stop``, with ``start`` being incluse, ``stop`` being exlusive."
   ]
  },
  {
   "cell_type": "code",
   "execution_count": null,
   "metadata": {
    "slideshow": {
     "slide_type": "fragment"
    }
   },
   "outputs": [],
   "source": [
    "numbers = [10, 20, 30, 40, 50, 60, 70, 80, 90]\n",
    "\n",
    "# take elements with index 2 to 6\n",
    "print(numbers[2:7])"
   ]
  },
  {
   "cell_type": "markdown",
   "metadata": {
    "deletable": false,
    "editable": false,
    "nbgrader": {
     "cell_type": "markdown",
     "checksum": "6e110c6ac55ef0221c5f0e5a30d2db7a",
     "grade": false,
     "grade_id": "cell-2b133d4efcd73631",
     "locked": true,
     "schema_version": 3,
     "solution": false,
     "task": false
    },
    "slideshow": {
     "slide_type": "subslide"
    }
   },
   "source": [
    "The full slicing syntax is ``start:stop:step``. ``step`` allows us to only take each nth element from the list:"
   ]
  },
  {
   "cell_type": "code",
   "execution_count": null,
   "metadata": {
    "slideshow": {
     "slide_type": "fragment"
    }
   },
   "outputs": [],
   "source": [
    "# take every 2nd element\n",
    "numbers[2:7:2]"
   ]
  },
  {
   "cell_type": "markdown",
   "metadata": {
    "deletable": false,
    "editable": false,
    "nbgrader": {
     "cell_type": "markdown",
     "checksum": "4a694e1b6e8271d8c162b5a19ba5e518",
     "grade": false,
     "grade_id": "cell-5166a0088bb3235b",
     "locked": true,
     "schema_version": 3,
     "solution": false,
     "task": false
    },
    "slideshow": {
     "slide_type": "subslide"
    }
   },
   "source": [
    "If ``start`` is the first element or ``stop`` is the last, you can drop the index:"
   ]
  },
  {
   "cell_type": "code",
   "execution_count": null,
   "metadata": {
    "slideshow": {
     "slide_type": "fragment"
    }
   },
   "outputs": [],
   "source": [
    "# take the first 5 elements\n",
    "print(numbers[:5])\n",
    "\n",
    "# take all elements beginning from index 5\n",
    "print(numbers[5:])"
   ]
  },
  {
   "cell_type": "markdown",
   "metadata": {
    "deletable": false,
    "editable": false,
    "nbgrader": {
     "cell_type": "markdown",
     "checksum": "a22a3fe5cd72c83bf0904ec2418cb9c8",
     "grade": false,
     "grade_id": "cell-985c78a4881e99eb",
     "locked": true,
     "schema_version": 3,
     "solution": false,
     "task": false
    },
    "slideshow": {
     "slide_type": "fragment"
    }
   },
   "source": [
    "Note that all the indexing methods showed above also work for strings (accessing characters)."
   ]
  },
  {
   "cell_type": "markdown",
   "metadata": {
    "deletable": false,
    "editable": false,
    "nbgrader": {
     "cell_type": "markdown",
     "checksum": "35cd7dc1a85ca7280b7e51659a451761",
     "grade": false,
     "grade_id": "cell-34ce2724627740af",
     "locked": true,
     "schema_version": 3,
     "solution": false,
     "task": false
    },
    "slideshow": {
     "slide_type": "slide"
    }
   },
   "source": [
    "<a name=\"operators\"></a>\n",
    "## Basic Operators\n",
    "Now, take a look at some basic mathematical operators such as ``+``, ``-`` or ``*`` and their behavior.\n",
    "\n",
    "At first, think of the equation $x = 1+\\frac{2\\cdot3}{4}$ and what the value of ``x`` will be. Then, program this equation in Python syntax and print the result."
   ]
  },
  {
   "cell_type": "code",
   "execution_count": null,
   "metadata": {
    "deletable": false,
    "nbgrader": {
     "cell_type": "code",
     "checksum": "d0b5549ac74123bbc20e5eb126ed3eaa",
     "grade": true,
     "grade_id": "cell-fc32f384030efd59",
     "locked": false,
     "points": 0,
     "schema_version": 3,
     "solution": true,
     "task": false
    },
    "slideshow": {
     "slide_type": "fragment"
    }
   },
   "outputs": [],
   "source": [
    "# YOUR CODE HERE\n",
    "raise NotImplementedError()\n",
    "print(x)"
   ]
  },
  {
   "cell_type": "markdown",
   "metadata": {
    "deletable": false,
    "editable": false,
    "nbgrader": {
     "cell_type": "markdown",
     "checksum": "6d8684d11379e4e52a6e1e17c84499b3",
     "grade": false,
     "grade_id": "cell-6d76611dc9a2c097",
     "locked": true,
     "schema_version": 3,
     "solution": false,
     "task": false
    },
    "slideshow": {
     "slide_type": "subslide"
    }
   },
   "source": [
    "**QUESTIONS**\n",
    "\n",
    "1. Are brackets required for grouping some expressions?\n",
    "1. Does Python stick to the mathetmatical order/hierarchy of operations?\n",
    "1. (How) Do you get a float as result?\n",
    "1. Search the Internet to find out what the power operator in Python is, i.e. how this equation will look like in Python syntax: $x = 7^2$?\n",
    "\n"
   ]
  },
  {
   "cell_type": "code",
   "execution_count": null,
   "metadata": {
    "deletable": false,
    "nbgrader": {
     "cell_type": "code",
     "checksum": "fa79f5ebf3eb2dc1fa794696fbdf25bb",
     "grade": true,
     "grade_id": "cell-4496bd5134e3d9e7",
     "locked": false,
     "points": 0,
     "schema_version": 3,
     "solution": true,
     "task": false
    },
    "slideshow": {
     "slide_type": "subslide"
    }
   },
   "outputs": [],
   "source": [
    "# YOUR CODE HERE\n",
    "raise NotImplementedError()\n",
    "print(x)"
   ]
  },
  {
   "cell_type": "markdown",
   "metadata": {
    "deletable": false,
    "editable": false,
    "nbgrader": {
     "cell_type": "markdown",
     "checksum": "1fbf6719fa4b1af9a1aa41953db001ed",
     "grade": false,
     "grade_id": "cell-dafe73c525b2cd5c",
     "locked": true,
     "schema_version": 3,
     "solution": false,
     "task": false
    },
    "slideshow": {
     "slide_type": "subslide"
    }
   },
   "source": [
    "### Basic Operators with Lists and Strings\n",
    "The operators ``+`` and ``*`` can also be applied to lists and strings. See what happens if you run the following code snippets:"
   ]
  },
  {
   "cell_type": "code",
   "execution_count": null,
   "metadata": {
    "slideshow": {
     "slide_type": "fragment"
    }
   },
   "outputs": [],
   "source": [
    "long_list = [1, 2, 3] * 3\n",
    "many_hellos = \"hello \" * 10\n",
    "print(long_list)\n",
    "print(many_hellos)\n",
    "odd_numbers = [1, 3, 5, 7, 9]\n",
    "even_numbers = [2, 4, 6, 8]\n",
    "print(odd_numbers + even_numbers)"
   ]
  },
  {
   "cell_type": "markdown",
   "metadata": {
    "deletable": false,
    "editable": false,
    "nbgrader": {
     "cell_type": "markdown",
     "checksum": "914de101247246189d364f9a1cf68f60",
     "grade": false,
     "grade_id": "cell-1612455b00349caf",
     "locked": true,
     "schema_version": 3,
     "solution": false,
     "task": false
    },
    "slideshow": {
     "slide_type": "fragment"
    }
   },
   "source": [
    "[![String Multiplication](https://pbs.twimg.com/media/EgbsNnZUEAEgaQK.jpg)](https://pbs.twimg.com/media/EgbsNnZUEAEgaQK.jpg)"
   ]
  },
  {
   "cell_type": "markdown",
   "metadata": {
    "deletable": false,
    "editable": false,
    "nbgrader": {
     "cell_type": "markdown",
     "checksum": "6bc72d04d6589197836e6aedcef60ba1",
     "grade": false,
     "grade_id": "cell-cd87dc8ce10d8880",
     "locked": true,
     "schema_version": 3,
     "solution": false,
     "task": false
    },
    "slideshow": {
     "slide_type": "subslide"
    }
   },
   "source": [
    "**QUESTIONS**\n",
    "\n",
    "1. Does a list object preserve the order of the list elements (refer to the output of ``print(odd_numbers + even_numbers)``)?\n",
    "1. What will the result of ``print(long_list * 2)`` be?\n",
    "\n"
   ]
  },
  {
   "cell_type": "code",
   "execution_count": null,
   "metadata": {
    "deletable": false,
    "nbgrader": {
     "cell_type": "code",
     "checksum": "993c7e8849af261d7a1e4dc475c73868",
     "grade": true,
     "grade_id": "cell-262bcff1198d3c37",
     "locked": false,
     "points": 0,
     "schema_version": 3,
     "solution": true,
     "task": false
    },
    "slideshow": {
     "slide_type": "fragment"
    }
   },
   "outputs": [],
   "source": [
    "# YOUR CODE HERE\n",
    "raise NotImplementedError()"
   ]
  },
  {
   "cell_type": "markdown",
   "metadata": {
    "deletable": false,
    "editable": false,
    "nbgrader": {
     "cell_type": "markdown",
     "checksum": "e1a86c9af18435fc5d6ad6b55fd1ad1a",
     "grade": false,
     "grade_id": "cell-3c80d279e70790f7",
     "locked": true,
     "schema_version": 3,
     "solution": false,
     "task": false
    },
    "slideshow": {
     "slide_type": "slide"
    }
   },
   "source": [
    "<a name=\"strings\"></a>\n",
    "## String Operations and Formatting\n",
    "Python comes with a lot of built-in string operations. Here are just a few as an example:"
   ]
  },
  {
   "cell_type": "code",
   "execution_count": null,
   "metadata": {
    "slideshow": {
     "slide_type": "fragment"
    }
   },
   "outputs": [],
   "source": [
    "sentence = 'Johnathan is 25 years old and lives in Boston, MA, USA.'\n",
    "print(sentence.lower())\n",
    "print(sentence.split(\" \"))\n",
    "print(sentence.split(\" \")[0])"
   ]
  },
  {
   "cell_type": "markdown",
   "metadata": {
    "deletable": false,
    "editable": false,
    "nbgrader": {
     "cell_type": "markdown",
     "checksum": "9af53b94d580108f1f7efbbdf226ccb3",
     "grade": false,
     "grade_id": "cell-8e8c82fe7cd462dc",
     "locked": true,
     "schema_version": 3,
     "solution": false,
     "task": false
    },
    "slideshow": {
     "slide_type": "subslide"
    }
   },
   "source": [
    "As of Python version 3.6, string formatting has completely changed and is now easier, faster and more concise than ever. The strings use the prefix ``f`` and are thus called f-strings."
   ]
  },
  {
   "cell_type": "code",
   "execution_count": null,
   "metadata": {
    "slideshow": {
     "slide_type": "fragment"
    }
   },
   "outputs": [],
   "source": [
    "name = \"Johnathan\"\n",
    "age = 25\n",
    "height = 187.2\n",
    "print(\n",
    "    f'{name} is {age} years old.\\nHe is {height:.2f} cm tall.\\nHis favourite number is {odd_numbers[1]}.'\n",
    ")"
   ]
  },
  {
   "cell_type": "markdown",
   "metadata": {
    "deletable": false,
    "editable": false,
    "nbgrader": {
     "cell_type": "markdown",
     "checksum": "22877e32fcf03f9ffcb89779545ab51b",
     "grade": false,
     "grade_id": "cell-ea5c68f1bfb35593",
     "locked": true,
     "schema_version": 3,
     "solution": false,
     "task": false
    },
    "slideshow": {
     "slide_type": "subslide"
    }
   },
   "source": [
    "---\n",
    "**QUESTIONS**\n",
    "\n",
    "1. What happens if you change ``{height:.2f}`` to ``{height:.4f}``?\n",
    "1. Jonathan's nickname is 'John'. Print this with a single line of Python code by indexing the required characters in the string ``name`` directly in the print statement.\n",
    "\n",
    "---"
   ]
  },
  {
   "cell_type": "code",
   "execution_count": null,
   "metadata": {
    "deletable": false,
    "nbgrader": {
     "cell_type": "code",
     "checksum": "f3f2b6d3826ff42892547082fb1a5106",
     "grade": true,
     "grade_id": "cell-a1618f4d3a2e262e",
     "locked": false,
     "points": 0,
     "schema_version": 3,
     "solution": true,
     "task": false
    },
    "slideshow": {
     "slide_type": "fragment"
    }
   },
   "outputs": [],
   "source": [
    "# YOUR CODE HERE\n",
    "raise NotImplementedError()\n",
    "print(f\"{name}'s nickname is {nickname}.\")"
   ]
  },
  {
   "cell_type": "markdown",
   "metadata": {
    "deletable": false,
    "editable": false,
    "nbgrader": {
     "cell_type": "markdown",
     "checksum": "f1494c9cd4e4176e717d3f4facbe78e6",
     "grade": false,
     "grade_id": "cell-e5024379bddee850",
     "locked": true,
     "schema_version": 3,
     "solution": false,
     "task": false
    },
    "slideshow": {
     "slide_type": "subslide"
    }
   },
   "source": [
    "**QUESTIONS**\n",
    "\n",
    "3. How can you use the string function ``count`` to find out how many ``a``s the ``sentence`` contains?\n",
    "4. Can you apply functions iteratively on the same object, e.g. ``lower`` and ``count``?\n",
    "\n"
   ]
  },
  {
   "cell_type": "code",
   "execution_count": null,
   "metadata": {
    "deletable": false,
    "nbgrader": {
     "cell_type": "code",
     "checksum": "0fa07baaa00a377b48a3732bd91452ba",
     "grade": true,
     "grade_id": "cell-ee7fdac581744f9d",
     "locked": false,
     "points": 0,
     "schema_version": 3,
     "solution": true,
     "task": false
    },
    "slideshow": {
     "slide_type": "fragment"
    }
   },
   "outputs": [],
   "source": [
    "# YOUR CODE HERE\n",
    "raise NotImplementedError()\n",
    "print(f\"The sentence '{sentence}' contains {number_a} 'a's.\")"
   ]
  },
  {
   "cell_type": "markdown",
   "metadata": {
    "deletable": false,
    "editable": false,
    "nbgrader": {
     "cell_type": "markdown",
     "checksum": "5269819e7d0a12deab6e89b6469409bc",
     "grade": false,
     "grade_id": "cell-cc13f130ab0f9963",
     "locked": true,
     "schema_version": 3,
     "solution": false,
     "task": false
    },
    "slideshow": {
     "slide_type": "slide"
    }
   },
   "source": [
    "<a name=\"conditions\"></a>\n",
    "## Conditions\n",
    "Python uses boolean variables to evaluate conditions. The boolean values ``True`` and ``False`` are returned when an expression is compared or evaluated. For example:"
   ]
  },
  {
   "cell_type": "code",
   "execution_count": null,
   "metadata": {
    "slideshow": {
     "slide_type": "fragment"
    }
   },
   "outputs": [],
   "source": [
    "x = 2  # value assignment\n",
    "print(x == 2)  # equals\n",
    "print(x != 3)  # is not equal to\n",
    "print(x >= 3)  # is greater than or equal to\n",
    "print(x < 3)  # is lower than"
   ]
  },
  {
   "cell_type": "markdown",
   "metadata": {
    "deletable": false,
    "editable": false,
    "nbgrader": {
     "cell_type": "markdown",
     "checksum": "87efa9c32a5a96d90f64c1727034cb4a",
     "grade": false,
     "grade_id": "cell-a06894f32fa02ef1",
     "locked": true,
     "schema_version": 3,
     "solution": false,
     "task": false
    },
    "slideshow": {
     "slide_type": "subslide"
    }
   },
   "source": [
    "### False Values"
   ]
  },
  {
   "cell_type": "code",
   "execution_count": null,
   "metadata": {
    "slideshow": {
     "slide_type": "fragment"
    }
   },
   "outputs": [],
   "source": [
    "print(bool(None))\n",
    "print(bool(False))\n",
    "print(bool(0))\n",
    "print(bool(0.0))\n",
    "print(bool(''))\n",
    "print(bool([]))"
   ]
  },
  {
   "cell_type": "markdown",
   "metadata": {
    "deletable": false,
    "editable": false,
    "nbgrader": {
     "cell_type": "markdown",
     "checksum": "7654c4d8d610609f8f3e540a526dcb80",
     "grade": false,
     "grade_id": "cell-739a93fab3639add",
     "locked": true,
     "schema_version": 3,
     "solution": false,
     "task": false
    },
    "slideshow": {
     "slide_type": "subslide"
    }
   },
   "source": [
    "### True Values\n",
    "Everything else evaluates to ``True``."
   ]
  },
  {
   "cell_type": "code",
   "execution_count": null,
   "metadata": {
    "slideshow": {
     "slide_type": "fragment"
    }
   },
   "outputs": [],
   "source": [
    "print(bool(41))\n",
    "print(bool('abc'))\n",
    "print(bool([1, 'a', []]))\n",
    "\n",
    "print(bool([False]))\n",
    "print(bool(int))"
   ]
  },
  {
   "cell_type": "markdown",
   "metadata": {
    "deletable": false,
    "editable": false,
    "nbgrader": {
     "cell_type": "markdown",
     "checksum": "3f52dc56c88bcc6b688e4401c847cebb",
     "grade": false,
     "grade_id": "cell-32101507b4816869",
     "locked": true,
     "schema_version": 3,
     "solution": false,
     "task": false
    },
    "slideshow": {
     "slide_type": "subslide"
    }
   },
   "source": [
    "### Boolean Operators\n",
    "The ``and`` and ``or`` boolean operators allow building complex boolean expressions:"
   ]
  },
  {
   "cell_type": "code",
   "execution_count": null,
   "metadata": {
    "slideshow": {
     "slide_type": "fragment"
    }
   },
   "outputs": [],
   "source": [
    "name = \"John\"\n",
    "age = 23\n",
    "if name == \"John\" and age == 23:\n",
    "    print(\"Your name is John, and you are also 23 years old.\")\n",
    "\n",
    "if name == \"John\" or name == \"Rick\":\n",
    "    print(\"Your name is either John or Rick.\")"
   ]
  },
  {
   "cell_type": "markdown",
   "metadata": {
    "deletable": false,
    "editable": false,
    "nbgrader": {
     "cell_type": "markdown",
     "checksum": "ee03d5f13f68b868c914365be2f352d7",
     "grade": false,
     "grade_id": "cell-f8a206dfef59f54c",
     "locked": true,
     "schema_version": 3,
     "solution": false,
     "task": false
    },
    "slideshow": {
     "slide_type": "subslide"
    }
   },
   "source": [
    "### The \"in\" and \"not\" Operators\n",
    "The ``in`` operator could be used to check if a specified object exists within an iterable object container, such as a list. ``not`` is used to invert a statement:"
   ]
  },
  {
   "cell_type": "code",
   "execution_count": null,
   "metadata": {
    "slideshow": {
     "slide_type": "fragment"
    }
   },
   "outputs": [],
   "source": [
    "name = \"John\"\n",
    "if name in [\"John\", \"Rick\"]:\n",
    "    print(\"Your name is either John or Rick.\")\n",
    "\n",
    "if name not in [\"Rick\", \"Steve\"]:\n",
    "    print(\"Your name is other than Rick or Steve.\")"
   ]
  },
  {
   "cell_type": "markdown",
   "metadata": {
    "deletable": false,
    "editable": false,
    "nbgrader": {
     "cell_type": "markdown",
     "checksum": "92cc17f6bb5bd801be176087e32e6078",
     "grade": false,
     "grade_id": "cell-b964a39202cbbb2d",
     "locked": true,
     "schema_version": 3,
     "solution": false,
     "task": false
    },
    "slideshow": {
     "slide_type": "subslide"
    }
   },
   "source": [
    "### The \"is\" Operator\n",
    "Unlike the double equals operator \"==\", the \"is\" operator does not match the values of the variables, but the instances themselves."
   ]
  },
  {
   "cell_type": "code",
   "execution_count": null,
   "metadata": {
    "slideshow": {
     "slide_type": "fragment"
    }
   },
   "outputs": [],
   "source": [
    "x = [1, 2, 3]\n",
    "y = [1, 2, 3]\n",
    "print(x == y)\n",
    "print(x is y)"
   ]
  },
  {
   "cell_type": "markdown",
   "metadata": {
    "deletable": false,
    "editable": false,
    "nbgrader": {
     "cell_type": "markdown",
     "checksum": "ccedf9a5d521f4073888217b43c18881",
     "grade": false,
     "grade_id": "cell-f0a941619ebb07ce",
     "locked": true,
     "schema_version": 3,
     "solution": false,
     "task": false
    },
    "slideshow": {
     "slide_type": "subslide"
    }
   },
   "source": [
    "**QUESTIONS**\n",
    "\n",
    "1. What would you need to change in order for the statement ``print(x is y)`` to be ``True``?\n",
    "1. What is the Boolean value of an empty list?\n",
    "\n",
    "\n"
   ]
  },
  {
   "cell_type": "markdown",
   "metadata": {
    "deletable": false,
    "editable": false,
    "nbgrader": {
     "cell_type": "markdown",
     "checksum": "e3867eb96a03e54719e826d5b0d19824",
     "grade": false,
     "grade_id": "cell-a0ec15d57941486a",
     "locked": true,
     "schema_version": 3,
     "solution": false,
     "task": false
    },
    "slideshow": {
     "slide_type": "subslide"
    }
   },
   "source": [
    "### The if-Statement\n",
    "The full syntax of an if-statement looks as follows:"
   ]
  },
  {
   "cell_type": "code",
   "execution_count": null,
   "metadata": {
    "slideshow": {
     "slide_type": "fragment"
    }
   },
   "outputs": [],
   "source": [
    "x = 5\n",
    "if x > 5:\n",
    "    print(\"x is larger than 5.\")\n",
    "elif x < 5:\n",
    "    print(\"x is smaller than 5.\")\n",
    "else:\n",
    "    print(\"x is 5.\")"
   ]
  },
  {
   "cell_type": "markdown",
   "metadata": {
    "deletable": false,
    "editable": false,
    "nbgrader": {
     "cell_type": "markdown",
     "checksum": "c5a5cab60be9bc3b09df6541d9b0287b",
     "grade": false,
     "grade_id": "cell-7b9dbf618e893673",
     "locked": true,
     "schema_version": 3,
     "solution": false,
     "task": false
    },
    "slideshow": {
     "slide_type": "slide"
    }
   },
   "source": [
    "<a name=\"loops\"></a>\n",
    "## Loops\n",
    "There are two types of loops in Python, ``for`` and ``while``."
   ]
  },
  {
   "cell_type": "markdown",
   "metadata": {
    "deletable": false,
    "editable": false,
    "nbgrader": {
     "cell_type": "markdown",
     "checksum": "cdabb186dd6dc814b921093a28c62d6b",
     "grade": false,
     "grade_id": "cell-95295d956ca366a7",
     "locked": true,
     "schema_version": 3,
     "solution": false,
     "task": false
    },
    "slideshow": {
     "slide_type": "subslide"
    }
   },
   "source": [
    "### The for Loop\n",
    "<img src=\"https://swcarpentry.github.io/python-novice-inflammation/fig/loops_image.png\" width=\"250\">\n"
   ]
  },
  {
   "cell_type": "markdown",
   "metadata": {
    "deletable": false,
    "editable": false,
    "nbgrader": {
     "cell_type": "markdown",
     "checksum": "864efe5bc6d99e7383b234804e557bcb",
     "grade": false,
     "grade_id": "cell-0edcccf0001926e0",
     "locked": true,
     "schema_version": 3,
     "solution": false,
     "task": false
    },
    "slideshow": {
     "slide_type": "subslide"
    }
   },
   "source": [
    "For loops iterate over a given sequence, such as a list."
   ]
  },
  {
   "cell_type": "code",
   "execution_count": null,
   "metadata": {
    "slideshow": {
     "slide_type": "fragment"
    }
   },
   "outputs": [],
   "source": [
    "primes = [2, 3, 5, 7]\n",
    "for prime in primes:\n",
    "    print(prime)"
   ]
  },
  {
   "cell_type": "markdown",
   "metadata": {
    "deletable": false,
    "editable": false,
    "nbgrader": {
     "cell_type": "markdown",
     "checksum": "d086d4949983fdc63fa94bd020886135",
     "grade": false,
     "grade_id": "cell-3c3f9582b2be9725",
     "locked": true,
     "schema_version": 3,
     "solution": false,
     "task": false
    },
    "slideshow": {
     "slide_type": "subslide"
    }
   },
   "source": [
    "For loops can iterate over a sequence of numbers using the ``range`` function. The way ``range`` works is quite similar to list slicing:"
   ]
  },
  {
   "cell_type": "code",
   "execution_count": null,
   "metadata": {
    "slideshow": {
     "slide_type": "fragment"
    }
   },
   "outputs": [],
   "source": [
    "for x in range(5):\n",
    "    print(x)"
   ]
  },
  {
   "cell_type": "code",
   "execution_count": null,
   "metadata": {
    "slideshow": {
     "slide_type": "fragment"
    }
   },
   "outputs": [],
   "source": [
    "for x in range(3, 6):\n",
    "    print(x)"
   ]
  },
  {
   "cell_type": "code",
   "execution_count": null,
   "metadata": {
    "slideshow": {
     "slide_type": "fragment"
    }
   },
   "outputs": [],
   "source": [
    "for x in range(3, 8, 2):\n",
    "    print(x)"
   ]
  },
  {
   "cell_type": "markdown",
   "metadata": {
    "deletable": false,
    "editable": false,
    "nbgrader": {
     "cell_type": "markdown",
     "checksum": "0eddf2cd535acdb8ee0589c5eb6431e0",
     "grade": false,
     "grade_id": "cell-fdafc812dbe446f6",
     "locked": true,
     "schema_version": 3,
     "solution": false,
     "task": false
    },
    "slideshow": {
     "slide_type": "subslide"
    }
   },
   "source": [
    "### while Loops\n",
    "While loops repeat as long as a certain boolean condition is met."
   ]
  },
  {
   "cell_type": "markdown",
   "metadata": {
    "deletable": false,
    "editable": false,
    "nbgrader": {
     "cell_type": "markdown",
     "checksum": "1d9656f46bc5325918cd7566307b752a",
     "grade": false,
     "grade_id": "cell-42d14bee43082424",
     "locked": true,
     "schema_version": 3,
     "solution": false,
     "task": false
    },
    "slideshow": {
     "slide_type": "subslide"
    }
   },
   "source": [
    "**QUESTIONS**\n",
    "\n",
    "1. What does the statement ``count += 1`` do?\n",
    "1. Search the Internet to find out what the statements ``break`` and ``continue`` can be used for.\n"
   ]
  },
  {
   "cell_type": "code",
   "execution_count": null,
   "metadata": {
    "slideshow": {
     "slide_type": "fragment"
    }
   },
   "outputs": [],
   "source": [
    "count = 0\n",
    "while count < 5:\n",
    "    print(count)\n",
    "    count += 1"
   ]
  },
  {
   "cell_type": "markdown",
   "metadata": {
    "deletable": false,
    "editable": false,
    "nbgrader": {
     "cell_type": "markdown",
     "checksum": "53cae562299c5ad3ae85581222a98a02",
     "grade": false,
     "grade_id": "cell-e7d6d5be47f277ad",
     "locked": true,
     "schema_version": 3,
     "solution": false,
     "task": false
    },
    "slideshow": {
     "slide_type": "slide"
    }
   },
   "source": [
    "<a name=\"fcds\"></a>\n",
    "# Functions, Classes and Data Structures"
   ]
  },
  {
   "cell_type": "markdown",
   "metadata": {
    "deletable": false,
    "editable": false,
    "nbgrader": {
     "cell_type": "markdown",
     "checksum": "6ac65ee9c5a1b78cde2d1090b7a949cb",
     "grade": false,
     "grade_id": "cell-870ee96b945965af",
     "locked": true,
     "schema_version": 3,
     "solution": false,
     "task": false
    },
    "slideshow": {
     "slide_type": "slide"
    }
   },
   "source": [
    "<a name=\"pyfunctions\"></a>\n",
    "## Functions\n",
    "\n",
    "Functions in Python are defined using the block keyword ``def`` followed by the function's name. "
   ]
  },
  {
   "cell_type": "code",
   "execution_count": null,
   "metadata": {
    "slideshow": {
     "slide_type": "fragment"
    }
   },
   "outputs": [],
   "source": [
    "def greeting_function():\n",
    "    print(\"Greetings from this function.\")"
   ]
  },
  {
   "cell_type": "markdown",
   "metadata": {
    "deletable": false,
    "editable": false,
    "nbgrader": {
     "cell_type": "markdown",
     "checksum": "4190d9ca643ededa940d23ff99d595bb",
     "grade": false,
     "grade_id": "cell-8b567a0d56bf5058",
     "locked": true,
     "schema_version": 3,
     "solution": false,
     "task": false
    },
    "slideshow": {
     "slide_type": "subslide"
    }
   },
   "source": [
    "Naturally, Python functions can also take arguments and return values:"
   ]
  },
  {
   "cell_type": "code",
   "execution_count": null,
   "metadata": {
    "slideshow": {
     "slide_type": "fragment"
    }
   },
   "outputs": [],
   "source": [
    "def sum_two_numbers(a, b):\n",
    "    print(f'The sum of {a} + {b} is {a + b}.')\n",
    "    return a + b"
   ]
  },
  {
   "cell_type": "markdown",
   "metadata": {
    "deletable": false,
    "editable": false,
    "nbgrader": {
     "cell_type": "markdown",
     "checksum": "2fc99df1a30443e352c423fe820b4f70",
     "grade": false,
     "grade_id": "cell-bad2a110f4492a1c",
     "locked": true,
     "schema_version": 3,
     "solution": false,
     "task": false
    },
    "slideshow": {
     "slide_type": "subslide"
    }
   },
   "source": [
    "Now, let's call the functions"
   ]
  },
  {
   "cell_type": "code",
   "execution_count": null,
   "metadata": {
    "slideshow": {
     "slide_type": "fragment"
    }
   },
   "outputs": [],
   "source": [
    "greeting_function()\n",
    "result = sum_two_numbers(7, 3)"
   ]
  },
  {
   "cell_type": "markdown",
   "metadata": {
    "deletable": false,
    "editable": false,
    "nbgrader": {
     "cell_type": "markdown",
     "checksum": "9311505c7192e9892f38c43987170452",
     "grade": false,
     "grade_id": "cell-f8c91cc11282a4c0",
     "locked": true,
     "schema_version": 3,
     "solution": false,
     "task": false
    },
    "slideshow": {
     "slide_type": "fragment"
    }
   },
   "source": [
    "Note that all Python functions return some value. The return value is ``None`` if the return statement is omitted or the statement is just ``return``. It is also possible to return multiple values."
   ]
  },
  {
   "cell_type": "markdown",
   "metadata": {
    "deletable": false,
    "editable": false,
    "nbgrader": {
     "cell_type": "markdown",
     "checksum": "40e38736268c69d5876fe2e7f1f8790c",
     "grade": false,
     "grade_id": "cell-78eacad5d3d07b81",
     "locked": true,
     "schema_version": 3,
     "solution": false,
     "task": false
    },
    "slideshow": {
     "slide_type": "subslide"
    }
   },
   "source": [
    "### Default Arguments\n",
    "Python allows function arguments to have default values. If the function is called without the argument, the argument gets its default value. The default value is assigned by using assignment operator ``=``."
   ]
  },
  {
   "cell_type": "code",
   "execution_count": null,
   "metadata": {
    "slideshow": {
     "slide_type": "fragment"
    }
   },
   "outputs": [],
   "source": [
    "def sum_two_numbers(a, b=5):\n",
    "    print(f'The sum of {a} + {b} is {a + b}.')\n",
    "    return a + b\n",
    "\n",
    "\n",
    "num_plus5 = sum_two_numbers(3)\n",
    "print(num_plus5)\n",
    "num_plus7 = sum_two_numbers(3, 7)\n",
    "print(num_plus7)"
   ]
  },
  {
   "cell_type": "markdown",
   "metadata": {
    "deletable": false,
    "editable": false,
    "nbgrader": {
     "cell_type": "markdown",
     "checksum": "78bf2a7a92b740361fddd6d9df399689",
     "grade": false,
     "grade_id": "cell-2d1baf7cb668c811",
     "locked": true,
     "schema_version": 3,
     "solution": false,
     "task": false
    },
    "slideshow": {
     "slide_type": "subslide"
    }
   },
   "source": [
    "When using more than one default argument, it adds to readability when including the argument name in the function call:"
   ]
  },
  {
   "cell_type": "code",
   "execution_count": null,
   "metadata": {
    "slideshow": {
     "slide_type": "fragment"
    }
   },
   "outputs": [],
   "source": [
    "def process_string(sentence, lowercase=False, split=False, strip=False):\n",
    "    if lowercase:\n",
    "        sentence = sentence.lower()\n",
    "    if strip:\n",
    "        sentence = sentence.strip()\n",
    "    if split:\n",
    "        sentence = sentence.split()\n",
    "    return sentence\n",
    "\n",
    "\n",
    "process_string('   How Python handles multiple default arguments:    ',\n",
    "               lowercase=True,\n",
    "               strip=True)"
   ]
  },
  {
   "cell_type": "markdown",
   "metadata": {
    "deletable": false,
    "editable": false,
    "nbgrader": {
     "cell_type": "markdown",
     "checksum": "5a93c3428c9745727222a61d24829bc0",
     "grade": false,
     "grade_id": "cell-8448db6a00465230",
     "locked": true,
     "schema_version": 3,
     "solution": false,
     "task": false
    },
    "slideshow": {
     "slide_type": "slide"
    }
   },
   "source": [
    "<a name=\"pyclasses\"></a>\n",
    "## Classes\n",
    "![Cars - The Film](https://www.looper.com/img/gallery/things-about-cars-you-only-notice-as-an-adult/intro-1623126280.webp)"
   ]
  },
  {
   "cell_type": "markdown",
   "metadata": {
    "deletable": false,
    "editable": false,
    "nbgrader": {
     "cell_type": "markdown",
     "checksum": "4a8477f97044656e85ce51b87b988a20",
     "grade": false,
     "grade_id": "cell-efb7f250c451afea",
     "locked": true,
     "schema_version": 3,
     "solution": false,
     "task": false
    },
    "slideshow": {
     "slide_type": "subslide"
    }
   },
   "source": [
    "Objects are an encapsulation of variables and functions into a single entity. Objects get their variables and functions from classes. Classes are essentially a template to create your objects."
   ]
  },
  {
   "cell_type": "markdown",
   "metadata": {
    "deletable": false,
    "editable": false,
    "nbgrader": {
     "cell_type": "markdown",
     "checksum": "f901b82bc83626b1c856c109cdd00d0b",
     "grade": false,
     "grade_id": "cell-63ddc70b9a4c79d5",
     "locked": true,
     "schema_version": 3,
     "solution": false,
     "task": false
    },
    "slideshow": {
     "slide_type": "subslide"
    }
   },
   "source": [
    "This is an example for a basic class named ``Car`` with four class variables and a class function (= method). The last line instantiates a variable ``mcqueen`` that holds an object of type ``Car``:"
   ]
  },
  {
   "cell_type": "code",
   "execution_count": null,
   "metadata": {
    "slideshow": {
     "slide_type": "fragment"
    }
   },
   "outputs": [],
   "source": [
    "class Car:\n",
    "    name = \"\"\n",
    "    kind = \"\"\n",
    "    color = \"\"\n",
    "    value = 100000.00\n",
    "\n",
    "    def description(self):\n",
    "        description_str = f\"{self.name} is a {self.color} {self.kind} worth {self.value:.2f} €.\"\n",
    "        return description_str\n",
    "\n",
    "\n",
    "mcqueen = Car()"
   ]
  },
  {
   "cell_type": "markdown",
   "metadata": {
    "deletable": false,
    "editable": false,
    "nbgrader": {
     "cell_type": "markdown",
     "checksum": "e53424505bcc2faaa4134109267b28b7",
     "grade": false,
     "grade_id": "cell-ca86b6a0edf44845",
     "locked": true,
     "schema_version": 3,
     "solution": false,
     "task": false
    },
    "slideshow": {
     "slide_type": "subslide"
    }
   },
   "source": [
    "Set the values of variable ``mcqueen`` and call the object's function:"
   ]
  },
  {
   "cell_type": "code",
   "execution_count": null,
   "metadata": {
    "slideshow": {
     "slide_type": "fragment"
    }
   },
   "outputs": [],
   "source": [
    "mcqueen.name = \"Lightning McQueen\"\n",
    "mcqueen.color = \"red\"\n",
    "mcqueen.kind = \"Corvette\"\n",
    "\n",
    "mcqueen_descr = mcqueen.description()\n",
    "print(mcqueen_descr)"
   ]
  },
  {
   "cell_type": "markdown",
   "metadata": {
    "deletable": false,
    "editable": false,
    "nbgrader": {
     "cell_type": "markdown",
     "checksum": "b7c88a4ff65e36c139336a114422bb63",
     "grade": false,
     "grade_id": "cell-4e403c8af08a700c",
     "locked": true,
     "schema_version": 3,
     "solution": false,
     "task": false
    },
    "slideshow": {
     "slide_type": "subslide"
    }
   },
   "source": [
    "### `__init__()`\n",
    "\n",
    "The example above is a class and object in their simplest form as they are rarely used in real life applications. All Python classes have a built-in method called ``__init__()``, which is always executed automatically when the class is being initiated. The ``__init__()`` method is used to assign values to object properties, or other operations that are necessary to do when the object is being created:"
   ]
  },
  {
   "cell_type": "code",
   "execution_count": null,
   "metadata": {
    "slideshow": {
     "slide_type": "subslide"
    }
   },
   "outputs": [],
   "source": [
    "class Car:\n",
    "\n",
    "    def __init__(self, name, kind, color):\n",
    "        self.name = name\n",
    "        self.kind = kind\n",
    "        self.color = color\n",
    "        self.value = 100000.00\n",
    "\n",
    "    def description(self):\n",
    "        description_str = f\"{self.name} is a {self.color} {self.kind} worth {self.value:.2f} €.\"\n",
    "        return description_str\n",
    "\n",
    "\n",
    "mcqueen = Car('Lightning McQueen', 'Corvette', 'red')\n",
    "print(mcqueen.description())\n",
    "print(mcqueen.name)"
   ]
  },
  {
   "cell_type": "markdown",
   "metadata": {
    "deletable": false,
    "editable": false,
    "nbgrader": {
     "cell_type": "markdown",
     "checksum": "fede639d53ebfa2be57c677dec48ad30",
     "grade": false,
     "grade_id": "cell-442d08de7c5b66d8",
     "locked": true,
     "schema_version": 3,
     "solution": false,
     "task": false
    },
    "slideshow": {
     "slide_type": "subslide"
    }
   },
   "source": [
    "### The self Parameter\n",
    "The ``self`` parameter is a reference to the current instance of the class. It is used to access variables that belong to the class.\n",
    "\n",
    "It does not have to be named ``self``, but it has to be the first parameter of any function in the class."
   ]
  },
  {
   "cell_type": "markdown",
   "metadata": {
    "deletable": false,
    "editable": false,
    "nbgrader": {
     "cell_type": "markdown",
     "checksum": "3bff27d05a6e2cd7a72cd65a44afd279",
     "grade": false,
     "grade_id": "cell-9b35345ee65886b7",
     "locked": true,
     "schema_version": 3,
     "solution": false,
     "task": false
    },
    "slideshow": {
     "slide_type": "subslide"
    },
    "tags": []
   },
   "source": [
    "### Other special method names \n",
    "\n",
    "Apart from `__init__`, there are other reserved special names as well, like `__del__` and `__doc__`. See the [Python Docs](https://docs.python.org/3/reference/datamodel.html#basic-customization) for more information."
   ]
  },
  {
   "cell_type": "markdown",
   "metadata": {
    "deletable": false,
    "editable": false,
    "nbgrader": {
     "cell_type": "markdown",
     "checksum": "44694afd34b6938789421432abad8cf0",
     "grade": false,
     "grade_id": "cell-5848083b5a2e8f49",
     "locked": true,
     "schema_version": 3,
     "solution": false,
     "task": false
    },
    "slideshow": {
     "slide_type": "subslide"
    }
   },
   "source": [
    "### Access modifiers\n",
    "\n",
    "There is not really a way to have the access modifiers implemented in a python class. A workaround is normaly used, where `private` members are named with a leading underscore `_`."
   ]
  },
  {
   "cell_type": "code",
   "execution_count": null,
   "metadata": {
    "slideshow": {
     "slide_type": "fragment"
    }
   },
   "outputs": [],
   "source": [
    "class PrivateCar:\n",
    "    _name = \"\"\n",
    "    _kind = \"\"\n",
    "    _color = \"\"\n",
    "    _value = 100000.00\n",
    "\n",
    "\n",
    "privateMcQueen = PrivateCar()\n",
    "privateMcQueen._name = \"foo\"  # normaly would expect a violation here"
   ]
  },
  {
   "cell_type": "markdown",
   "metadata": {
    "deletable": false,
    "editable": false,
    "nbgrader": {
     "cell_type": "markdown",
     "checksum": "534c1a064aae4295b931f43d4534c560",
     "grade": false,
     "grade_id": "cell-3ef240bc95d19242",
     "locked": true,
     "schema_version": 3,
     "solution": false,
     "task": false
    },
    "slideshow": {
     "slide_type": "subslide"
    }
   },
   "source": [
    "### Class and Instance Variables\n",
    "Source: [Python Docs](https://docs.python.org/3/tutorial/classes.html#class-and-instance-variables).\n",
    "\n",
    "There are two types of variables within a Python Classes, that behave differently:\n",
    "- Class Variables\n",
    "- Instance Variables"
   ]
  },
  {
   "cell_type": "code",
   "execution_count": null,
   "metadata": {
    "slideshow": {
     "slide_type": "subslide"
    }
   },
   "outputs": [],
   "source": [
    "class Dog:\n",
    "\n",
    "    kind = 'canine'  # class variable shared by all instances\n",
    "\n",
    "    def __init__(self, name):\n",
    "        self.name = name  # instance variable unique to each instance"
   ]
  },
  {
   "cell_type": "code",
   "execution_count": null,
   "metadata": {
    "slideshow": {
     "slide_type": "fragment"
    }
   },
   "outputs": [],
   "source": [
    "d = Dog('Fido')\n",
    "e = Dog('Buddy')"
   ]
  },
  {
   "cell_type": "code",
   "execution_count": null,
   "metadata": {
    "slideshow": {
     "slide_type": "fragment"
    }
   },
   "outputs": [],
   "source": [
    "d.kind"
   ]
  },
  {
   "cell_type": "code",
   "execution_count": null,
   "metadata": {
    "slideshow": {
     "slide_type": "fragment"
    }
   },
   "outputs": [],
   "source": [
    "e.kind"
   ]
  },
  {
   "cell_type": "code",
   "execution_count": null,
   "metadata": {
    "slideshow": {
     "slide_type": "fragment"
    }
   },
   "outputs": [],
   "source": [
    "d.name"
   ]
  },
  {
   "cell_type": "code",
   "execution_count": null,
   "metadata": {
    "slideshow": {
     "slide_type": "fragment"
    }
   },
   "outputs": [],
   "source": [
    "e.name"
   ]
  },
  {
   "cell_type": "markdown",
   "metadata": {
    "deletable": false,
    "editable": false,
    "nbgrader": {
     "cell_type": "markdown",
     "checksum": "fad174505f36abf3f41246764322d5ea",
     "grade": false,
     "grade_id": "cell-335a694deb45534f",
     "locked": true,
     "schema_version": 3,
     "solution": false,
     "task": false
    },
    "slideshow": {
     "slide_type": "subslide"
    }
   },
   "source": [
    "__Attention:__ don't mix them up!"
   ]
  },
  {
   "cell_type": "code",
   "execution_count": null,
   "metadata": {
    "slideshow": {
     "slide_type": "fragment"
    }
   },
   "outputs": [],
   "source": [
    "class TrickDog:\n",
    "\n",
    "    tricks = []  # mistaken use of a class variable\n",
    "\n",
    "    def __init__(self, name):\n",
    "        self.name = name\n",
    "\n",
    "    def add_trick(self, trick):\n",
    "        self.tricks.append(trick)"
   ]
  },
  {
   "cell_type": "code",
   "execution_count": null,
   "metadata": {
    "slideshow": {
     "slide_type": "fragment"
    }
   },
   "outputs": [],
   "source": [
    "d = TrickDog('Fido')\n",
    "e = TrickDog('Buddy')\n",
    "d.add_trick('roll over')\n",
    "e.add_trick('play dead')"
   ]
  },
  {
   "cell_type": "code",
   "execution_count": null,
   "metadata": {
    "slideshow": {
     "slide_type": "fragment"
    }
   },
   "outputs": [],
   "source": [
    "e.tricks"
   ]
  },
  {
   "cell_type": "markdown",
   "metadata": {
    "deletable": false,
    "editable": false,
    "nbgrader": {
     "cell_type": "markdown",
     "checksum": "157d153aaee526eb32d8d92fa4199915",
     "grade": false,
     "grade_id": "cell-40fd43821f499722",
     "locked": true,
     "schema_version": 3,
     "solution": false,
     "task": false
    },
    "slideshow": {
     "slide_type": "subslide"
    }
   },
   "source": [
    "__How to make it correct__"
   ]
  },
  {
   "cell_type": "code",
   "execution_count": null,
   "metadata": {
    "slideshow": {
     "slide_type": "fragment"
    }
   },
   "outputs": [],
   "source": [
    "class WinningTrickDog:\n",
    "\n",
    "    def __init__(self, name):\n",
    "        self.name = name\n",
    "        self.tricks = []  # creates a new empty list for each dog\n",
    "\n",
    "    def add_trick(self, trick):\n",
    "        self.tricks.append(trick)"
   ]
  },
  {
   "cell_type": "code",
   "execution_count": null,
   "metadata": {
    "slideshow": {
     "slide_type": "fragment"
    }
   },
   "outputs": [],
   "source": [
    "d = WinningTrickDog('Fido')\n",
    "e = WinningTrickDog('Buddy')\n",
    "d.add_trick('roll over')\n",
    "e.add_trick('play dead')"
   ]
  },
  {
   "cell_type": "code",
   "execution_count": null,
   "metadata": {
    "slideshow": {
     "slide_type": "fragment"
    }
   },
   "outputs": [],
   "source": [
    "d.tricks"
   ]
  },
  {
   "cell_type": "code",
   "execution_count": null,
   "metadata": {
    "slideshow": {
     "slide_type": "fragment"
    }
   },
   "outputs": [],
   "source": [
    "e.tricks"
   ]
  },
  {
   "cell_type": "markdown",
   "metadata": {
    "slideshow": {
     "slide_type": "subslide"
    }
   },
   "source": [
    "### Short Note on a Object's Lifetime\n",
    "\n",
    "Objects are never explicitly destroyed; however, when they become unreachable they may be garbage-collected. An implementation is allowed to postpone garbage collection or omit it altogether — it is a matter of implementation quality how garbage collection is implemented, as long as no objects are collected that are still reachable.\n",
    "\n",
    "__Source:__ https://docs.python.org/3.11/reference/datamodel.html#objects-values-and-types"
   ]
  },
  {
   "cell_type": "markdown",
   "metadata": {
    "deletable": false,
    "editable": false,
    "nbgrader": {
     "cell_type": "markdown",
     "checksum": "f12edcb8a905be8301a29ae001162a98",
     "grade": false,
     "grade_id": "cell-cd2d5a90cd29ca2c",
     "locked": true,
     "schema_version": 3,
     "solution": false,
     "task": false
    },
    "slideshow": {
     "slide_type": "subslide"
    }
   },
   "source": [
    "## Python Naming Conventions\n",
    "> - Function names should be all lower case\n",
    "> - Words in a function name should be separated by an underscore\n",
    "> - Class names should follow the UpperCaseCamelCase convention\n",
    "> - Python’s built-in classes, however, are typically lowercase words"
   ]
  },
  {
   "cell_type": "markdown",
   "metadata": {
    "deletable": false,
    "editable": false,
    "nbgrader": {
     "cell_type": "markdown",
     "checksum": "cc230f32ec2eef926f205f8ac60c6571",
     "grade": false,
     "grade_id": "cell-dd539a29695f05d4",
     "locked": true,
     "schema_version": 3,
     "solution": false,
     "task": false
    },
    "slideshow": {
     "slide_type": "slide"
    }
   },
   "source": [
    "<a name=\"pydicts\"></a>\n",
    "## Dictionaries\n",
    "A dictionary is a data type similar to lists, but works with keys and values instead of indexes. Each value stored in a dictionary can be accessed using a key, which can be any type of object, instead of using its index. A dictionary is indicated by curly brackets ``{}``.\n",
    "![MLB logo](https://cdn.iconscout.com/icon/free/png-256/major-285385.png)"
   ]
  },
  {
   "cell_type": "markdown",
   "metadata": {
    "deletable": false,
    "editable": false,
    "nbgrader": {
     "cell_type": "markdown",
     "checksum": "c0d64472805bbcee5743347f275cc68a",
     "grade": false,
     "grade_id": "cell-b8eda0fd5da94f56",
     "locked": true,
     "schema_version": 3,
     "solution": false,
     "task": false
    },
    "slideshow": {
     "slide_type": "subslide"
    }
   },
   "source": [
    "Fill initially empty dictionary"
   ]
  },
  {
   "cell_type": "code",
   "execution_count": null,
   "metadata": {
    "slideshow": {
     "slide_type": "fragment"
    }
   },
   "outputs": [],
   "source": [
    "MLB_team = {}  # same as MLB = dict()\n",
    "MLB_team['Colorado'] = 'Rockies'\n",
    "MLB_team['Boston'] = 'Red Sox'\n",
    "MLB_team['Minnesota'] = 'Twins'\n",
    "MLB_team['Milwaukee'] = 'Brewers'\n",
    "MLB_team['Seattle'] = 'Mariners'\n",
    "print(MLB_team)"
   ]
  },
  {
   "cell_type": "markdown",
   "metadata": {
    "deletable": false,
    "editable": false,
    "nbgrader": {
     "cell_type": "markdown",
     "checksum": "d94a2276e238d6efe96b5d40e3a7eace",
     "grade": false,
     "grade_id": "cell-2ba411b379ead036",
     "locked": true,
     "schema_version": 3,
     "solution": false,
     "task": false
    },
    "slideshow": {
     "slide_type": "fragment"
    }
   },
   "source": [
    "Directly fill dictionary with items (key:value - pairs)"
   ]
  },
  {
   "cell_type": "code",
   "execution_count": null,
   "metadata": {
    "slideshow": {
     "slide_type": "fragment"
    }
   },
   "outputs": [],
   "source": [
    "MLB_team = {\n",
    "    'Colorado': 'Rockies',\n",
    "    'Boston': 'Red Sox',\n",
    "    'Minnesota': 'Twins',\n",
    "    'Milwaukee': 'Brewers',\n",
    "    'Seattle': 'Mariners'\n",
    "}\n",
    "print(MLB_team)"
   ]
  },
  {
   "cell_type": "markdown",
   "metadata": {
    "deletable": false,
    "editable": false,
    "nbgrader": {
     "cell_type": "markdown",
     "checksum": "266ccc5dfc1abbc350f696613ac00181",
     "grade": false,
     "grade_id": "cell-572bd908cb8ed0ae",
     "locked": true,
     "schema_version": 3,
     "solution": false,
     "task": false
    },
    "slideshow": {
     "slide_type": "subslide"
    }
   },
   "source": [
    "### Accessing Dictionary Values\n",
    "The dictionary entries are displayed in the order they were defined. But that is irrelevant when it comes to retrieving them. Dictionary elements are not accessed by numerical index:"
   ]
  },
  {
   "cell_type": "code",
   "execution_count": null,
   "metadata": {
    "slideshow": {
     "slide_type": "fragment"
    }
   },
   "outputs": [],
   "source": [
    "MLB_team[0]  # this throws an exception"
   ]
  },
  {
   "cell_type": "markdown",
   "metadata": {
    "deletable": false,
    "editable": false,
    "nbgrader": {
     "cell_type": "markdown",
     "checksum": "e1c9b3b5defad39ddc6381820efaabcd",
     "grade": false,
     "grade_id": "cell-f31b6c13aafab225",
     "locked": true,
     "schema_version": 3,
     "solution": false,
     "task": false
    },
    "slideshow": {
     "slide_type": "subslide"
    }
   },
   "source": [
    "The same error is raised when trying to access an inexistent key:"
   ]
  },
  {
   "cell_type": "code",
   "execution_count": null,
   "metadata": {
    "slideshow": {
     "slide_type": "fragment"
    }
   },
   "outputs": [],
   "source": [
    "MLB_team['Pittsburgh']"
   ]
  },
  {
   "cell_type": "markdown",
   "metadata": {
    "deletable": false,
    "editable": false,
    "nbgrader": {
     "cell_type": "markdown",
     "checksum": "83ec7df1d7da429f44f1d3e1a82d8475",
     "grade": false,
     "grade_id": "cell-d8a08d668635f2ff",
     "locked": true,
     "schema_version": 3,
     "solution": false,
     "task": false
    },
    "slideshow": {
     "slide_type": "subslide"
    }
   },
   "source": [
    "Access a dictionary's values using keys. This way, you can also update a given value or delete it."
   ]
  },
  {
   "cell_type": "code",
   "execution_count": null,
   "metadata": {
    "slideshow": {
     "slide_type": "fragment"
    }
   },
   "outputs": [],
   "source": [
    "print(MLB_team['Seattle'])"
   ]
  },
  {
   "cell_type": "code",
   "execution_count": null,
   "metadata": {
    "slideshow": {
     "slide_type": "fragment"
    }
   },
   "outputs": [],
   "source": [
    "MLB_team['Seattle'] = 'Pilots'\n",
    "print(MLB_team['Seattle'])"
   ]
  },
  {
   "cell_type": "code",
   "execution_count": null,
   "metadata": {
    "slideshow": {
     "slide_type": "fragment"
    }
   },
   "outputs": [],
   "source": [
    "del MLB_team['Seattle']  # or: MLB_team.pop('Seattle')\n",
    "print(MLB_team)"
   ]
  },
  {
   "cell_type": "markdown",
   "metadata": {
    "deletable": false,
    "editable": false,
    "nbgrader": {
     "cell_type": "markdown",
     "checksum": "8dda69c2d8c441c4ed8a00aff7b9b81a",
     "grade": false,
     "grade_id": "cell-8816b76b54aced19",
     "locked": true,
     "schema_version": 3,
     "solution": false,
     "task": false
    },
    "slideshow": {
     "slide_type": "subslide"
    }
   },
   "source": [
    "You can also iterate over all dictionary items:"
   ]
  },
  {
   "cell_type": "code",
   "execution_count": null,
   "metadata": {
    "slideshow": {
     "slide_type": "fragment"
    }
   },
   "outputs": [],
   "source": [
    "for city, team in MLB_team.items():\n",
    "    print(f\"{city}'s team is called {team}.\")"
   ]
  },
  {
   "cell_type": "markdown",
   "metadata": {
    "deletable": false,
    "editable": false,
    "nbgrader": {
     "cell_type": "markdown",
     "checksum": "3d3085b746219006a5b290ffdac2d940",
     "grade": false,
     "grade_id": "cell-4c49c618b144f38d",
     "locked": true,
     "schema_version": 3,
     "solution": false,
     "task": false
    },
    "slideshow": {
     "slide_type": "subslide"
    }
   },
   "source": [
    "### Lists vs. Dictionaries\n",
    "1. Both are mutable.\n",
    "2. Both are dynamic. They can grow and shrink as needed.\n",
    "3. Both can be nested. A list can contain another list. A dictionary can contain another dictionary. A dictionary can also contain a list, and vice versa.\n",
    "4. List elements are accessed by their position via indexing.\n",
    "5. Dictionary elements are accessed via keys."
   ]
  },
  {
   "cell_type": "markdown",
   "metadata": {
    "deletable": false,
    "editable": false,
    "nbgrader": {
     "cell_type": "markdown",
     "checksum": "efde6f65cb9bf73bf54d1dcaaa8e8492",
     "grade": false,
     "grade_id": "cell-d34af5d41298d63b",
     "locked": true,
     "schema_version": 3,
     "solution": false,
     "task": false
    },
    "slideshow": {
     "slide_type": "slide"
    }
   },
   "source": [
    "<a name=\"pysets\"></a>\n",
    "## Sets\n",
    "Simply put, sets are lists with no duplicate entries. In fact, a set has the following characteristics:\n",
    "- Sets are unordered.\n",
    "- Set elements are unique. Duplicate elements are not allowed.\n",
    "- A set itself may be modified, but the elements contained in the set must be of an immutable type."
   ]
  },
  {
   "cell_type": "markdown",
   "metadata": {
    "deletable": false,
    "editable": false,
    "nbgrader": {
     "cell_type": "markdown",
     "checksum": "a0c70911bc0775aacab4655d0d0c5b1f",
     "grade": false,
     "grade_id": "cell-cd0be17d0d0f9ca2",
     "locked": true,
     "schema_version": 3,
     "solution": false,
     "task": false
    },
    "slideshow": {
     "slide_type": "subslide"
    }
   },
   "source": [
    "## Mutable vs Immutable Objects\n",
    "Simply put, mutable objects can be changed after they are created, while immutable objects can't.\n",
    "\n",
    "**Immutable objects:**\n",
    "\n",
    "int, float, string, tuple, bytes\n",
    "\n",
    "**Mutable objects:**\n",
    "\n",
    "list, dict, set"
   ]
  },
  {
   "cell_type": "markdown",
   "metadata": {
    "deletable": false,
    "editable": false,
    "nbgrader": {
     "cell_type": "markdown",
     "checksum": "707eeccaa333238dd2df0d301b4b90c9",
     "grade": false,
     "grade_id": "cell-e0f0e794854ac2bd",
     "locked": true,
     "schema_version": 3,
     "solution": false,
     "task": false
    },
    "slideshow": {
     "slide_type": "subslide"
    }
   },
   "source": [
    "We now create an object of type int. Note how ``x`` and ``y`` point to the same object. \n",
    "\n",
    "\n",
    "__CPython implementation detail:__ For CPython, `id(x)` is the memory address where `x` is stored.\n"
   ]
  },
  {
   "cell_type": "code",
   "execution_count": null,
   "metadata": {
    "slideshow": {
     "slide_type": "fragment"
    }
   },
   "outputs": [],
   "source": [
    "x = 10\n",
    "y = x\n",
    "print(f'{id(x)}, {id(y)}, {id(10)}')"
   ]
  },
  {
   "cell_type": "markdown",
   "metadata": {
    "deletable": false,
    "editable": false,
    "nbgrader": {
     "cell_type": "markdown",
     "checksum": "a784370c5c8620a581cba7082940ac89",
     "grade": false,
     "grade_id": "cell-4af69dd79e0c4317",
     "locked": true,
     "schema_version": 3,
     "solution": false,
     "task": false
    },
    "slideshow": {
     "slide_type": "fragment"
    }
   },
   "source": [
    "compare the values"
   ]
  },
  {
   "cell_type": "code",
   "execution_count": null,
   "metadata": {
    "slideshow": {
     "slide_type": "fragment"
    }
   },
   "outputs": [],
   "source": [
    "print(x == y)\n",
    "print(x == 10)\n",
    "print(y == 10)"
   ]
  },
  {
   "cell_type": "markdown",
   "metadata": {
    "deletable": false,
    "editable": false,
    "nbgrader": {
     "cell_type": "markdown",
     "checksum": "796fa5266ab8a0f880f86b92c929af52",
     "grade": false,
     "grade_id": "cell-1371181471295c83",
     "locked": true,
     "schema_version": 3,
     "solution": false,
     "task": false
    },
    "slideshow": {
     "slide_type": "fragment"
    }
   },
   "source": [
    "compare the objects (= object ids)"
   ]
  },
  {
   "cell_type": "code",
   "execution_count": null,
   "metadata": {
    "slideshow": {
     "slide_type": "fragment"
    }
   },
   "outputs": [],
   "source": [
    "print(x is y)\n",
    "print(x is 10)\n",
    "print(y is 10)"
   ]
  },
  {
   "cell_type": "markdown",
   "metadata": {
    "deletable": false,
    "editable": false,
    "nbgrader": {
     "cell_type": "markdown",
     "checksum": "e4b0d81bf6631efffc85dda2eed2824a",
     "grade": false,
     "grade_id": "cell-c08172b088502730",
     "locked": true,
     "schema_version": 3,
     "solution": false,
     "task": false
    },
    "slideshow": {
     "slide_type": "subslide"
    }
   },
   "source": [
    "See what happens when we change the value of \"x\":"
   ]
  },
  {
   "cell_type": "code",
   "execution_count": null,
   "metadata": {
    "slideshow": {
     "slide_type": "fragment"
    }
   },
   "outputs": [],
   "source": [
    "x += 1\n",
    "print(f'{id(x)}, {id(y)}, {id(10)}')"
   ]
  },
  {
   "cell_type": "markdown",
   "metadata": {
    "deletable": false,
    "editable": false,
    "nbgrader": {
     "cell_type": "markdown",
     "checksum": "e9d93a02cafaed237b3f62cf545acfee",
     "grade": false,
     "grade_id": "cell-04a2b55cc15cadd0",
     "locked": true,
     "schema_version": 3,
     "solution": false,
     "task": false
    },
    "slideshow": {
     "slide_type": "fragment"
    }
   },
   "source": [
    "compare the values"
   ]
  },
  {
   "cell_type": "code",
   "execution_count": null,
   "metadata": {
    "slideshow": {
     "slide_type": "fragment"
    }
   },
   "outputs": [],
   "source": [
    "print(x == y)\n",
    "print(x == 10)\n",
    "print(y == 10)"
   ]
  },
  {
   "cell_type": "markdown",
   "metadata": {
    "deletable": false,
    "editable": false,
    "nbgrader": {
     "cell_type": "markdown",
     "checksum": "6d9690909f9a531916de959721209883",
     "grade": false,
     "grade_id": "cell-38ebab2bb6673ec2",
     "locked": true,
     "schema_version": 3,
     "solution": false,
     "task": false
    },
    "slideshow": {
     "slide_type": "fragment"
    }
   },
   "source": [
    "compare the objects (= object ids)"
   ]
  },
  {
   "cell_type": "code",
   "execution_count": null,
   "metadata": {
    "slideshow": {
     "slide_type": "fragment"
    }
   },
   "outputs": [],
   "source": [
    "print(x is y)\n",
    "print(x is 10)\n",
    "print(y is 10)"
   ]
  },
  {
   "cell_type": "markdown",
   "metadata": {
    "deletable": false,
    "editable": false,
    "nbgrader": {
     "cell_type": "markdown",
     "checksum": "f24b24a9c055c9375e1b301e9e0594f7",
     "grade": false,
     "grade_id": "cell-137248d39f325bfd",
     "locked": true,
     "schema_version": 3,
     "solution": false,
     "task": false
    },
    "slideshow": {
     "slide_type": "subslide"
    }
   },
   "source": [
    "\"Changing the value\" of an immutable object in fact **creates a new object**! Object 10 was never changed."
   ]
  },
  {
   "cell_type": "markdown",
   "metadata": {
    "deletable": false,
    "editable": false,
    "nbgrader": {
     "cell_type": "markdown",
     "checksum": "266c2ac831e3a57cf19fe97e75e3cdb9",
     "grade": false,
     "grade_id": "cell-f369550e211ba389",
     "locked": true,
     "schema_version": 3,
     "solution": false,
     "task": false
    },
    "slideshow": {
     "slide_type": "subslide"
    }
   },
   "source": [
    "Now compare this to the behaviour of a mutable object, e.g. a list:"
   ]
  },
  {
   "cell_type": "code",
   "execution_count": null,
   "metadata": {
    "slideshow": {
     "slide_type": "fragment"
    }
   },
   "outputs": [],
   "source": [
    "first_list = [1, 2, 3]\n",
    "also_first_list = first_list\n",
    "print(f'{id(first_list)}, {id(also_first_list)}')"
   ]
  },
  {
   "cell_type": "markdown",
   "metadata": {
    "deletable": false,
    "editable": false,
    "nbgrader": {
     "cell_type": "markdown",
     "checksum": "4625726fdba510f04503f2c2cd9ca623",
     "grade": false,
     "grade_id": "cell-5d3582bfbb4991a0",
     "locked": true,
     "schema_version": 3,
     "solution": false,
     "task": false
    },
    "slideshow": {
     "slide_type": "fragment"
    }
   },
   "source": [
    "compare the values"
   ]
  },
  {
   "cell_type": "code",
   "execution_count": null,
   "metadata": {
    "slideshow": {
     "slide_type": "fragment"
    }
   },
   "outputs": [],
   "source": [
    "print(first_list == also_first_list)"
   ]
  },
  {
   "cell_type": "markdown",
   "metadata": {
    "deletable": false,
    "editable": false,
    "nbgrader": {
     "cell_type": "markdown",
     "checksum": "e12d4eff14db00a8d0e0377cca2c214c",
     "grade": false,
     "grade_id": "cell-21582ab0d69e17dd",
     "locked": true,
     "schema_version": 3,
     "solution": false,
     "task": false
    },
    "slideshow": {
     "slide_type": "fragment"
    }
   },
   "source": [
    "compare the objects (= object ids)"
   ]
  },
  {
   "cell_type": "code",
   "execution_count": null,
   "metadata": {
    "slideshow": {
     "slide_type": "fragment"
    }
   },
   "outputs": [],
   "source": [
    "print(first_list is also_first_list)"
   ]
  },
  {
   "cell_type": "markdown",
   "metadata": {
    "deletable": false,
    "editable": false,
    "nbgrader": {
     "cell_type": "markdown",
     "checksum": "4c4fb05979bf63bbed5ba0207878fcd5",
     "grade": false,
     "grade_id": "cell-fa4a366303e529f2",
     "locked": true,
     "schema_version": 3,
     "solution": false,
     "task": false
    },
    "slideshow": {
     "slide_type": "subslide"
    }
   },
   "source": [
    "And see what happens if we change the list (e.g. removing an element):"
   ]
  },
  {
   "cell_type": "code",
   "execution_count": null,
   "metadata": {
    "slideshow": {
     "slide_type": "fragment"
    }
   },
   "outputs": [],
   "source": [
    "first_list.pop()\n",
    "print(first_list)\n",
    "print(f'{id(first_list)}, {id(also_first_list)}')"
   ]
  },
  {
   "cell_type": "markdown",
   "metadata": {
    "deletable": false,
    "editable": false,
    "nbgrader": {
     "cell_type": "markdown",
     "checksum": "728e5ac27ab2bd527c8ee2338bb90025",
     "grade": false,
     "grade_id": "cell-fab0dd24b781b7ec",
     "locked": true,
     "schema_version": 3,
     "solution": false,
     "task": false
    },
    "slideshow": {
     "slide_type": "fragment"
    }
   },
   "source": [
    "compare the values"
   ]
  },
  {
   "cell_type": "code",
   "execution_count": null,
   "metadata": {
    "slideshow": {
     "slide_type": "fragment"
    }
   },
   "outputs": [],
   "source": [
    "print(first_list == also_first_list)"
   ]
  },
  {
   "cell_type": "markdown",
   "metadata": {
    "deletable": false,
    "editable": false,
    "nbgrader": {
     "cell_type": "markdown",
     "checksum": "b61f972659b6cdcba67e595054b9c8d7",
     "grade": false,
     "grade_id": "cell-e4874fe820525cb8",
     "locked": true,
     "schema_version": 3,
     "solution": false,
     "task": false
    },
    "slideshow": {
     "slide_type": "fragment"
    }
   },
   "source": [
    "compare the objects (= object ids)"
   ]
  },
  {
   "cell_type": "code",
   "execution_count": null,
   "metadata": {
    "slideshow": {
     "slide_type": "fragment"
    }
   },
   "outputs": [],
   "source": [
    "print(first_list is also_first_list)"
   ]
  },
  {
   "cell_type": "markdown",
   "metadata": {
    "deletable": false,
    "editable": false,
    "nbgrader": {
     "cell_type": "markdown",
     "checksum": "69609e33c860bf4a726e5a214f5b8111",
     "grade": false,
     "grade_id": "cell-b88be5e4df580bd1",
     "locked": true,
     "schema_version": 3,
     "solution": false,
     "task": false
    },
    "slideshow": {
     "slide_type": "subslide"
    }
   },
   "source": [
    "The two lists still point to the same object (same object id). **Both** lists have been affected by the modification!\n",
    "\n",
    "*from: [Blog post](https://medium.com/@meghamohan/mutable-and-immutable-side-of-python-c2145cf72747)*"
   ]
  },
  {
   "cell_type": "code",
   "execution_count": null,
   "metadata": {
    "slideshow": {
     "slide_type": "fragment"
    }
   },
   "outputs": [],
   "source": [
    "print(first_list)\n",
    "print(also_first_list)"
   ]
  },
  {
   "cell_type": "markdown",
   "metadata": {
    "deletable": false,
    "editable": false,
    "nbgrader": {
     "cell_type": "markdown",
     "checksum": "d6fe68a204f4ce8040c2744f619c768f",
     "grade": false,
     "grade_id": "cell-a681f61479681a36",
     "locked": true,
     "schema_version": 3,
     "solution": false,
     "task": false
    },
    "slideshow": {
     "slide_type": "subslide"
    }
   },
   "source": [
    "### Back to sets\n",
    "\n",
    "Let's say you want to collect a list of unique words used in a sentence. This is where a set comes in handy:"
   ]
  },
  {
   "cell_type": "code",
   "execution_count": null,
   "metadata": {
    "slideshow": {
     "slide_type": "fragment"
    }
   },
   "outputs": [],
   "source": [
    "print(set(\"my name is Jonathan and Jonathan is my name\".split()))"
   ]
  },
  {
   "cell_type": "markdown",
   "metadata": {
    "deletable": false,
    "editable": false,
    "nbgrader": {
     "cell_type": "markdown",
     "checksum": "1b9aa27039d944afa86f1d9752b6d1f3",
     "grade": false,
     "grade_id": "cell-6881c1a0957bb0c5",
     "locked": true,
     "schema_version": 3,
     "solution": false,
     "task": false
    },
    "slideshow": {
     "slide_type": "fragment"
    }
   },
   "source": [
    "**QUESTIONS**\n",
    "\n",
    "* Analyze this statement:\n",
    "  1. What does the function split() do to the sentence?\n",
    "  1. What does the print output look like, if you delete the ``set()`` call?\n",
    "  1. What is the difference between the two outputs?"
   ]
  },
  {
   "cell_type": "code",
   "execution_count": null,
   "metadata": {
    "deletable": false,
    "nbgrader": {
     "cell_type": "code",
     "checksum": "c1b6b08415900daa05b7545f13b7b9e5",
     "grade": true,
     "grade_id": "cell-22cac42addd3c000",
     "locked": false,
     "points": 0,
     "schema_version": 3,
     "solution": true,
     "task": false
    },
    "slideshow": {
     "slide_type": "skip"
    }
   },
   "outputs": [],
   "source": [
    "# YOUR CODE HERE\n",
    "raise NotImplementedError()"
   ]
  },
  {
   "cell_type": "markdown",
   "metadata": {
    "deletable": false,
    "editable": false,
    "nbgrader": {
     "cell_type": "markdown",
     "checksum": "68bbc0182dca5d751fac21a105d8bcc5",
     "grade": false,
     "grade_id": "cell-d59e7395c85bee41",
     "locked": true,
     "schema_version": 3,
     "solution": false,
     "task": false
    },
    "slideshow": {
     "slide_type": "subslide"
    }
   },
   "source": [
    "### Set Operations\n",
    "Many of the operations that can be used for Python’s other composite data types don’t make sense for sets. For example, sets can’t be indexed or sliced. However, Python provides a range of operations on set objects that generally mimic the operations that are defined for mathematical sets."
   ]
  },
  {
   "cell_type": "markdown",
   "metadata": {
    "deletable": false,
    "editable": false,
    "nbgrader": {
     "cell_type": "markdown",
     "checksum": "6f1a4fcc80f7f1c745e4b4568468e929",
     "grade": false,
     "grade_id": "cell-49ab1344d96b79d6",
     "locked": true,
     "schema_version": 3,
     "solution": false,
     "task": false
    },
    "slideshow": {
     "slide_type": "subslide"
    }
   },
   "source": [
    "Recall some of these mathematical set operators and try to guess which operator symbols could be used to implement them. Use the two sets of terms below to experiment with these operators.\n",
    "\n",
    "__TODO:__ find out about Python's set operators (union, intersection, difference)"
   ]
  },
  {
   "cell_type": "code",
   "execution_count": null,
   "metadata": {
    "deletable": false,
    "nbgrader": {
     "cell_type": "code",
     "checksum": "59ebd9b60bc94a556f3edc07b79ed83c",
     "grade": true,
     "grade_id": "cell-15aea90fd9474b2e",
     "locked": false,
     "points": 0,
     "schema_version": 3,
     "solution": true,
     "task": false
    },
    "slideshow": {
     "slide_type": "fragment"
    }
   },
   "outputs": [],
   "source": [
    "english_terms = {\n",
    "    \"computer\", \"mouse\", \"keyboard\", \"display\", \"window\", \"application\"\n",
    "}\n",
    "german_terms = {\n",
    "    \"computer\", \"mouse\", \"tastatur\", \"monitor\", \"fenster\", \"anwendung\"\n",
    "}\n",
    "\n",
    "# YOUR CODE HERE\n",
    "raise NotImplementedError()"
   ]
  },
  {
   "cell_type": "markdown",
   "metadata": {
    "deletable": false,
    "editable": false,
    "nbgrader": {
     "cell_type": "markdown",
     "checksum": "1e06d45227398e9bbfaefb14005624bd",
     "grade": false,
     "grade_id": "cell-832e4448002a413e",
     "locked": true,
     "schema_version": 3,
     "solution": false,
     "task": false
    },
    "slideshow": {
     "slide_type": "slide"
    }
   },
   "source": [
    "<a name=\"listcomprehension\"></a>\n",
    "## List Comprehension\n",
    "List comprehensions are an advanced Python topic that are really useful to shorten code (whilst usually remaining readable)."
   ]
  },
  {
   "cell_type": "markdown",
   "metadata": {
    "deletable": false,
    "editable": false,
    "nbgrader": {
     "cell_type": "markdown",
     "checksum": "199cf7528d7b961eead0c9e2e9d9c77a",
     "grade": false,
     "grade_id": "cell-eef5cc192553aa21",
     "locked": true,
     "schema_version": 3,
     "solution": false,
     "task": false
    },
    "slideshow": {
     "slide_type": "subslide"
    }
   },
   "source": [
    "Take a look at the above code and try to explain in words, what it does."
   ]
  },
  {
   "cell_type": "code",
   "execution_count": null,
   "metadata": {
    "slideshow": {
     "slide_type": "fragment"
    }
   },
   "outputs": [],
   "source": [
    "sentence = \"the quick brown fox jumps over the lazy dog\"\n",
    "words = sentence.split()\n",
    "word_lengths = []\n",
    "for word in words:\n",
    "    if word != \"the\":\n",
    "        word_lengths.append(len(word))\n",
    "print(word_lengths)"
   ]
  },
  {
   "cell_type": "markdown",
   "metadata": {
    "deletable": false,
    "editable": false,
    "nbgrader": {
     "cell_type": "markdown",
     "checksum": "5face39f76d2ad850bb3ce8451f591f6",
     "grade": false,
     "grade_id": "cell-ea3fa81edd15a7cf",
     "locked": true,
     "schema_version": 3,
     "solution": false,
     "task": false
    },
    "slideshow": {
     "slide_type": "subslide"
    }
   },
   "source": [
    "Next, look at the code below and see how elegantly this can be achieved in a single line (instead of five):"
   ]
  },
  {
   "cell_type": "code",
   "execution_count": null,
   "metadata": {
    "slideshow": {
     "slide_type": "fragment"
    }
   },
   "outputs": [],
   "source": [
    "word_lengths = [len(word) for word in sentence.split() if word != \"the\"]\n",
    "print(word_lengths)"
   ]
  },
  {
   "cell_type": "markdown",
   "metadata": {
    "deletable": false,
    "editable": false,
    "nbgrader": {
     "cell_type": "markdown",
     "checksum": "1f7386c4bcbaf7108f6532d66a8846f2",
     "grade": false,
     "grade_id": "cell-82d84d1650744fa3",
     "locked": true,
     "schema_version": 3,
     "solution": false,
     "task": false
    },
    "slideshow": {
     "slide_type": "slide"
    }
   },
   "source": [
    "<a name=\"exceptions\"></a>\n",
    "# Exception Handling\n",
    "First, let's consider the following C-style example:"
   ]
  },
  {
   "cell_type": "code",
   "execution_count": null,
   "metadata": {
    "slideshow": {
     "slide_type": "fragment"
    }
   },
   "outputs": [],
   "source": [
    "def some_function(a: int) -> bool:\n",
    "    if 30 > a > 0:\n",
    "        return 0\n",
    "    if a >= 30:\n",
    "        return 1\n",
    "    return -1  # error state\n",
    "\n",
    "\n",
    "print(some_function(-2))"
   ]
  },
  {
   "cell_type": "code",
   "execution_count": null,
   "metadata": {
    "slideshow": {
     "slide_type": "fragment"
    }
   },
   "outputs": [],
   "source": [
    "int(23, 5)"
   ]
  },
  {
   "cell_type": "markdown",
   "metadata": {
    "deletable": false,
    "editable": false,
    "nbgrader": {
     "cell_type": "markdown",
     "checksum": "58d1ad4d46e2c2191ceab835c3934716",
     "grade": false,
     "grade_id": "cell-cf0e7ba0b523e91c",
     "locked": true,
     "schema_version": 3,
     "solution": false,
     "task": false
    },
    "slideshow": {
     "slide_type": "subslide"
    }
   },
   "source": [
    "#### General Structure \n",
    "of a try-except block looks like:\n",
    "\n",
    "```Python\n",
    "try:\n",
    "    # You do your operations here;\n",
    "\n",
    "except ExceptionI:\n",
    "    # If there is ExceptionI, then execute this block.\n",
    "\n",
    "except ExceptionII:\n",
    "    # If there is ExceptionII, then execute this block.\n",
    "\n",
    "else:\n",
    "    # If there is no exception then execute this block. \n",
    "\n",
    "finally:\n",
    "    # This block is always executed\n",
    "```"
   ]
  },
  {
   "cell_type": "markdown",
   "metadata": {
    "deletable": false,
    "editable": false,
    "nbgrader": {
     "cell_type": "markdown",
     "checksum": "2025120458624afe00edd4375a09ba75",
     "grade": false,
     "grade_id": "cell-1ce3f4e2d167b4c5",
     "locked": true,
     "schema_version": 3,
     "solution": false,
     "task": false
    },
    "slideshow": {
     "slide_type": "fragment"
    }
   },
   "source": [
    "#### Properties\n",
    "The above mentions syntax brings up a few properties:\n",
    "\n",
    "- One `try` statement can have multiple except statements (e.g. a `Value Error` and a `Type Error`).\n",
    "\n",
    "- A generic exception clause can be applied (catches all exceptions thrown).\n",
    "\n",
    "- an `else` statement can be used (not in the block's protection)\n"
   ]
  },
  {
   "cell_type": "code",
   "execution_count": null,
   "metadata": {
    "slideshow": {
     "slide_type": "subslide"
    }
   },
   "outputs": [],
   "source": [
    "try:\n",
    "\n",
    "    with open(\"testfile\", \"r\") as fh:\n",
    "        fh.write(\"This is my test file for exception handling!!\")\n",
    "\n",
    "except IOError:\n",
    "    print(\"Error: can\\'t find file or read data\")\n",
    "else:\n",
    "    print(\"Written content in the file successfully\")"
   ]
  },
  {
   "cell_type": "markdown",
   "metadata": {
    "deletable": false,
    "editable": false,
    "nbgrader": {
     "cell_type": "markdown",
     "checksum": "f9a13d13a2385f8a4680835d763487b1",
     "grade": false,
     "grade_id": "cell-929d397064fcb093",
     "locked": true,
     "schema_version": 3,
     "solution": false,
     "task": false
    },
    "slideshow": {
     "slide_type": "subslide"
    }
   },
   "source": [
    "#### try-finally clause\n",
    "the `finally` block is always executed, no matter what."
   ]
  },
  {
   "cell_type": "code",
   "execution_count": null,
   "metadata": {
    "slideshow": {
     "slide_type": "fragment"
    }
   },
   "outputs": [],
   "source": [
    "try:\n",
    "    #raise ValueError\n",
    "    pass\n",
    "except ValueError:\n",
    "    print(\"This is a ValueError\")\n",
    "finally:\n",
    "    print(\"This is always called.\")"
   ]
  },
  {
   "cell_type": "markdown",
   "metadata": {
    "deletable": false,
    "editable": false,
    "nbgrader": {
     "cell_type": "markdown",
     "checksum": "98c28a5293a80391bece57b7cede039b",
     "grade": false,
     "grade_id": "cell-a2ad5e1ea0bf81cd",
     "locked": true,
     "schema_version": 3,
     "solution": false,
     "task": false
    },
    "slideshow": {
     "slide_type": "subslide"
    }
   },
   "source": [
    "#### Argument of an Exception"
   ]
  },
  {
   "cell_type": "code",
   "execution_count": null,
   "metadata": {
    "slideshow": {
     "slide_type": "fragment"
    }
   },
   "outputs": [],
   "source": [
    "# Define a function here.\n",
    "def temp_convert(var):\n",
    "    try:\n",
    "        return int(var)\n",
    "    except ValueError as arg:\n",
    "        print(\"The argument does not contain numbers\\n\", arg)\n",
    "\n",
    "\n",
    "# Call above function here.\n",
    "temp_convert(\"xyz\")"
   ]
  },
  {
   "cell_type": "code",
   "execution_count": null,
   "metadata": {
    "slideshow": {
     "slide_type": "fragment"
    }
   },
   "outputs": [],
   "source": [
    "try:\n",
    "    raise Exception('spam', 'eggs')\n",
    "except Exception as arg:\n",
    "    print(type(arg))  # the exception instance\n",
    "    print(arg.args)  # arguments stored in .args\n",
    "    print(arg)  # __str__ allows args to be printed directly,\n",
    "    # but may be overridden in exception subclasses\n",
    "    \n",
    "    x, y = arg.args  # unpack args\n",
    "    print('x =', x)\n",
    "    print('y =', y)"
   ]
  },
  {
   "cell_type": "markdown",
   "metadata": {
    "deletable": false,
    "editable": false,
    "nbgrader": {
     "cell_type": "markdown",
     "checksum": "4ac25ded70d4902abd0ddae6ea5c0740",
     "grade": false,
     "grade_id": "cell-6937d7c6c5005013",
     "locked": true,
     "schema_version": 3,
     "solution": false,
     "task": false
    },
    "slideshow": {
     "slide_type": "subslide"
    }
   },
   "source": [
    "### Raising Exceptions \n",
    "It is as simple as everything in Python."
   ]
  },
  {
   "cell_type": "code",
   "execution_count": null,
   "metadata": {
    "slideshow": {
     "slide_type": "fragment"
    }
   },
   "outputs": [],
   "source": [
    "raise NameError('Hello World!')"
   ]
  },
  {
   "cell_type": "code",
   "execution_count": null,
   "metadata": {
    "slideshow": {
     "slide_type": "fragment"
    }
   },
   "outputs": [],
   "source": [
    "def some_function3(a: int) -> int:\n",
    "    if a < 0:\n",
    "        raise Exception(\"Hello, is it me you're looking for?\")\n",
    "    else:\n",
    "        raise NameError(\n",
    "            \"Never gonna give you up\\nNever gonna let you down\\nNever gonna run around and desert you\"\n",
    "        )\n",
    "\n",
    "\n",
    "some_function3(0)"
   ]
  },
  {
   "cell_type": "markdown",
   "metadata": {
    "deletable": false,
    "editable": false,
    "nbgrader": {
     "cell_type": "markdown",
     "checksum": "34198fce0ae3794b46c9db8e9c01af71",
     "grade": false,
     "grade_id": "cell-524d256a74a50d4f",
     "locked": true,
     "schema_version": 3,
     "solution": false,
     "task": false
    },
    "slideshow": {
     "slide_type": "subslide"
    }
   },
   "source": [
    "### Exception Chaining"
   ]
  },
  {
   "cell_type": "code",
   "execution_count": null,
   "metadata": {
    "slideshow": {
     "slide_type": "fragment"
    }
   },
   "outputs": [],
   "source": [
    "def func():\n",
    "    raise IOError\n",
    "\n",
    "\n",
    "try:\n",
    "    func()\n",
    "except IOError as exc:\n",
    "    raise RuntimeError('Failed to open database') from exc"
   ]
  },
  {
   "cell_type": "markdown",
   "metadata": {
    "deletable": false,
    "editable": false,
    "nbgrader": {
     "cell_type": "markdown",
     "checksum": "7183e2b49e43a6b0c95beac6dba195a6",
     "grade": false,
     "grade_id": "cell-e772d7c8bfe886e5",
     "locked": true,
     "schema_version": 3,
     "solution": false,
     "task": false
    },
    "slideshow": {
     "slide_type": "subslide"
    }
   },
   "source": [
    "### User-defined Exceptions"
   ]
  },
  {
   "cell_type": "code",
   "execution_count": null,
   "metadata": {
    "slideshow": {
     "slide_type": "fragment"
    }
   },
   "outputs": [],
   "source": [
    "class Error(Exception):\n",
    "    \"\"\"Base class for exceptions in this module.\"\"\"\n",
    "    pass\n",
    "\n",
    "\n",
    "class InputError(Error):\n",
    "    \"\"\"Exception raised for errors in the input.\n",
    "\n",
    "    Attributes:\n",
    "        expression -- input expression in which the error occurred\n",
    "        message -- explanation of the error\n",
    "    \"\"\"\n",
    "\n",
    "    def __init__(self, expression, message):\n",
    "        self.expression = expression\n",
    "        self.message = message"
   ]
  },
  {
   "cell_type": "code",
   "execution_count": null,
   "metadata": {
    "slideshow": {
     "slide_type": "fragment"
    }
   },
   "outputs": [],
   "source": [
    "raise InputError(sum, message=\"This is an explanation.\")"
   ]
  },
  {
   "cell_type": "markdown",
   "metadata": {
    "deletable": false,
    "editable": false,
    "nbgrader": {
     "cell_type": "markdown",
     "checksum": "da277a3b6c4e330435db012642a1d30d",
     "grade": false,
     "grade_id": "cell-333a95caf8d0cfac",
     "locked": true,
     "schema_version": 3,
     "solution": false,
     "task": false
    },
    "slideshow": {
     "slide_type": "slide"
    }
   },
   "source": [
    "<a name=\"exercises\"></a>\n",
    "## Wrap-up Exercises\n",
    "\n",
    "### 1. Simple Math\n",
    "Write  a code snippet implementing the following value assignment: $x = \\frac{5^3-4}{2+6}$. Then, print the result using exactly 2 digits after the decimal point."
   ]
  },
  {
   "cell_type": "code",
   "execution_count": null,
   "metadata": {
    "deletable": false,
    "nbgrader": {
     "cell_type": "code",
     "checksum": "bc0a0b8723c3c28a9b2880ad1bd92fbc",
     "grade": true,
     "grade_id": "cell-b579208c785f960d",
     "locked": false,
     "points": 0,
     "schema_version": 3,
     "solution": true,
     "task": false
    },
    "slideshow": {
     "slide_type": "skip"
    }
   },
   "outputs": [],
   "source": [
    "# YOUR CODE HERE\n",
    "raise NotImplementedError()"
   ]
  },
  {
   "cell_type": "markdown",
   "metadata": {
    "deletable": false,
    "editable": false,
    "nbgrader": {
     "cell_type": "markdown",
     "checksum": "b95e742882ae1533425f4cef65b90094",
     "grade": false,
     "grade_id": "cell-66fe3175f924eabf",
     "locked": true,
     "schema_version": 3,
     "solution": false,
     "task": false
    },
    "slideshow": {
     "slide_type": "fragment"
    }
   },
   "source": [
    "### 2. Loops and Conditions\n",
    "Write a code snippet that loops over all numbers from 1 to 105, checks if the number is divisible by 7 and if so, appends the number to a list ``multiplies_of_seven``. Print the two tailing elements of the list. Finally, loop over this list and print all multiplies of seven. \n",
    "\n",
    "*Hint:* You might need the modulo operator ``%``.\n",
    "\n",
    "*Optional:* Skip the first three entries using ``continue``."
   ]
  },
  {
   "cell_type": "code",
   "execution_count": null,
   "metadata": {
    "deletable": false,
    "nbgrader": {
     "cell_type": "code",
     "checksum": "1becfc90d222824ecf86e80fbe25230f",
     "grade": true,
     "grade_id": "cell-392219cbf44d364d",
     "locked": false,
     "points": 0,
     "schema_version": 3,
     "solution": true,
     "task": false
    },
    "slideshow": {
     "slide_type": "skip"
    }
   },
   "outputs": [],
   "source": [
    "# YOUR CODE HERE\n",
    "raise NotImplementedError()"
   ]
  },
  {
   "cell_type": "markdown",
   "metadata": {
    "deletable": false,
    "editable": false,
    "nbgrader": {
     "cell_type": "markdown",
     "checksum": "c0384f52d792075c42ff727d90c96a37",
     "grade": false,
     "grade_id": "cell-18d5ebc5cda4719b",
     "locked": true,
     "schema_version": 3,
     "solution": false,
     "task": false
    },
    "slideshow": {
     "slide_type": "fragment"
    }
   },
   "source": [
    "### 3. Input\n",
    "Use the Python built-in function ``input`` to read in a user-submitted word. Then, check if this word is a palindrome (= spelled the same backwards and forwards). Do so by exploiting negative indexing and slicing. Print an answer corresponding to whether the word is a palindrome or not."
   ]
  },
  {
   "cell_type": "code",
   "execution_count": null,
   "metadata": {
    "deletable": false,
    "nbgrader": {
     "cell_type": "code",
     "checksum": "2a397fdf3b07b47d221b6f622045acdf",
     "grade": true,
     "grade_id": "cell-de50cab6807fead8",
     "locked": false,
     "points": 0,
     "schema_version": 3,
     "solution": true,
     "task": false
    },
    "slideshow": {
     "slide_type": "skip"
    }
   },
   "outputs": [],
   "source": [
    "# YOUR CODE HERE\n",
    "raise NotImplementedError()"
   ]
  },
  {
   "cell_type": "markdown",
   "metadata": {
    "deletable": false,
    "editable": false,
    "nbgrader": {
     "cell_type": "markdown",
     "checksum": "3bfc03f83727625180bbe454c60d5b69",
     "grade": false,
     "grade_id": "cell-730c16702a12a979",
     "locked": true,
     "schema_version": 3,
     "solution": false,
     "task": false
    },
    "slideshow": {
     "slide_type": "subslide"
    }
   },
   "source": [
    "### 4. Functions\n",
    "Write a function ``check_palindrome`` that takes a string as argument and returns ``True`` if the string is a palindrome, else ``False``."
   ]
  },
  {
   "cell_type": "code",
   "execution_count": null,
   "metadata": {
    "deletable": false,
    "nbgrader": {
     "cell_type": "code",
     "checksum": "9e826a291ea4ac48c70a3169d6825932",
     "grade": true,
     "grade_id": "cell-af8d30adecfd27c3",
     "locked": false,
     "points": 0,
     "schema_version": 3,
     "solution": true,
     "task": false
    },
    "slideshow": {
     "slide_type": "skip"
    }
   },
   "outputs": [],
   "source": [
    "# YOUR CODE HERE\n",
    "raise NotImplementedError()"
   ]
  },
  {
   "cell_type": "markdown",
   "metadata": {
    "deletable": false,
    "editable": false,
    "nbgrader": {
     "cell_type": "markdown",
     "checksum": "381201c78769a7e6a864fc568ef72b32",
     "grade": false,
     "grade_id": "cell-0ef62dc7c58aa93e",
     "locked": true,
     "schema_version": 3,
     "solution": false,
     "task": false
    },
    "slideshow": {
     "slide_type": "fragment"
    }
   },
   "source": [
    "### 5. List comprehensions\n",
    "List comprehensions can also contain conditions. Loop over the numbers from 2 to 21 (using ``range``) and store only numbers that are multiples of 3 (using ``%``) to the variable ``multiples3``. If unsure, use the Internet to find out about the correct syntax."
   ]
  },
  {
   "cell_type": "code",
   "execution_count": null,
   "metadata": {
    "deletable": false,
    "nbgrader": {
     "cell_type": "code",
     "checksum": "9f9f11dfc9fb2cbd3a721d9e47d82726",
     "grade": true,
     "grade_id": "cell-46d02438aa4b53ff",
     "locked": false,
     "points": 0,
     "schema_version": 3,
     "solution": true,
     "task": false
    },
    "slideshow": {
     "slide_type": "skip"
    }
   },
   "outputs": [],
   "source": [
    "# YOUR CODE HERE\n",
    "raise NotImplementedError()"
   ]
  },
  {
   "cell_type": "markdown",
   "metadata": {
    "deletable": false,
    "editable": false,
    "nbgrader": {
     "cell_type": "markdown",
     "checksum": "cf2663cdacc4111c48a656ab19c938c1",
     "grade": false,
     "grade_id": "cell-e563f600989a79d4",
     "locked": true,
     "schema_version": 3,
     "solution": false,
     "task": false
    },
    "slideshow": {
     "slide_type": "fragment"
    }
   },
   "source": [
    "### 6. Write a class ``Rocket``. \n",
    "The ``__init__`` function (without parameters) should set the class variables ``x``, ``y`` and ``z`` to zero. Add a method ``move_up`` that increments the ``z`` value by ``1``.\n",
    "\n",
    "Then, create a fleet of 3 rockets and store them in the list ``space_rockets``. Move the first rocket up and then iterate over the list to print there altitudes."
   ]
  },
  {
   "cell_type": "code",
   "execution_count": null,
   "metadata": {
    "deletable": false,
    "nbgrader": {
     "cell_type": "code",
     "checksum": "c54bf91b745914c61c26b40b07b98c37",
     "grade": true,
     "grade_id": "cell-cf22d448d759ce1d",
     "locked": false,
     "points": 0,
     "schema_version": 3,
     "solution": true,
     "task": false
    },
    "slideshow": {
     "slide_type": "skip"
    }
   },
   "outputs": [],
   "source": [
    "# YOUR CODE HERE\n",
    "raise NotImplementedError()"
   ]
  },
  {
   "cell_type": "markdown",
   "metadata": {
    "deletable": false,
    "editable": false,
    "nbgrader": {
     "cell_type": "markdown",
     "checksum": "39a83b126e87a0197afcfbc117d0e52b",
     "grade": false,
     "grade_id": "cell-5903a28b151531b7",
     "locked": true,
     "schema_version": 3,
     "solution": false,
     "task": false
    },
    "slideshow": {
     "slide_type": "fragment"
    },
    "tags": []
   },
   "source": [
    "### 7. Build an exception statement\n",
    "The following block will fail. Correct the block, using an exception, that this will not fail, print a warning that nothing was read, and set a default content."
   ]
  },
  {
   "cell_type": "code",
   "execution_count": null,
   "metadata": {
    "deletable": false,
    "nbgrader": {
     "cell_type": "code",
     "checksum": "7bb7438baeac8b717c138f3b4e9fffb7",
     "grade": true,
     "grade_id": "cell-c6a94c768863d3cb",
     "locked": false,
     "points": 0,
     "schema_version": 3,
     "solution": true,
     "task": false
    },
    "slideshow": {
     "slide_type": "skip"
    },
    "tags": []
   },
   "outputs": [],
   "source": [
    "file_that_does_not_exist = \"non_existent_file.id\"\n",
    "\n",
    "with open(\"dataset.txt\", 'r') as file:\n",
    "    content = file.read()\n",
    "    print(content)\n",
    "\n",
    "# YOUR CODE HERE\n",
    "raise NotImplementedError()"
   ]
  },
  {
   "cell_type": "markdown",
   "metadata": {
    "deletable": false,
    "editable": false,
    "nbgrader": {
     "cell_type": "markdown",
     "checksum": "465e3bb0c2da7f615a5a35af4b38de9e",
     "grade": false,
     "grade_id": "cell-3f9050248b850b58",
     "locked": true,
     "schema_version": 3,
     "solution": false,
     "task": false
    },
    "slideshow": {
     "slide_type": "slide"
    }
   },
   "source": [
    "# Inspriation/Further Reading\n",
    "- [learnpython](https://www.learnpython.org/)\n",
    "- [List Slicing](https://railsware.com/blog/python-for-machine-learning-indexing-and-slicing-for-lists-tuples-strings-and-other-sequential-types/)\n",
    "- [f-strings](https://realpython.com/python-f-strings/)\n",
    "- [CS41](https://stanfordpython.com/)\n",
    "- [Learn X in Y Minutes](https://learnxinyminutes.com/docs/python3/)\n",
    "\n",
    "- [learnpython](https://www.learnpython.org/)\n",
    "- [Classes](https://www.w3schools.com/python/python_classes.asp)\n",
    "- [Default arguments](https://www.geeksforgeeks.org/default-arguments-in-python/)\n",
    "- [Dictionaries](https://realpython.com/python-dicts/)\n",
    "- [Sets](https://realpython.com/python-sets/)"
   ]
  }
 ],
 "metadata": {
  "kernelspec": {
   "display_name": "Python 3 (ipykernel)",
   "language": "python",
   "name": "python3"
  },
  "language_info": {
   "codemirror_mode": {
    "name": "ipython",
    "version": 3
   },
   "file_extension": ".py",
   "mimetype": "text/x-python",
   "name": "python",
   "nbconvert_exporter": "python",
   "pygments_lexer": "ipython3",
   "version": "3.10.12"
  },
  "rise": {
   "theme": "serif"
  }
 },
 "nbformat": 4,
 "nbformat_minor": 4
}
