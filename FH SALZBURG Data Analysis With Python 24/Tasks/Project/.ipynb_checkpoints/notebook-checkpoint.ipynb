{
 "cells": [
  {
   "cell_type": "markdown",
   "metadata": {
    "deletable": false,
    "editable": false,
    "nbgrader": {
     "cell_type": "markdown",
     "checksum": "15a18abf8853d4912caf43bcd2fbed23",
     "grade": false,
     "grade_id": "cell-99f9d3ffb3422445",
     "locked": true,
     "schema_version": 3,
     "solution": false,
     "task": false
    },
    "slideshow": {
     "slide_type": "slide"
    }
   },
   "source": [
    "# Final Project - Final Utilities\n",
    "![Olympic Rings](https://idrottsforum.org/wp-content/uploads/2019/02/winter-olympics.jpg)"
   ]
  },
  {
   "cell_type": "code",
   "execution_count": 1,
   "metadata": {
    "slideshow": {
     "slide_type": "skip"
    }
   },
   "outputs": [
    {
     "name": "stdout",
     "output_type": "stream",
     "text": [
      "Requirement already satisfied: pandas in c:\\users\\quint\\anaconda3\\lib\\site-packages (1.4.4)\n",
      "Requirement already satisfied: matplotlib in c:\\users\\quint\\anaconda3\\lib\\site-packages (3.5.2)\n",
      "Requirement already satisfied: seaborn in c:\\users\\quint\\anaconda3\\lib\\site-packages (0.11.2)\n",
      "Requirement already satisfied: numpy>=1.18.5 in c:\\users\\quint\\anaconda3\\lib\\site-packages (from pandas) (1.21.5)\n",
      "Requirement already satisfied: python-dateutil>=2.8.1 in c:\\users\\quint\\anaconda3\\lib\\site-packages (from pandas) (2.8.2)\n",
      "Requirement already satisfied: pytz>=2020.1 in c:\\users\\quint\\anaconda3\\lib\\site-packages (from pandas) (2022.1)\n",
      "Requirement already satisfied: packaging>=20.0 in c:\\users\\quint\\anaconda3\\lib\\site-packages (from matplotlib) (21.3)\n",
      "Requirement already satisfied: cycler>=0.10 in c:\\users\\quint\\anaconda3\\lib\\site-packages (from matplotlib) (0.11.0)\n",
      "Requirement already satisfied: pyparsing>=2.2.1 in c:\\users\\quint\\anaconda3\\lib\\site-packages (from matplotlib) (3.0.9)\n",
      "Requirement already satisfied: kiwisolver>=1.0.1 in c:\\users\\quint\\anaconda3\\lib\\site-packages (from matplotlib) (1.4.2)\n",
      "Requirement already satisfied: pillow>=6.2.0 in c:\\users\\quint\\anaconda3\\lib\\site-packages (from matplotlib) (9.2.0)\n",
      "Requirement already satisfied: fonttools>=4.22.0 in c:\\users\\quint\\anaconda3\\lib\\site-packages (from matplotlib) (4.25.0)\n",
      "Requirement already satisfied: scipy>=1.0 in c:\\users\\quint\\anaconda3\\lib\\site-packages (from seaborn) (1.9.1)\n",
      "Requirement already satisfied: six>=1.5 in c:\\users\\quint\\anaconda3\\lib\\site-packages (from python-dateutil>=2.8.1->pandas) (1.16.0)\n"
     ]
    }
   ],
   "source": [
    "import pip\n",
    "!pip install pandas matplotlib seaborn"
   ]
  },
  {
   "cell_type": "code",
   "execution_count": 2,
   "metadata": {
    "slideshow": {
     "slide_type": "skip"
    }
   },
   "outputs": [],
   "source": [
    "import pandas as pd\n",
    "import matplotlib.pyplot as plt\n",
    "import seaborn as sns\n",
    "%matplotlib inline"
   ]
  },
  {
   "cell_type": "markdown",
   "metadata": {
    "deletable": false,
    "editable": false,
    "nbgrader": {
     "cell_type": "markdown",
     "checksum": "3fe1b45c6cbe82b2288538efa3c338ff",
     "grade": false,
     "grade_id": "cell-dc6c5271365dee91",
     "locked": true,
     "schema_version": 3,
     "solution": false,
     "task": false
    },
    "slideshow": {
     "slide_type": "subslide"
    }
   },
   "source": [
    "### Read the dataset"
   ]
  },
  {
   "cell_type": "code",
   "execution_count": 31,
   "metadata": {
    "slideshow": {
     "slide_type": "fragment"
    }
   },
   "outputs": [
    {
     "data": {
      "text/html": [
       "<div>\n",
       "<style scoped>\n",
       "    .dataframe tbody tr th:only-of-type {\n",
       "        vertical-align: middle;\n",
       "    }\n",
       "\n",
       "    .dataframe tbody tr th {\n",
       "        vertical-align: top;\n",
       "    }\n",
       "\n",
       "    .dataframe thead th {\n",
       "        text-align: right;\n",
       "    }\n",
       "</style>\n",
       "<table border=\"1\" class=\"dataframe\">\n",
       "  <thead>\n",
       "    <tr style=\"text-align: right;\">\n",
       "      <th></th>\n",
       "      <th>ID</th>\n",
       "      <th>Name</th>\n",
       "      <th>Sex</th>\n",
       "      <th>Age</th>\n",
       "      <th>Height</th>\n",
       "      <th>Weight</th>\n",
       "      <th>Team</th>\n",
       "      <th>NOC</th>\n",
       "      <th>Games</th>\n",
       "      <th>Year</th>\n",
       "      <th>Season</th>\n",
       "      <th>City</th>\n",
       "      <th>Sport</th>\n",
       "      <th>Event</th>\n",
       "      <th>Medal</th>\n",
       "    </tr>\n",
       "  </thead>\n",
       "  <tbody>\n",
       "    <tr>\n",
       "      <th>0</th>\n",
       "      <td>1</td>\n",
       "      <td>A Dijiang</td>\n",
       "      <td>M</td>\n",
       "      <td>24.0</td>\n",
       "      <td>180.0</td>\n",
       "      <td>80.0</td>\n",
       "      <td>China</td>\n",
       "      <td>CHN</td>\n",
       "      <td>1992 Summer</td>\n",
       "      <td>1992</td>\n",
       "      <td>Summer</td>\n",
       "      <td>Barcelona</td>\n",
       "      <td>Basketball</td>\n",
       "      <td>Basketball Men's Basketball</td>\n",
       "      <td>NaN</td>\n",
       "    </tr>\n",
       "    <tr>\n",
       "      <th>1</th>\n",
       "      <td>2</td>\n",
       "      <td>A Lamusi</td>\n",
       "      <td>M</td>\n",
       "      <td>23.0</td>\n",
       "      <td>170.0</td>\n",
       "      <td>60.0</td>\n",
       "      <td>China</td>\n",
       "      <td>CHN</td>\n",
       "      <td>2012 Summer</td>\n",
       "      <td>2012</td>\n",
       "      <td>Summer</td>\n",
       "      <td>London</td>\n",
       "      <td>Judo</td>\n",
       "      <td>Judo Men's Extra-Lightweight</td>\n",
       "      <td>NaN</td>\n",
       "    </tr>\n",
       "    <tr>\n",
       "      <th>2</th>\n",
       "      <td>3</td>\n",
       "      <td>Gunnar Nielsen Aaby</td>\n",
       "      <td>M</td>\n",
       "      <td>24.0</td>\n",
       "      <td>NaN</td>\n",
       "      <td>NaN</td>\n",
       "      <td>Denmark</td>\n",
       "      <td>DEN</td>\n",
       "      <td>1920 Summer</td>\n",
       "      <td>1920</td>\n",
       "      <td>Summer</td>\n",
       "      <td>Antwerpen</td>\n",
       "      <td>Football</td>\n",
       "      <td>Football Men's Football</td>\n",
       "      <td>NaN</td>\n",
       "    </tr>\n",
       "    <tr>\n",
       "      <th>3</th>\n",
       "      <td>4</td>\n",
       "      <td>Edgar Lindenau Aabye</td>\n",
       "      <td>M</td>\n",
       "      <td>34.0</td>\n",
       "      <td>NaN</td>\n",
       "      <td>NaN</td>\n",
       "      <td>Denmark/Sweden</td>\n",
       "      <td>DEN</td>\n",
       "      <td>1900 Summer</td>\n",
       "      <td>1900</td>\n",
       "      <td>Summer</td>\n",
       "      <td>Paris</td>\n",
       "      <td>Tug-Of-War</td>\n",
       "      <td>Tug-Of-War Men's Tug-Of-War</td>\n",
       "      <td>Gold</td>\n",
       "    </tr>\n",
       "    <tr>\n",
       "      <th>4</th>\n",
       "      <td>5</td>\n",
       "      <td>Christine Jacoba Aaftink</td>\n",
       "      <td>F</td>\n",
       "      <td>21.0</td>\n",
       "      <td>185.0</td>\n",
       "      <td>82.0</td>\n",
       "      <td>Netherlands</td>\n",
       "      <td>NED</td>\n",
       "      <td>1988 Winter</td>\n",
       "      <td>1988</td>\n",
       "      <td>Winter</td>\n",
       "      <td>Calgary</td>\n",
       "      <td>Speed Skating</td>\n",
       "      <td>Speed Skating Women's 500 metres</td>\n",
       "      <td>NaN</td>\n",
       "    </tr>\n",
       "  </tbody>\n",
       "</table>\n",
       "</div>"
      ],
      "text/plain": [
       "   ID                      Name Sex   Age  Height  Weight            Team  \\\n",
       "0   1                 A Dijiang   M  24.0   180.0    80.0           China   \n",
       "1   2                  A Lamusi   M  23.0   170.0    60.0           China   \n",
       "2   3       Gunnar Nielsen Aaby   M  24.0     NaN     NaN         Denmark   \n",
       "3   4      Edgar Lindenau Aabye   M  34.0     NaN     NaN  Denmark/Sweden   \n",
       "4   5  Christine Jacoba Aaftink   F  21.0   185.0    82.0     Netherlands   \n",
       "\n",
       "   NOC        Games  Year  Season       City          Sport  \\\n",
       "0  CHN  1992 Summer  1992  Summer  Barcelona     Basketball   \n",
       "1  CHN  2012 Summer  2012  Summer     London           Judo   \n",
       "2  DEN  1920 Summer  1920  Summer  Antwerpen       Football   \n",
       "3  DEN  1900 Summer  1900  Summer      Paris     Tug-Of-War   \n",
       "4  NED  1988 Winter  1988  Winter    Calgary  Speed Skating   \n",
       "\n",
       "                              Event Medal  \n",
       "0       Basketball Men's Basketball   NaN  \n",
       "1      Judo Men's Extra-Lightweight   NaN  \n",
       "2           Football Men's Football   NaN  \n",
       "3       Tug-Of-War Men's Tug-Of-War  Gold  \n",
       "4  Speed Skating Women's 500 metres   NaN  "
      ]
     },
     "execution_count": 31,
     "metadata": {},
     "output_type": "execute_result"
    }
   ],
   "source": [
    "athletes = pd.read_csv('https://raw.githubusercontent.com/ADSLab-Salzburg/DataAnalysiswithPython/main/data/athlete_events.csv')\n",
    "athletes.head()"
   ]
  },
  {
   "cell_type": "markdown",
   "metadata": {
    "deletable": false,
    "editable": false,
    "nbgrader": {
     "cell_type": "markdown",
     "checksum": "12489fa3ba5a69e510a46d9db94ae62a",
     "grade": false,
     "grade_id": "cell-e4f0da833d73b67e",
     "locked": true,
     "schema_version": 3,
     "solution": false,
     "task": false
    }
   },
   "source": [
    "### Quiz\n",
    "\n",
    "Here you have space for your work on the quiz! Good luck and have fun!"
   ]
  },
  {
   "cell_type": "code",
   "execution_count": 37,
   "metadata": {
    "deletable": false,
    "nbgrader": {
     "cell_type": "code",
     "checksum": "620af3ab750956ed743e5878757c9f2e",
     "grade": true,
     "grade_id": "cell-e51ac6e9979a1fd9",
     "locked": false,
     "points": 0,
     "schema_version": 3,
     "solution": true,
     "task": false
    }
   },
   "outputs": [
    {
     "name": "stdout",
     "output_type": "stream",
     "text": [
      "Number of athlete/event combinations: 271116\n",
      "Number of unique countries in the dataset: 230\n",
      "Number of different events in the dataset: 765\n",
      "Number of different sports in the dataset: 66\n",
      "Number of female athletes in the dataset: 33981\n",
      "Number of hosting cities in the dataset: 42\n",
      "Number of individual athletes in the dataset: 135571\n",
      "Number of male athletes in the dataset: 101590\n",
      "The number of medalists in the dataset is: 28251\n",
      "The first modern Olympic Games took place in Athina\n",
      "The athlete who competed in the most events is: Robert Tait McKenzie\n",
      "The most successful athlete (with the most medals) is: Michael Fred Phelps, II\n"
     ]
    }
   ],
   "source": [
    "# YOUR CODE HERE\n",
    "\n",
    "# How many athlete/event combinations are in the dataset (number of rows)?\n",
    "num_rows = len(athletes)\n",
    "print(\"Number of athlete/event combinations:\", num_rows)\n",
    "\n",
    "# How many countries are in the dataset?\n",
    "unique_countries = athletes['NOC'].nunique()\n",
    "print(\"Number of unique countries in the dataset:\", unique_countries)\n",
    "\n",
    "# How many different events are in the dataset?\n",
    "\n",
    "unique_events = athletes['Event'].nunique()\n",
    "print(\"Number of different events in the dataset:\", unique_events)\n",
    "\n",
    "# How many different sport types are in the dataset?\n",
    "\n",
    "unique_sports = athletes['Sport'].nunique()\n",
    "print(\"Number of different sports in the dataset:\", unique_sports)\n",
    "\n",
    "# How many female athletes are in the dataset?\n",
    "\n",
    "female_athletes = athletes[athletes['Sex'] == 'F'].drop_duplicates(subset='ID')\n",
    "num_female_athletes = len(female_athletes)\n",
    "\n",
    "print(\"Number of female athletes in the dataset:\", num_female_athletes)\n",
    "\n",
    "# How many hosting cities are in the dataset?\n",
    "\n",
    "unique_cities = athletes['City'].nunique()\n",
    "print(\"Number of hosting cities in the dataset:\", unique_cities)\n",
    "\n",
    "# How many individual athletes are in the dataset? (Athletes can participate in more than one event)\n",
    "unique_athletes = athletes['ID'].nunique()\n",
    "print(\"Number of individual athletes in the dataset:\", unique_athletes)\n",
    "\n",
    "# How many male athletes are in the dataset?\n",
    "\n",
    "male_athletes = athletes[athletes['Sex'] == 'M'].drop_duplicates(subset='ID')\n",
    "num_male_athletes = len(male_athletes)\n",
    "print(\"Number of male athletes in the dataset:\", num_male_athletes)\n",
    "\n",
    "# How many medalists are in the dataset?\n",
    "medalists_df = athletes[athletes['Medal'].notna()]\n",
    "num_medalists = medalists_df['ID'].nunique()\n",
    "\n",
    "print(\"The number of medalists in the dataset is:\", num_medalists)\n",
    "\n",
    "# Where did the first modern Olympic Games take place?\n",
    "\n",
    "earliest_year_df = athletes[athletes['Year'] == athletes['Year'].min()]\n",
    "first_olympics_city = earliest_year_df.iloc[0]['City']\n",
    "\n",
    "print(f\"The first modern Olympic Games took place in {first_olympics_city}\")\n",
    "\n",
    "# Who is the athlete to compete in the most events? State his/her name.\n",
    "\n",
    "athlete_id_counts = athletes['Name'].value_counts().reset_index()\n",
    "athlete_id_counts.columns = ['Name', 'Event_Count']\n",
    "athlete_with_most_events = athlete_id_counts.iloc[0]\n",
    "most_events_athlete_name = athlete_with_most_events['Name']\n",
    "\n",
    "print(\"The athlete who competed in the most events is:\", most_events_athlete_name)\n",
    "\n",
    "\n",
    "# Who is the most successful athlete (most medasl won)?\n",
    "\n",
    "athlete_medal_counts = athletes.groupby('Name')['Medal'].count()\n",
    "most_successful_athlete = athlete_medal_counts.idxmax()\n",
    "\n",
    "print(f\"The most successful athlete (with the most medals) is: {most_successful_athlete}\")"
   ]
  },
  {
   "cell_type": "markdown",
   "metadata": {
    "deletable": false,
    "editable": false,
    "nbgrader": {
     "cell_type": "markdown",
     "checksum": "b290befa333ea6e66e19eba2806d73d5",
     "grade": false,
     "grade_id": "cell-3e6a27156c55cbb4",
     "locked": true,
     "schema_version": 3,
     "solution": false,
     "task": false
    },
    "slideshow": {
     "slide_type": "subslide"
    }
   },
   "source": [
    "### Extract host cities"
   ]
  },
  {
   "cell_type": "code",
   "execution_count": null,
   "metadata": {
    "deletable": false,
    "nbgrader": {
     "cell_type": "code",
     "checksum": "b7b5dfc7fdfa2f0859caa056923ec819",
     "grade": true,
     "grade_id": "cell-081afccfc637b2fd",
     "locked": false,
     "points": 0,
     "schema_version": 3,
     "solution": true,
     "task": false
    },
    "slideshow": {
     "slide_type": "fragment"
    }
   },
   "outputs": [],
   "source": [
    "# YOUR CODE HERE\n",
    "raise NotImplementedError()"
   ]
  },
  {
   "cell_type": "markdown",
   "metadata": {
    "deletable": false,
    "editable": false,
    "nbgrader": {
     "cell_type": "markdown",
     "checksum": "25a72fd261108c6db3794e332064e258",
     "grade": false,
     "grade_id": "cell-e993e7ea40f0cd30",
     "locked": true,
     "schema_version": 3,
     "solution": false,
     "task": false
    },
    "slideshow": {
     "slide_type": "subslide"
    }
   },
   "source": [
    "## Maps - Primer\n",
    "This is not mandatory. There will be a lab on maps anyway.\n",
    "\n",
    "\n",
    "### \"Reverse-locate\" latitude and longitude\n",
    "\n",
    "We are using GeoPandas to display maps. See [these instructions](https://geopandas.org/install.html) on how to install GeoPandas."
   ]
  },
  {
   "cell_type": "code",
   "execution_count": null,
   "metadata": {},
   "outputs": [],
   "source": [
    "!pip install geopandas geopy descartes"
   ]
  },
  {
   "cell_type": "code",
   "execution_count": null,
   "metadata": {},
   "outputs": [],
   "source": [
    "import geopandas as gpd\n",
    "from  geopy.geocoders import Nominatim"
   ]
  },
  {
   "cell_type": "code",
   "execution_count": null,
   "metadata": {
    "slideshow": {
     "slide_type": "fragment"
    }
   },
   "outputs": [],
   "source": [
    "geolocator = Nominatim(user_agent='TestForOlympic', timeout=100)  # set agent name according to your project\n",
    "latitudes = []\n",
    "longitudes = []\n",
    "\n",
    "for c in host_cities['City']:\n",
    "    loc = geolocator.geocode(c, timeout=100)  # time out to prevent being denied access\n",
    "    print(loc)\n",
    "    latitudes.append(loc.latitude)\n",
    "    longitudes.append(loc.longitude)"
   ]
  },
  {
   "cell_type": "markdown",
   "metadata": {
    "deletable": false,
    "editable": false,
    "nbgrader": {
     "cell_type": "markdown",
     "checksum": "45eb7b4ff068ae07898db2a2379b19f0",
     "grade": false,
     "grade_id": "cell-958a8d1d10051d6e",
     "locked": true,
     "schema_version": 3,
     "solution": false,
     "task": false
    }
   },
   "source": [
    "Adding the captured latitudinal and longitudinal data to the data frame."
   ]
  },
  {
   "cell_type": "code",
   "execution_count": null,
   "metadata": {
    "slideshow": {
     "slide_type": "subslide"
    }
   },
   "outputs": [],
   "source": [
    "host_cities['latitude'] = latitudes\n",
    "host_cities['longitude'] = longitudes\n",
    "host_cities.head()"
   ]
  },
  {
   "cell_type": "markdown",
   "metadata": {
    "deletable": false,
    "editable": false,
    "nbgrader": {
     "cell_type": "markdown",
     "checksum": "ee550fefbf1997b21eaf7805936c2089",
     "grade": false,
     "grade_id": "cell-77618d5daf44d334",
     "locked": true,
     "schema_version": 3,
     "solution": false,
     "task": false
    },
    "slideshow": {
     "slide_type": "subslide"
    }
   },
   "source": [
    "### Define geometry points\n",
    "Let's do that by means of a GeoDataFrame. Here we use the input from the DataFrame fille previously."
   ]
  },
  {
   "cell_type": "code",
   "execution_count": null,
   "metadata": {
    "slideshow": {
     "slide_type": "fragment"
    }
   },
   "outputs": [],
   "source": [
    "host_cities = gpd.GeoDataFrame(host_cities, geometry=gpd.points_from_xy(host_cities.longitude, host_cities.latitude))\n",
    "host_cities.head()"
   ]
  },
  {
   "cell_type": "markdown",
   "metadata": {
    "deletable": false,
    "editable": false,
    "nbgrader": {
     "cell_type": "markdown",
     "checksum": "d31cb44ecff21f079899833190087710",
     "grade": false,
     "grade_id": "cell-87462162ed9ee9f5",
     "locked": true,
     "schema_version": 3,
     "solution": false,
     "task": false
    },
    "slideshow": {
     "slide_type": "subslide"
    }
   },
   "source": [
    "### Draw and save map\n",
    "With this piece of code you can create your own map. For more on maps, stay tuned to the lab on maps."
   ]
  },
  {
   "cell_type": "code",
   "execution_count": null,
   "metadata": {
    "slideshow": {
     "slide_type": "fragment"
    }
   },
   "outputs": [],
   "source": [
    "world = gpd.read_file(gpd.datasets.get_path('naturalearth_lowres'))\n",
    "base = world.plot(color='lightgrey', edgecolor='black', figsize=(20,10))\n",
    "host_cities.plot(ax=base, marker='*', color='red', markersize=75)\n",
    "\n",
    "# annotation - but it is not useful for this example\n",
    "#for x, y, label in zip(host_cities.geometry.x, host_cities.geometry.y, host_cities.City):\n",
    "#    base.annotate(label, xy=(x, y), xytext=(3, 3), textcoords=\"offset points\")\n",
    "\n",
    "plt.title('Olympic Game Hosts Since 1896', fontsize=20)\n",
    "#plt.savefig('olympic_hosts.png', dpi=100)  # increase dpi for poster version\n"
   ]
  }
 ],
 "metadata": {
  "kernelspec": {
   "display_name": "Python 3 (ipykernel)",
   "language": "python",
   "name": "python3"
  },
  "language_info": {
   "codemirror_mode": {
    "name": "ipython",
    "version": 3
   },
   "file_extension": ".py",
   "mimetype": "text/x-python",
   "name": "python",
   "nbconvert_exporter": "python",
   "pygments_lexer": "ipython3",
   "version": "3.9.13"
  }
 },
 "nbformat": 4,
 "nbformat_minor": 2
}
